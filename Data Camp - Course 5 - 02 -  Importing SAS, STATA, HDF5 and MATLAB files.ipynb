{
 "cells": [
  {
   "cell_type": "code",
   "execution_count": 16,
   "metadata": {},
   "outputs": [],
   "source": [
    " ## Accessing file in other working directory using above same comman\n",
    "    \n",
    "import os # <-- package to work with files and connections in the operating system\n",
    "\n",
    "os.getcwd() #<-- gets current working directory\n",
    "os.chdir(\"D:\\Data Camp\\Files\\Course5\") #<-- changes the current working directory\n",
    "\n",
    "import pandas as pd\n",
    "import matplotlib.pyplot as plt"
   ]
  },
  {
   "cell_type": "code",
   "execution_count": 17,
   "metadata": {},
   "outputs": [
    {
     "ename": "IndentationError",
     "evalue": "unexpected indent (<ipython-input-17-5ea7dd206547>, line 35)",
     "output_type": "error",
     "traceback": [
      "\u001b[1;36m  File \u001b[1;32m\"<ipython-input-17-5ea7dd206547>\"\u001b[1;36m, line \u001b[1;32m35\u001b[0m\n\u001b[1;33m    import pickle\u001b[0m\n\u001b[1;37m    ^\u001b[0m\n\u001b[1;31mIndentationError\u001b[0m\u001b[1;31m:\u001b[0m unexpected indent\n"
     ]
    }
   ],
   "source": [
    "### 1) INTRODUCTION\n",
    "\n",
    "## Many file types we can import data from such as \n",
    "    # excel spreadsheets (*.xlxs)\n",
    "    # SAS/ STATA files - statistical softwares \n",
    "                    #  SAS - Statistical Analysis System used in business analytics and biostatistics for its: \n",
    "                            # - Advanced Analytics \n",
    "                            # - Multivariate analysis\n",
    "                            # - Business Intelligence\n",
    "                            # - Data management \n",
    "                            # - Predictive Analysis\n",
    "                            # - Standard for computational analysis\n",
    "                            # - Most common SAS Files extensions - *.SAS7BDAT (dataset files) and *.SAS7BCAT  (catalog files)\n",
    "                            # Needs a context manager initialization via sas7bdat function from  SAS7BDAT package \n",
    "                            \n",
    "                            \n",
    "                    #   STATA - 'Statics' + 'Data' ; used in academic social sciences research such as economics, epidimiology\n",
    "                            # Most common extention *.dta\n",
    "                            # can be imported using pandas without needing to intialize a context manager - pd.read_stata()\n",
    "                            \n",
    "    # HDF5 files \n",
    "        # Heirenrchial Data Format version 5\n",
    "        # Standard for storing large quantities of numerical data\n",
    "        # Datasets in hundreds of gigabytes and terabytes\n",
    "        # HDF5 can scale upto exabytes\n",
    "        # needs to import package h5py and use f5py.File() function\n",
    "        \n",
    "    # Matlab files\n",
    "        # Numerically short for Matrix Laboratory\n",
    "        # Industry standard in disciplines of engineering and science \n",
    "        # due to its powerful linear algebra and matrix capabilities\n",
    "        # Extension : *.mat files\n",
    "        # Data imported via scypy library functions - scipy.io.loadmat() --- read .mat files\n",
    "                                                #   - scipy.io.savemat() --- write .mat files\n",
    "        # .mat file is the collection of objects/ variables in the workspace of matlab from the .mat file\n",
    "    \n",
    "## Pickled file types - \n",
    "    # a native file type fo python\n",
    "    # Concept of pickling a file arises from the following :\n",
    "        # There are a number of datatypes that cannot be saved easily to flat files, such as lists and dictionaries. \n",
    "        # If you want your files to be human readable, you may want to save them as text files in a clever manner. \n",
    "        # JSONs, which you will see in a later chapter, are appropriate for Python dictionaries.\n",
    "        # However, if you merely want to be able to import them into Python, you can serialize them. \n",
    "        # Serialize = converting the object into a sequence of bytes, or a bytestream.\n",
    "\n",
    "        # Example code to import pickle file (dont execute)\n",
    "            # Import pickle package\n",
    "                import pickle\n",
    "\n",
    "            # Open pickle file and load data: d\n",
    "                with open('data.pkl','rb') as file:  #<-- 'rb' specifies it is s read only for a binary file\n",
    "                    d = pickle.load(file)\n",
    "\n",
    "            # Print d\n",
    "                print(d)\n",
    "\n",
    "            # Print datatype of d\n",
    "                print(type(d)) \n",
    "\n",
    "### 2) WORKING WITH EXCEL FILES using pd.ExcelFile \n",
    "\n",
    "### 3) WORKING WITH SAS/STATA files using pandas\n",
    "\n",
    "### 4) Working with HDF5 files\n",
    "\n",
    "### 5) Working with MATLAB files"
   ]
  },
  {
   "cell_type": "code",
   "execution_count": 18,
   "metadata": {},
   "outputs": [
    {
     "name": "stdout",
     "output_type": "stream",
     "text": [
      "['2002', '2004']\n"
     ]
    }
   ],
   "source": [
    "## 2) Working with excel sheets (*xlxs)\n",
    "\n",
    "        # Step 1 : importing excel file - using pd.ExcelFile() \n",
    "        # Step 2 - Listing sheets in Excel files using attribute .sheet_names\n",
    "    \n",
    "    # Import pandas\n",
    "import pandas as pd\n",
    "\n",
    "# Assign spreadsheet filename: file\n",
    "file = 'battledeath.xlsx'\n",
    "\n",
    "# Load spreadsheet: xl\n",
    "xls = pd.ExcelFile(file)\n",
    "\n",
    "# Print sheet names\n",
    "print(xls.sheet_names)  "
   ]
  },
  {
   "cell_type": "code",
   "execution_count": 19,
   "metadata": {},
   "outputs": [
    {
     "name": "stdout",
     "output_type": "stream",
     "text": [
      "  War(country)      2004\n",
      "0  Afghanistan  9.451028\n",
      "1      Albania  0.130354\n",
      "2      Algeria  3.407277\n",
      "3      Andorra  0.000000\n",
      "4       Angola  2.597931\n",
      "  War, age-adjusted mortality due to       2002\n",
      "0                        Afghanistan  36.083990\n",
      "1                            Albania   0.128908\n",
      "2                            Algeria  18.314120\n",
      "3                            Andorra   0.000000\n",
      "4                             Angola  18.964560\n"
     ]
    }
   ],
   "source": [
    "        # Step 3 - Method parse() -- importing any given sheet of your loaded .xlsx file as a DataFrame passing the sheet name or index\n",
    "    \n",
    "# You'll be able to do so by specifying either the sheet's name or its index.\n",
    "\n",
    "# Load a sheet '2004' into a DataFrame by name: df1\n",
    "df1 = xls.parse('2004') #<-- alternatively xls.parse(1) could have been used using index\n",
    "\n",
    "# Print the head of the DataFrame df1\n",
    "print(df1.head()) \n",
    "\n",
    "# Load a sheet '2002' into a DataFrame by index: df2\n",
    "df2 = xls.parse(0)  #<-- alternatively xls.parse('2002') could be used\n",
    "\n",
    "# Print the head of the DataFrame df2\n",
    "print(df2.head())"
   ]
  },
  {
   "cell_type": "code",
   "execution_count": 20,
   "metadata": {},
   "outputs": [
    {
     "name": "stdout",
     "output_type": "stream",
     "text": [
      "               Country  AAM due to War (2002)\n",
      "0              Albania               0.128908\n",
      "1              Algeria              18.314120\n",
      "2              Andorra               0.000000\n",
      "3               Angola              18.964560\n",
      "4  Antigua and Barbuda               0.000000\n",
      "               Country\n",
      "0              Albania\n",
      "1              Algeria\n",
      "2              Andorra\n",
      "3               Angola\n",
      "4  Antigua and Barbuda\n"
     ]
    }
   ],
   "source": [
    "    # Step 4 - Customizing sheet import - Passing additional arguments to Method parse()\n",
    "            # xls.parse(---, usecols=   , skiprows=  , names=  )\n",
    "            # --- - specify sheet name as string or index ; here 0 and 1 for first and second sheet\n",
    "            # usecols = [0,..] specifies a list of coloumns to parse ; here only 1st coloumn in second sheet importing\n",
    "            # skiprows = [0,..] ; specifies list of rows to o skip by indexes; here the first row (index = 0)\n",
    "            # names = ['','',...]; renames the coloumns in this order of list of strings\n",
    "            \n",
    "# Parse the first sheet by index, skip the first row,  and rename the columns: df1\n",
    "df1 = xls.parse(0, skiprows=[0], names=['Country', 'AAM due to War (2002)'])\n",
    "\n",
    "# Print the head of the DataFrame df1\n",
    "print(df1.head())\n",
    "\n",
    "# Parse the first column of the second sheet, skip the first row and rename the column: df2\n",
    "df2 = xls.parse(1, usecols = [0], skiprows= [0], names=['Country'])\n",
    "\n",
    "# Print the head of the DataFrame df2\n",
    "print(df2.head())"
   ]
  },
  {
   "cell_type": "code",
   "execution_count": 21,
   "metadata": {},
   "outputs": [
    {
     "name": "stdout",
     "output_type": "stream",
     "text": [
      "      YEAR           P            S\n",
      "0   1950.0   12.900000   181.899994\n",
      "1   1951.0   11.900000   245.000000\n",
      "2   1952.0   10.700000   250.199997\n",
      "3   1953.0   11.300000   265.899994\n",
      "4   1954.0   11.200000   248.500000\n",
      "5   1955.0   15.100000   278.399994\n",
      "6   1956.0   16.200001   307.299988\n",
      "7   1957.0   15.400000   320.000000\n",
      "8   1958.0   12.700000   305.299988\n",
      "9   1959.0   16.299999   338.000000\n",
      "10  1960.0   15.200000   345.700012\n",
      "11  1961.0   15.300000   356.399994\n",
      "12  1962.0   17.700001   389.399994\n",
      "13  1963.0   19.500000   412.700012\n",
      "14  1964.0   23.200001   443.100006\n",
      "15  1965.0   27.500000   492.200012\n",
      "16  1966.0   30.900000   554.200012\n",
      "17  1967.0   29.000000   575.400024\n",
      "18  1968.0   32.099998   631.900024\n",
      "19  1969.0   33.200001   694.599976\n",
      "20  1970.0   28.600000   708.799988\n",
      "21  1971.0   31.000000   751.099976\n",
      "22  1972.0   36.500000   849.500000\n",
      "23  1973.0   48.099998  1017.200012\n",
      "24  1974.0   58.700001  1060.599976\n",
      "25  1975.0   49.099998  1065.199951\n",
      "26  1976.0   64.500000  1203.199951\n",
      "27  1977.0   70.400002  1328.099976\n",
      "28  1978.0   81.099998  1496.400024\n",
      "29  1979.0   98.699997  1741.800049\n",
      "30  1980.0   92.599998  1912.800049\n",
      "31  1981.0  101.300003  2144.699951\n",
      "32  1982.0   70.900002  2039.400024\n",
      "33  1983.0   85.800003  2114.300049\n",
      "34  1984.0  107.599998  2335.000000\n",
      "35  1985.0   87.599998  2331.399902\n"
     ]
    }
   ],
   "source": [
    "## 3) Working with SAS FILES\n",
    "\n",
    "# Step 1 : import SAS7BDAT function from sas7bdat package  \n",
    "\n",
    "from sas7bdat import SAS7BDAT \n",
    "\n",
    "# Step 2 : Bind the variable file to a connection to the file 'sales.sas7bdat' in a context manager\n",
    "\n",
    "with SAS7BDAT('sales.sas7bdat') as file : #<-- need to install this\n",
    "    \n",
    "    #Step 3 : Within this context we can apply the method .to_data_frame() and store in variable df_sas \n",
    "    df_sas = file.to_data_frame() \n",
    "    \n",
    "    print(df_sas)"
   ]
  },
  {
   "cell_type": "code",
   "execution_count": 22,
   "metadata": {},
   "outputs": [
    {
     "name": "stdout",
     "output_type": "stream",
     "text": [
      "     YEAR     P           S\n",
      "0  1950.0  12.9  181.899994\n",
      "1  1951.0  11.9  245.000000\n",
      "2  1952.0  10.7  250.199997\n",
      "3  1953.0  11.3  265.899994\n",
      "4  1954.0  11.2  248.500000\n"
     ]
    },
    {
     "data": {
      "image/png": "[encoded data removed]",
      "text/plain": [
       "<matplotlib.figure.Figure at 0x1783fc17710>"
      ]
     },
     "metadata": {},
     "output_type": "display_data"
    }
   ],
   "source": [
    "# Print head of DataFrame\n",
    "print(df_sas.head())\n",
    "\n",
    "# Plot histogram of DataFrame features (pandas and pyplot already imported)\n",
    "pd.DataFrame.hist(df_sas[['P']])\n",
    "plt.ylabel('count')\n",
    "plt.show()"
   ]
  },
  {
   "cell_type": "code",
   "execution_count": 23,
   "metadata": {},
   "outputs": [
    {
     "name": "stdout",
     "output_type": "stream",
     "text": [
      "  wbcode               country  disa1  disa2  disa3  disa4  disa5  disa6  \\\n",
      "0    AFG           Afghanistan   0.00   0.00   0.76   0.73    0.0   0.00   \n",
      "1    AGO                Angola   0.32   0.02   0.56   0.00    0.0   0.00   \n",
      "2    ALB               Albania   0.00   0.00   0.02   0.00    0.0   0.00   \n",
      "3    ARE  United Arab Emirates   0.00   0.00   0.00   0.00    0.0   0.00   \n",
      "4    ARG             Argentina   0.00   0.24   0.24   0.00    0.0   0.23   \n",
      "\n",
      "   disa7  disa8   ...    disa16  disa17  disa18  disa19  disa20  disa21  \\\n",
      "0   0.00    0.0   ...       0.0     0.0     0.0    0.00    0.00     0.0   \n",
      "1   0.56    0.0   ...       0.0     0.4     0.0    0.61    0.00     0.0   \n",
      "2   0.00    0.0   ...       0.0     0.0     0.0    0.00    0.00     0.0   \n",
      "3   0.00    0.0   ...       0.0     0.0     0.0    0.00    0.00     0.0   \n",
      "4   0.00    0.0   ...       0.0     0.0     0.0    0.00    0.05     0.0   \n",
      "\n",
      "   disa22  disa23  disa24  disa25  \n",
      "0    0.00    0.02    0.00    0.00  \n",
      "1    0.99    0.98    0.61    0.00  \n",
      "2    0.00    0.00    0.00    0.16  \n",
      "3    0.00    0.00    0.00    0.00  \n",
      "4    0.00    0.01    0.00    0.11  \n",
      "\n",
      "[5 rows x 27 columns]\n"
     ]
    },
    {
     "data": {
      "image/png": "[encoded data removed]",
      "text/plain": [
       "<matplotlib.figure.Figure at 0x1783eb80358>"
      ]
     },
     "metadata": {},
     "output_type": "display_data"
    }
   ],
   "source": [
    "## 3) Working with STATA FILES - *dta\n",
    "\n",
    "# can be imported using pandas without needing to intialize a context manager - pd.read_stata() function\n",
    "\n",
    "import pandas as pd\n",
    "\n",
    "df = pd.read_stata('disarea.dta') \n",
    "\n",
    "# Print the head of the DataFrame df\n",
    "print(df.head())\n",
    "\n",
    "# Plot histogram of one column of the DataFrame\n",
    "pd.DataFrame.hist(df[['disa10']])\n",
    "plt.xlabel('Extent of disease')\n",
    "plt.ylabel('Number of countries')\n",
    "plt.show()\n"
   ]
  },
  {
   "cell_type": "code",
   "execution_count": 33,
   "metadata": {},
   "outputs": [
    {
     "name": "stdout",
     "output_type": "stream",
     "text": [
      "<class 'h5py._hl.files.File'>\n"
     ]
    }
   ],
   "source": [
    "### 4) Working with HDF5 files\n",
    "\n",
    "import numpy as np\n",
    "\n",
    "#needs to import package h5py\n",
    "import h5py\n",
    "\n",
    "#use h5py.File() function to import file\n",
    "filename = 'L-L1_LOSC_4_V1-1126259446-32.hdf5'\n",
    "data = h5py.File(filename, 'r')  # 'r' is to read\n",
    "print(type(data))"
   ]
  },
  {
   "cell_type": "code",
   "execution_count": 34,
   "metadata": {},
   "outputs": [
    {
     "name": "stdout",
     "output_type": "stream",
     "text": [
      "meta\n",
      "quality\n",
      "strain\n"
     ]
    }
   ],
   "source": [
    "# We can explore the heirechial structure of these HDF5 files as we would see that of a dictionary using method .keys()\n",
    "\n",
    "    #Step 1 - Find out the HDF5 main groups (keys of the file)\n",
    "    \n",
    "\n",
    "for key in data.keys():\n",
    "    print(key)  #<-- each of these is an HDF group, equivalent to directories\n",
    "    \n",
    "# In this file the data contains meta group - giving meta data; quality - quality of data ; strain - give actal inferometer of laser data collected of interest"
   ]
  },
  {
   "cell_type": "code",
   "execution_count": 35,
   "metadata": {},
   "outputs": [
    {
     "name": "stdout",
     "output_type": "stream",
     "text": [
      "<class 'h5py._hl.group.Group'>\n"
     ]
    }
   ],
   "source": [
    "# If we knew the groups like above we can access the data separately\n",
    "\n",
    "print(type(data['meta'])) #<-- HDF group\n",
    "\n",
    "#However if we dint knew the exact groups, we can access it easily explore using the heirerchial nature of the file structure"
   ]
  },
  {
   "cell_type": "code",
   "execution_count": 38,
   "metadata": {},
   "outputs": [
    {
     "name": "stdout",
     "output_type": "stream",
     "text": [
      "Description\n",
      "DescriptionURL\n",
      "Detector\n",
      "Duration\n",
      "GPSstart\n",
      "Observatory\n",
      "Type\n",
      "UTCstart\n"
     ]
    }
   ],
   "source": [
    "   #Step 2 - Explore the group of interest - find its keys - : here example 'meta' group - use method .keys()\n",
    "\n",
    "# For example let's say we want to  find what type of meta data there is, we can easil print it out using method .keys()\n",
    "\n",
    "for key in data['meta'].keys():\n",
    "    print(key)"
   ]
  },
  {
   "cell_type": "code",
   "execution_count": 39,
   "metadata": {},
   "outputs": [
    {
     "name": "stdout",
     "output_type": "stream",
     "text": [
      "b'Strain data time series from LIGO' b'L1'\n"
     ]
    }
   ],
   "source": [
    "    #Step 3 - Knowing the keys we can then find out any meta data of interest : for example description and detector\n",
    "            # -- use method attribute.value\n",
    "    \n",
    "print(data['meta']['Description'].value, data['meta']['Detector'].value )\n",
    "\n",
    "# <-- We can see that the data is the strain data time series from LIGO, and the detector used in L1"
   ]
  },
  {
   "cell_type": "code",
   "execution_count": 40,
   "metadata": {},
   "outputs": [
    {
     "name": "stdout",
     "output_type": "stream",
     "text": [
      "Strain\n"
     ]
    },
    {
     "data": {
      "image/png": "[encoded data removed]",
      "text/plain": [
       "<matplotlib.figure.Figure at 0x17840187fd0>"
      ]
     },
     "metadata": {},
     "output_type": "display_data"
    }
   ],
   "source": [
    "   #Step 4 - Now we can look at the actual data which from description above in meta file in in strain group and repeat above steps\n",
    "    \n",
    "# Get the HDF5 group 'strain': group\n",
    "group = data['strain']\n",
    "\n",
    "# Check out keys of group\n",
    "for key in group.keys():\n",
    "    print(key)\n",
    "\n",
    "# Set variable equal to time series data: strain\n",
    "strain = data['strain']['Strain'].value\n",
    "\n",
    "# Set number of time points to sample: num_samples\n",
    "num_samples = 10000\n",
    "\n",
    "# Set time vector\n",
    "time = np.arange(0, 1, 1/num_samples)\n",
    "\n",
    "# Plot data\n",
    "plt.plot(time, strain[:num_samples])\n",
    "plt.xlabel('GPS Time (s)')\n",
    "plt.ylabel('strain')\n",
    "plt.show()"
   ]
  },
  {
   "cell_type": "code",
   "execution_count": 41,
   "metadata": {},
   "outputs": [
    {
     "name": "stdout",
     "output_type": "stream",
     "text": [
      "<class 'dict'>\n"
     ]
    }
   ],
   "source": [
    "    ### 5) WORKING WITH MATLAB FILES\n",
    "\n",
    "# need to use standard scipy.io.loadmat() from scipy package to import .mat files\n",
    "\n",
    "import scipy.io\n",
    "\n",
    "filename = \"ja_data2.mat\"  #<-- required file in the working dictionary\n",
    "\n",
    "mat = scipy.io.loadmat(filename)\n",
    "print(type(mat)) #<--- it tells us that object imported is a dcitionary\n",
    "\n",
    "#<-- How dictionaries are related to matlab workspace is straightforward:\n",
    "    # <-- keys : MATLAB variable names\n",
    "    # <-- values : object assigned to above variables"
   ]
  },
  {
   "cell_type": "code",
   "execution_count": 52,
   "metadata": {},
   "outputs": [
    {
     "name": "stdout",
     "output_type": "stream",
     "text": [
      "__header__\n",
      "__version__\n",
      "__globals__\n",
      "rfpCyt\n",
      "rfpNuc\n",
      "cfpNuc\n",
      "cfpCyt\n",
      "yfpNuc\n",
      "yfpCyt\n",
      "CYratioCyt\n"
     ]
    }
   ],
   "source": [
    "for key in mat.keys(): # <-- getting the list of all matlab variables\n",
    "    print(key)\n",
    "    \n",
    "    \n"
   ]
  },
  {
   "cell_type": "code",
   "execution_count": 53,
   "metadata": {},
   "outputs": [
    {
     "name": "stdout",
     "output_type": "stream",
     "text": [
      "dict_keys(['__header__', '__version__', '__globals__', 'rfpCyt', 'rfpNuc', 'cfpNuc', 'cfpCyt', 'yfpNuc', 'yfpCyt', 'CYratioCyt'])\n"
     ]
    }
   ],
   "source": [
    "#or\n",
    "    \n",
    "print(mat.keys())"
   ]
  },
  {
   "cell_type": "code",
   "execution_count": 48,
   "metadata": {},
   "outputs": [
    {
     "name": "stdout",
     "output_type": "stream",
     "text": [
      "<class 'numpy.ndarray'>\n"
     ]
    }
   ],
   "source": [
    "print(type(mat['CYratioCyt'])) # <-- variable CYratioCyt contains a numpy  array"
   ]
  },
  {
   "cell_type": "code",
   "execution_count": 49,
   "metadata": {},
   "outputs": [
    {
     "name": "stdout",
     "output_type": "stream",
     "text": [
      "(200, 137)\n"
     ]
    }
   ],
   "source": [
    "# <-- we can further get the shape of the rfpCyt numpy array using np.shape() function\n",
    "\n",
    "print(np.shape(mat['CYratioCyt'])) #<-- so its a 200 row by 137 coloumn matlab variable"
   ]
  },
  {
   "cell_type": "code",
   "execution_count": 50,
   "metadata": {},
   "outputs": [
    {
     "data": {
      "image/png": "[encoded data removed]",
      "text/plain": [
       "<matplotlib.figure.Figure at 0x17840993978>"
      ]
     },
     "metadata": {},
     "output_type": "display_data"
    }
   ],
   "source": [
    "# Subset the array and plot it\n",
    "data = mat['CYratioCyt'][25, 5:]\n",
    "fig = plt.figure()\n",
    "plt.plot(data)\n",
    "plt.xlabel('time (min.)')\n",
    "plt.ylabel('normalized fluorescence (measure of expression)')\n",
    "plt.show()"
   ]
  },
  {
   "cell_type": "code",
   "execution_count": null,
   "metadata": {},
   "outputs": [],
   "source": []
  }
 ],
 "metadata": {
  "kernelspec": {
   "display_name": "Python 3",
   "language": "python",
   "name": "python3"
  },
  "language_info": {
   "codemirror_mode": {
    "name": "ipython",
    "version": 3
   },
   "file_extension": ".py",
   "mimetype": "text/x-python",
   "name": "python",
   "nbconvert_exporter": "python",
   "pygments_lexer": "ipython3",
   "version": "3.6.4"
  }
 },
 "nbformat": 4,
 "nbformat_minor": 2
}
