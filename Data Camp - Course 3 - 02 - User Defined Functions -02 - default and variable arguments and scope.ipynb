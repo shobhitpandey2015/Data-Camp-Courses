{
 "cells": [
  {
   "cell_type": "code",
   "execution_count": null,
   "metadata": {},
   "outputs": [],
   "source": [
    "#Outline for user defined functions in this part : Continuing our learning list, we will cover\n",
    "    #7) Scope and user deinfed functions\n",
    "    #8) Nested Functions\n",
    "    #9) Default and Flexible arguments for user defined functions\n",
    "    #10) Data Science example : "
   ]
  },
  {
   "cell_type": "code",
   "execution_count": null,
   "metadata": {},
   "outputs": [],
   "source": [
    "#7) SCOPE in the context of user deinfed functions\n",
    "    # -- We have been definin varibales in our programs and using them without any problem so far\n",
    "    # -- However not all objects defined are accesible everywheere in a script\n",
    "    # Scope -- which part of a program where an object or a name can be accessible. \n",
    "    # There are three type of scopes : \n",
    "        # -- (i) GLOBAL SCOPE -- defined in the main body of the scope (accesible everywhere)\n",
    "        # -- (ii) Local Scope -- defined inside a function (after execution of function these names ceases to exist)\n",
    "        # -- (iii) Built - in scope -- names in predefined built-in modules ex. print(), sum()"
   ]
  },
  {
   "cell_type": "code",
   "execution_count": 1,
   "metadata": {},
   "outputs": [
    {
     "name": "stdout",
     "output_type": "stream",
     "text": [
      "16\n"
     ]
    }
   ],
   "source": [
    "# Example of local variable : new_type defined within the function square()\n",
    "\n",
    "def square():  # <-- Function header\n",
    "    new_value = 4 ** 2    # <-- Function body\n",
    "    print(new_value) \n",
    "\n",
    "#right now the square() function does not have any parameter, we will add them later. Right now it will always return 4**2 whih is 16\n",
    "\n",
    "square()  # <-- calling the function\n"
   ]
  },
  {
   "cell_type": "code",
   "execution_count": 2,
   "metadata": {},
   "outputs": [
    {
     "ename": "NameError",
     "evalue": "name 'new_value' is not defined",
     "output_type": "error",
     "traceback": [
      "\u001b[1;31m---------------------------------------------------------------------------\u001b[0m",
      "\u001b[1;31mNameError\u001b[0m                                 Traceback (most recent call last)",
      "\u001b[1;32m<ipython-input-2-4ebf5c86c138>\u001b[0m in \u001b[0;36m<module>\u001b[1;34m()\u001b[0m\n\u001b[1;32m----> 1\u001b[1;33m \u001b[0mprint\u001b[0m\u001b[1;33m(\u001b[0m\u001b[0mnew_value\u001b[0m\u001b[1;33m)\u001b[0m\u001b[1;33m\u001b[0m\u001b[0m\n\u001b[0m",
      "\u001b[1;31mNameError\u001b[0m: name 'new_value' is not defined"
     ]
    }
   ],
   "source": [
    "print(new_value) #hence the new_value cannot be accessed outside of the local function square()"
   ]
  },
  {
   "cell_type": "code",
   "execution_count": 5,
   "metadata": {},
   "outputs": [
    {
     "name": "stdout",
     "output_type": "stream",
     "text": [
      "9\n"
     ]
    }
   ],
   "source": [
    "# What if we defined new_value in the global scope \n",
    "\n",
    "new_value = 10\n",
    "\n",
    "def square(value):  # <-- Function header\n",
    "    new_value = value ** 2    # <-- Function body\n",
    "    print(new_value) \n",
    "\n",
    "#right now the square() function does not have any parameter, we will add them later. Right now it will always return 4**2 whih is 16\n",
    "\n",
    "square(3)  # <-- calling the function\n"
   ]
  },
  {
   "cell_type": "code",
   "execution_count": 4,
   "metadata": {},
   "outputs": [
    {
     "name": "stdout",
     "output_type": "stream",
     "text": [
      "10\n"
     ]
    }
   ],
   "source": [
    "#the answer is still 10, because the variabel called within the function, python first checks for its existence within the local scope and uses that. \n",
    "#Only if the name cannot be find in the local scope, python looks in the global scope\n",
    "\n",
    "print(new_value) #However on calling outside of function we can access its global scope "
   ]
  },
  {
   "cell_type": "code",
   "execution_count": 6,
   "metadata": {},
   "outputs": [
    {
     "name": "stdout",
     "output_type": "stream",
     "text": [
      "100\n"
     ]
    }
   ],
   "source": [
    "#Now the new_value is 10, now suppose we use that in the function locally\n",
    "\n",
    "def square1(value):  # <-- Function header\n",
    "    new_value2 = new_value ** 2    # <-- Function body\n",
    "    print(new_value2) \n",
    "    \n",
    "square1(3)  #Now we see that the new value of new_value is accessed while its called locally at the time of calling, giving answer as 100."
   ]
  },
  {
   "cell_type": "code",
   "execution_count": 9,
   "metadata": {},
   "outputs": [
    {
     "name": "stdout",
     "output_type": "stream",
     "text": [
      "100\n",
      "100\n"
     ]
    }
   ],
   "source": [
    "##  Summary of SCOPE : \n",
    "    # -- When we referene a name, first the local scope is searched and then the global\n",
    "    # -- If the name is in neither, then the built in scope is searched\n",
    "    # -- the name value is searched only when called upon and not upon defining. \n",
    "    \n",
    "# What if we want to alter the value of a golobal name within the function call \n",
    "\n",
    "new_val =  10\n",
    "\n",
    "def square2(value):  # <-- Function header\n",
    "    global new_val\n",
    "    new_val = new_val ** 2    # <-- Function body\n",
    "    print(new_val) \n",
    "    \n",
    "square2(3)  #we see the global value is indeed being squared by runnin the function square\n",
    "\n",
    "print(new_val) #Call and see the new_val globally to see the change"
   ]
  },
  {
   "cell_type": "code",
   "execution_count": 14,
   "metadata": {},
   "outputs": [
    {
     "name": "stdout",
     "output_type": "stream",
     "text": [
      "3\n",
      "10\n",
      "6\n"
     ]
    }
   ],
   "source": [
    "def func1():\n",
    "    num = 3\n",
    "    print(num)\n",
    "    \n",
    "num2 = 5 #Defined globally\n",
    "\n",
    "def func2():\n",
    "    global num2 #Scope made global within function \n",
    "    double_num = num2 * 2\n",
    "    num2 = 6 #Changes value globally as scope here is global\n",
    "    print(double_num)\n",
    "\n",
    "func1()  \n",
    "func2()\n",
    "print(num2) \n",
    "\n",
    "# Result : func1() prints out 3, func2() prints out 10, and the value of num2 in the global scope is 6\n"
   ]
  },
  {
   "cell_type": "code",
   "execution_count": 15,
   "metadata": {},
   "outputs": [
    {
     "ename": "NameError",
     "evalue": "name 'num' is not defined",
     "output_type": "error",
     "traceback": [
      "\u001b[1;31m---------------------------------------------------------------------------\u001b[0m",
      "\u001b[1;31mNameError\u001b[0m                                 Traceback (most recent call last)",
      "\u001b[1;32m<ipython-input-15-55a60ae9504f>\u001b[0m in \u001b[0;36m<module>\u001b[1;34m()\u001b[0m\n\u001b[1;32m----> 1\u001b[1;33m \u001b[0mprint\u001b[0m\u001b[1;33m(\u001b[0m\u001b[0mnum\u001b[0m\u001b[1;33m)\u001b[0m\u001b[1;33m\u001b[0m\u001b[0m\n\u001b[0m",
      "\u001b[1;31mNameError\u001b[0m: name 'num' is not defined"
     ]
    }
   ],
   "source": [
    "print(num) #this does not work as num is not made global, as has local scope"
   ]
  },
  {
   "cell_type": "code",
   "execution_count": 16,
   "metadata": {},
   "outputs": [
    {
     "name": "stdout",
     "output_type": "stream",
     "text": [
      "teen titans\n",
      "justice league\n"
     ]
    }
   ],
   "source": [
    "# Create a string: team\n",
    "team = \"teen titans\"\n",
    "\n",
    "# Define change_team()\n",
    "def change_team():\n",
    "    \"\"\"Change the value of the global variable team.\"\"\"\n",
    "\n",
    "    # Use team in global scope\n",
    "    global team\n",
    "\n",
    "    # Change the value of team in global: team\n",
    "    team = \"justice league\"\n",
    "\n",
    "# Print team\n",
    "print(team)   # <-- the name value is searched only when called upon and not upon defining, so still holds the global value \"teen titans\"\n",
    "\n",
    "# Call change_team()\n",
    "change_team() # <-- now the team value is globally changed\n",
    "\n",
    "# Print team\n",
    "print(team)  # <-- changed value of team accessible globally"
   ]
  },
  {
   "cell_type": "code",
   "execution_count": 19,
   "metadata": {},
   "outputs": [
    {
     "name": "stdout",
     "output_type": "stream",
     "text": [
      "(6, 5, 6)\n"
     ]
    }
   ],
   "source": [
    "#8) Nested Functions \n",
    "\n",
    "# What if we have a inner function defined within an outer functions. The scope of variables needs to be kept in mind.\n",
    "\n",
    "#Why nest functions? lets say we want a do a process within a function to be repeated number o times:\n",
    "\n",
    "def mod2plus5(x1,x2,x3):\n",
    "    new_x1 = x1%2+5\n",
    "    new_x2 = x2%2+5\n",
    "    new_x3 = x3%2+5\n",
    "    \n",
    "    return(new_x1, new_x2, new_x3)  \n",
    "\n",
    "print(mod2plus5(3,6,7))\n"
   ]
  },
  {
   "cell_type": "code",
   "execution_count": 21,
   "metadata": {},
   "outputs": [
    {
     "data": {
      "text/plain": [
       "(6, 5, 6)"
      ]
     },
     "execution_count": 21,
     "metadata": {},
     "output_type": "execute_result"
    }
   ],
   "source": [
    "#Above process in not scalable. We can do better by defining NESTED FUNCTIONS\n",
    "\n",
    "def mod2plus5_1(x1,x2,x3):\n",
    "    '''provides mod 2 +5 for all inputs'''\n",
    "    def inner(x):\n",
    "        '''reurns back inpu mod 2 +5'''\n",
    "        return x%2+5\n",
    "        \n",
    "    return (inner(x1), inner(x2), inner(x3)) #uses the function inner for repeating the process by passing x1,x2,x3 (its own inputs)\n",
    "\n",
    "\n",
    "mod2plus5_1(3,6,7)\n"
   ]
  },
  {
   "cell_type": "code",
   "execution_count": 22,
   "metadata": {},
   "outputs": [
    {
     "name": "stdout",
     "output_type": "stream",
     "text": [
      "36 216\n"
     ]
    }
   ],
   "source": [
    "#lets now look at another important use case of neted fucntions\n",
    "\n",
    "def raised_val (n):\n",
    "    '''Returns the inner function'''\n",
    "    def inner(x):\n",
    "        raised =  x**n\n",
    "        return raised\n",
    "    return inner\n",
    "\n",
    "#Here the rais_val returns inner function inner(). \n",
    "#Raise_val takes an argument n and creates a function inner() that returns the nth power of any number\n",
    "\n",
    "square = raised_val(2)  #passing 2 to raise_val, creates and returns a function that squares any number\n",
    "cube = raised_val(3)   #passing 3 to raise_val, creates and returns a function that cubes any number\n",
    "\n",
    "print(square(6), cube(6)) \n",
    "\n",
    "## ---- CLOSURE\n",
    "\n",
    "#Why does it give square and cube of 6? How the does the scope work within?\n",
    "# When we call the function square, it remembers the value n = 2,..\n",
    "#.. although the eclosing scope defined by raise_val and  to which n=2 is local has finished executing"
   ]
  },
  {
   "cell_type": "code",
   "execution_count": 23,
   "metadata": {},
   "outputs": [
    {
     "name": "stdout",
     "output_type": "stream",
     "text": [
      "2\n",
      "2\n"
     ]
    }
   ],
   "source": [
    "##  --- NON LOCAL function scope :\n",
    "# Just like global scope declaration (using keyword global) to create abd change global names\n",
    "#similarly using Nonlocal scope declartion (using keyword nonlocal) we can create and change names in an enclosing scope.\n",
    "\n",
    "def outer():\n",
    "    '''print the value of n'''\n",
    "    n = 1\n",
    "    def inner():\n",
    "        nonlocal n\n",
    "        n = 2\n",
    "        print(n)\n",
    "    inner()\n",
    "    print(n)\n",
    "    \n",
    "outer()  \n",
    "\n",
    "#since n was defined nonlocal the value of n after being changed to 2 from 1 within inner remains 2 while printing for outer as well.\n",
    "\n"
   ]
  },
  {
   "cell_type": "code",
   "execution_count": null,
   "metadata": {},
   "outputs": [],
   "source": [
    "## --- SUMMARY OF SCOPE\n",
    "    # LOCAL SCOPE, ENCLSOING FUNCTIONS, GLOBAL SCOPE, BUILT-IN SCOPE  === LEGB RULE - order in which names are searched by python\n",
    "    # Assigning names will only create or change local names, unless assigned either as nonlocal (withing enclosed functions) or global (entire script)\n",
    "    \n",
    "    "
   ]
  },
  {
   "cell_type": "code",
   "execution_count": 28,
   "metadata": {},
   "outputs": [
    {
     "name": "stdout",
     "output_type": "stream",
     "text": [
      "4\n",
      "64\n"
     ]
    }
   ],
   "source": [
    "#9) Default and Flexible arguments for user defined functions\n",
    "\n",
    "    #Let's say we want to call a function that takes multiple parameters, but there is often some parameters that have fixed value.\n",
    "    #In this cae We would want to call such a fucntion without explicitly specifiying all the parameters.\n",
    "    # THerefoe some paramters must have DEFAULT ARGUMENTS, unless speicifed otherwise.\n",
    "    \n",
    "    ## --(i) To define a function with a DEFAULT ARGUMENT value\n",
    "\n",
    "def power(number, pow =1 ):  # <-- In function header, we assign the value to the default argument\n",
    "    '''Raise number (qst argument) to the power of pow (2nd argument) which by default is 1'''\n",
    "    new_value = number**pow\n",
    "    return new_value\n",
    "\n",
    "print(power(4)) #when 2nd argument not specified while calling, default argument value that is 1 is used \n",
    "print(power(4,3)) #here 2nd argument is passed as 3. so raises 4 to the power of 3"
   ]
  },
  {
   "cell_type": "code",
   "execution_count": 54,
   "metadata": {},
   "outputs": [
    {
     "name": "stdout",
     "output_type": "stream",
     "text": [
      "10\n",
      "3\n",
      "0\n"
     ]
    }
   ],
   "source": [
    "## --(ii) To define a function with FLEXIBLE ARGUMENTS\n",
    "            #--- (iia) *args  = flexible number of arguments. Identifier not specified. Could be int, float, string etc\n",
    "            #--- (iib) *kwargs = flexible keyword pair arguments to pass. That is arguments proceeded by identifiers\n",
    "\n",
    "#(iia) le's see if want to write a function but arent sure how many arguments the user might pass\n",
    "\n",
    "    # --- example with int or floats as flexible arguments\n",
    "    \n",
    "def add_all(*args): # <-- the args here is written with * to denote its flexible number of arguments\n",
    "    \n",
    "    #Python turns all the arguments passed into a tuple args    \n",
    "    '''sums all elements'''\n",
    "    \n",
    "    sum_all = 0\n",
    "    for num in args: #Loops over the tuple args\n",
    "        sum_all += num #sums all successive elements\n",
    "    \n",
    "    return sum_all\n",
    "\n",
    "print(add_all(1,2,3,4))\n",
    "print(add_all(1,2))\n",
    "print(add_all()) "
   ]
  },
  {
   "cell_type": "code",
   "execution_count": 67,
   "metadata": {},
   "outputs": [
    {
     "name": "stdout",
     "output_type": "stream",
     "text": [
      "one_word\n",
      "lukeleiahanobidarth\n"
     ]
    }
   ],
   "source": [
    "  #-- example with flexible number of string argumetns \n",
    "\n",
    "# Define gibberish\n",
    "\n",
    "def gibberish(*args):\n",
    "\n",
    "    # Initialize an empty string: hodgepodge\n",
    "    hodgepodge = \"\"\n",
    "\n",
    "    # Concatenate the strings in args\n",
    "    for word in args:\n",
    "        hodgepodge += word\n",
    "\n",
    "    # Return hodgepodge\n",
    "    return hodgepodge\n",
    "\n",
    "# Call gibberish() with one string: one_word\n",
    "one_word = gibberish(\"one_word\")\n",
    "\n",
    "# Call gibberish() with five strings: many_words\n",
    "many_words = gibberish(\"luke\", \"leia\", \"han\", \"obi\", \"darth\")\n",
    "\n",
    "# Print one_word and many_words\n",
    "print(one_word)\n",
    "print(many_words)"
   ]
  },
  {
   "cell_type": "code",
   "execution_count": 64,
   "metadata": {},
   "outputs": [
    {
     "name": "stdout",
     "output_type": "stream",
     "text": [
      "name:shobhit\n",
      "age:26\n"
     ]
    }
   ],
   "source": [
    "#(iia) if want to write a function but pass multiple yet flexible arguments which are keyword pairs we use **kwargs \n",
    "# **kwargs difference is that it allows you to pass a variable number of keyword arguments to functions\n",
    "\n",
    "#Lets write a function that prints out the identifiers and the parameters passed with it\n",
    "\n",
    "def print_all(**kwargs):  #<-- python turns the identifier keyword pairs into a dictionary within the function body\n",
    "    '''print out key:value pairs in kwargs'''\n",
    "    \n",
    "    #print out key:value pairs in \n",
    "    for key, value in kwargs.items(): #iterates to print all key:value pairs stored in dictionary kwargs\n",
    "        print(key + \":\" + value)\n",
    "        \n",
    "print_all(name = \"shobhit\", age = \"26\")\n",
    "\n"
   ]
  },
  {
   "cell_type": "code",
   "execution_count": 74,
   "metadata": {},
   "outputs": [
    {
     "name": "stdout",
     "output_type": "stream",
     "text": [
      "{'en': 97, 'et': 1, 'und': 2}\n",
      "{'<a href=\"http://twitter.com\" rel=\"nofollow\">Twitter Web Client</a>': 24, '<a href=\"http://www.facebook.com/twitter\" rel=\"nofollow\">Facebook</a>': 1, '<a href=\"http://twitter.com/download/android\" rel=\"nofollow\">Twitter for Android</a>': 26, '<a href=\"http://twitter.com/download/iphone\" rel=\"nofollow\">Twitter for iPhone</a>': 33, '<a href=\"http://www.twitter.com\" rel=\"nofollow\">Twitter for BlackBerry</a>': 2, '<a href=\"http://www.google.com/\" rel=\"nofollow\">Google</a>': 2, '<a href=\"http://twitter.com/#!/download/ipad\" rel=\"nofollow\">Twitter for iPad</a>': 6, '<a href=\"http://linkis.com\" rel=\"nofollow\">Linkis.com</a>': 2, '<a href=\"http://rutracker.org/forum/viewforum.php?f=93\" rel=\"nofollow\">newzlasz</a>': 2, '<a href=\"http://ifttt.com\" rel=\"nofollow\">IFTTT</a>': 1, '<a href=\"http://www.myplume.com/\" rel=\"nofollow\">Plume\\xa0for\\xa0Android</a>': 1}\n"
     ]
    }
   ],
   "source": [
    "##10) Data Science example : \n",
    "    \n",
    "# Remember we wrote the script last lecture, to analyze twitter dataframe.\n",
    "# We had written a function that would return a Dictionary with Languages as keys and number of times it was used as values in an given twitter DataFrame\n",
    "\n",
    "\n",
    "    ## -- GENERALIZED FUNCTION REQUIREMENTS\n",
    "    \n",
    "# We will now write a generzlied function that processes a DataFrame \n",
    "# and it will return adictionary with counts and occurances in any coloumn at all \n",
    "# But by default, however it will process the coloumn \"lang\"\n",
    "\n",
    "import pandas as pd\n",
    "\n",
    "tweets_df = pd.read_csv(\"D:\\Data Camp\\Course 3-01-Tweets.csv\")  # <-- # Import Twitter data as DataFrame: df\n",
    "\n",
    "# Define count_entries()\n",
    "def count_entries(df, col_name = 'lang'):\n",
    "    \"\"\"Return a dictionary with counts of occurrences as value for each key.\"\"\"\n",
    "\n",
    "    # Initialize an empty dictionary: cols_count\n",
    "    cols_count = {}\n",
    "\n",
    "    # Extract column from DataFrame: col\n",
    "    col = df[col_name]\n",
    "    \n",
    "    # Iterate over the column of interest col in DataFrame\n",
    "    for entry in col:\n",
    "\n",
    "        # If entry is in cols_count, add 1\n",
    "        if entry in cols_count.keys():\n",
    "            cols_count[entry] += 1\n",
    "\n",
    "        # Else add the entry to cols_count, set the value to 1\n",
    "        else:\n",
    "            cols_count[entry] = 1\n",
    "\n",
    "    # Return the cols_count dictionary\n",
    "    return cols_count\n",
    "\n",
    "# Call count_entries(): result1\n",
    "result1 = count_entries(tweets_df)\n",
    "\n",
    "# Call count_entries(): result2\n",
    "result2 = count_entries(tweets_df, col_name = 'source')\n",
    "\n",
    "# Print result1 and result2\n",
    "print(result1)\n",
    "print(result2)"
   ]
  },
  {
   "cell_type": "code",
   "execution_count": 75,
   "metadata": {},
   "outputs": [
    {
     "name": "stdout",
     "output_type": "stream",
     "text": [
      "{'en': 97, 'et': 1, 'und': 2}\n",
      "{'en': 97, 'et': 1, 'und': 2, '<a href=\"http://twitter.com\" rel=\"nofollow\">Twitter Web Client</a>': 24, '<a href=\"http://www.facebook.com/twitter\" rel=\"nofollow\">Facebook</a>': 1, '<a href=\"http://twitter.com/download/android\" rel=\"nofollow\">Twitter for Android</a>': 26, '<a href=\"http://twitter.com/download/iphone\" rel=\"nofollow\">Twitter for iPhone</a>': 33, '<a href=\"http://www.twitter.com\" rel=\"nofollow\">Twitter for BlackBerry</a>': 2, '<a href=\"http://www.google.com/\" rel=\"nofollow\">Google</a>': 2, '<a href=\"http://twitter.com/#!/download/ipad\" rel=\"nofollow\">Twitter for iPad</a>': 6, '<a href=\"http://linkis.com\" rel=\"nofollow\">Linkis.com</a>': 2, '<a href=\"http://rutracker.org/forum/viewforum.php?f=93\" rel=\"nofollow\">newzlasz</a>': 2, '<a href=\"http://ifttt.com\" rel=\"nofollow\">IFTTT</a>': 1, '<a href=\"http://www.myplume.com/\" rel=\"nofollow\">Plume\\xa0for\\xa0Android</a>': 1}\n"
     ]
    }
   ],
   "source": [
    "#Generalize it further to accept aribatry number of coloumn names\n",
    "\n",
    "\n",
    "import pandas as pd\n",
    "\n",
    "tweets_df = pd.read_csv(\"D:\\Data Camp\\Course 3-01-Tweets.csv\")  # <-- # Import Twitter data as DataFrame: df\n",
    "\n",
    "# Define count_entries()\n",
    "def count_entries(df, *args):\n",
    "    \"\"\"Return a dictionary with counts of\n",
    "    occurrences as value for each key.\"\"\"\n",
    "    \n",
    "    #Initialize an empty dictionary: cols_count\n",
    "    cols_count = {}\n",
    "    \n",
    "    # Iterate over column names in args\n",
    "    for col_name in args:\n",
    "    \n",
    "        # Extract the present  iteration col_name  from DataFrame: col\n",
    "        col = df[col_name]\n",
    "    \n",
    "        # Iterate over this column in DataFrame\n",
    "        for entry in col:\n",
    "    \n",
    "            # If entry is in cols_count, add 1\n",
    "            if entry in cols_count.keys():\n",
    "                cols_count[entry] += 1\n",
    "    \n",
    "            # Else add the entry to cols_count, set the value to 1\n",
    "            else:\n",
    "                cols_count[entry] = 1\n",
    "\n",
    "    # Return the cols_count dictionary\n",
    "    return cols_count\n",
    "\n",
    "# Call count_entries(): result1\n",
    "result1 = count_entries(tweets_df, 'lang')\n",
    "\n",
    "# Call count_entries(): result2\n",
    "result2 = count_entries(tweets_df, \"lang\", \"source\")\n",
    "\n",
    "# Print result1 and result2\n",
    "print(result1)\n",
    "print(result2)"
   ]
  },
  {
   "cell_type": "code",
   "execution_count": null,
   "metadata": {},
   "outputs": [],
   "source": []
  }
 ],
 "metadata": {
  "kernelspec": {
   "display_name": "Python 3",
   "language": "python",
   "name": "python3"
  },
  "language_info": {
   "codemirror_mode": {
    "name": "ipython",
    "version": 3
   },
   "file_extension": ".py",
   "mimetype": "text/x-python",
   "name": "python",
   "nbconvert_exporter": "python",
   "pygments_lexer": "ipython3",
   "version": "3.6.4"
  }
 },
 "nbformat": 4,
 "nbformat_minor": 2
}
