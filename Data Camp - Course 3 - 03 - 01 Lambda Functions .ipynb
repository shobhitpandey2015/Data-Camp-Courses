{
 "cells": [
  {
   "cell_type": "code",
   "execution_count": null,
   "metadata": {},
   "outputs": [],
   "source": [
    "# Topics under User defined functions \n",
    "    # 1) LAMBDA FUNCTIONS : \n",
    "        #(i) Lambda functions definitions \n",
    "        #(ii) MAP() and lambda functions \n",
    "        #(iii) FILTER() and lambda functions\n",
    "        #(iv) REDUCE() and LAMBDA functions\n",
    "    \n"
   ]
  },
  {
   "cell_type": "code",
   "execution_count": 1,
   "metadata": {},
   "outputs": [
    {
     "data": {
      "text/plain": [
       "8"
      ]
     },
     "execution_count": 1,
     "metadata": {},
     "output_type": "execute_result"
    }
   ],
   "source": [
    "# 1) -- (i) LAMBDA FUNCTIONS\n",
    "\n",
    "# Theses are quicker though dirtier ways of writing functions on the fly using the word lambda\n",
    "\n",
    "#Let's re write the raise_to_power as a lambda functions \n",
    "\n",
    "raise_to_power = lambda x,y: x**y # quick one line function definition, with first part providing number of arguments ; followed by what it does\n",
    "raise_to_power(2,3)"
   ]
  },
  {
   "cell_type": "code",
   "execution_count": 3,
   "metadata": {},
   "outputs": [
    {
     "name": "stdout",
     "output_type": "stream",
     "text": [
      "<map object at 0x0000026634CAF048>\n"
     ]
    }
   ],
   "source": [
    "# 1) -- (ii) MAP and LAMBDA FUNCTIONS\n",
    "\n",
    "#sometimes lambda function comes in very handy as ANONYMOUS FUNCTIONS when used with map() built in function\n",
    "# map() applies the function func to ALL the elements in the list seq : Built -In function\n",
    "# We can pass lambda function in the map() as the first argument : called ANANONYMOUS FUNCTION in this case\n",
    "    \n",
    "nums = [2,4,5,6]\n",
    "\n",
    "square_all = map((lambda x: x**2), nums)   \n",
    "\n",
    "print(square_all)\n",
    "\n",
    "# map() squares all the numbers of the list and stores the result in square all, thus ouput is a map object"
   ]
  },
  {
   "cell_type": "code",
   "execution_count": 4,
   "metadata": {},
   "outputs": [
    {
     "name": "stdout",
     "output_type": "stream",
     "text": [
      "[4, 16, 25, 36]\n"
     ]
    }
   ],
   "source": [
    "# to get what the square_all map object contains and to get the lsit we need to convert it to alist and print it\n",
    "\n",
    "print(list(square_all))"
   ]
  },
  {
   "cell_type": "code",
   "execution_count": 6,
   "metadata": {},
   "outputs": [
    {
     "name": "stdout",
     "output_type": "stream",
     "text": [
      "<filter object at 0x0000026634CAF828>\n",
      "['samwise', 'aragorn', 'boromir', 'legolas', 'gandalf']\n"
     ]
    }
   ],
   "source": [
    "# 1) -- (iii) FILTER and LAMBDA FUNCTIONS\n",
    "# The function filter() offers a way to filter out elements from a list that don't satisfy certain criteria.\n",
    "# using filter() to create, from an input list of strings, a new list that contains only strings that have more than 6 characters.\n",
    "#Using lambda function (as the first argument of filter())\n",
    "\n",
    "#Example : The lambda function should check if the number of characters in a string member is greater than 6; \n",
    "\n",
    "\n",
    "# Create a list of strings: fellowship\n",
    "fellowship = ['frodo', 'samwise', 'merry', 'pippin', 'aragorn', 'boromir', 'legolas', 'gimli', 'gandalf']\n",
    "\n",
    "# Use filter() to apply a lambda function over fellowship: result\n",
    "results = filter(lambda member: len(member)>6, fellowship)\n",
    "\n",
    "print(results)  #<-- Give the results as a filter object. \n",
    "# Convert result to a list: result_list\n",
    "result_list=list(results)\n",
    "\n",
    "# Print result_list\n",
    "print(result_list)"
   ]
  },
  {
   "cell_type": "code",
   "execution_count": 7,
   "metadata": {},
   "outputs": [
    {
     "name": "stdout",
     "output_type": "stream",
     "text": [
      "robbsansaaryabrandonrickon\n"
     ]
    }
   ],
   "source": [
    "# 1) -- (iv) reduce() and LAMBDA FUNCTIONS\n",
    "\n",
    "# reduce() function is useful for performing some computation on a list,\n",
    "# and unlike map() and filter(), returns a single value as a result. \n",
    "\n",
    "#Example - use reduce() and lambda to define gibberish()\n",
    "#gibberish() simply takes a list of strings as an argument and returns, as a single-value result, the concatenation of all of these strings.\n",
    "\n",
    "# Import reduce from functools : To import a function y() from a module x, do: from x import y.\n",
    "\n",
    "from functools import reduce\n",
    "\n",
    "# Create a list of strings: stark\n",
    "stark = ['robb', 'sansa', 'arya', 'brandon', 'rickon']\n",
    "\n",
    "# Use reduce() to apply a lambda function over stark: result\n",
    "result = reduce(lambda item1, item2: item1 + item2, stark)\n",
    "\n",
    "# Print the result\n",
    "print(result)"
   ]
  },
  {
   "cell_type": "code",
   "execution_count": null,
   "metadata": {},
   "outputs": [],
   "source": []
  }
 ],
 "metadata": {
  "kernelspec": {
   "display_name": "Python 3",
   "language": "python",
   "name": "python3"
  },
  "language_info": {
   "codemirror_mode": {
    "name": "ipython",
    "version": 3
   },
   "file_extension": ".py",
   "mimetype": "text/x-python",
   "name": "python",
   "nbconvert_exporter": "python",
   "pygments_lexer": "ipython3",
   "version": "3.6.4"
  }
 },
 "nbformat": 4,
 "nbformat_minor": 2
}
