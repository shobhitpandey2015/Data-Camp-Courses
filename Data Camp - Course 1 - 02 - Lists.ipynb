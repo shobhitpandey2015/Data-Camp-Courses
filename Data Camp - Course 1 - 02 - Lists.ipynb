{
 "cells": [
  {
   "cell_type": "code",
   "execution_count": 1,
   "metadata": {},
   "outputs": [
    {
     "name": "stdout",
     "output_type": "stream",
     "text": [
      "[['shobhit', 5.7], ['gomti', 5.5]]\n",
      "[3, 'aaaaa', 3]\n"
     ]
    }
   ],
   "source": [
    "# List (list) is a compound data type; you can group values together. It can store different data types together.\n",
    "# List is defined by [a,b,c,d]\n",
    "#Lists can also be made of sublists. That is Lists inside a list.\n",
    "\n",
    "#Example storing height of family members. Following eight list consists of 2 sublists of each containing name and height.\n",
    "\n",
    "height = [['shobhit', 5.7], ['gomti', 5.5]]\n",
    "print(height)\n",
    "\n",
    "#Another example of valid list definiton is this. Notince what the multiplication operator does to the string type. \n",
    "\n",
    "list1 = [1 + 2, \"a\" * 5, 3]\n",
    "print(list1)\n"
   ]
  },
  {
   "cell_type": "code",
   "execution_count": 2,
   "metadata": {},
   "outputs": [
    {
     "name": "stdout",
     "output_type": "stream",
     "text": [
      "['shobhit', 'gomti', 'arvind', 40, 1, True, ['a', 'b', 'c']]\n",
      "gomti\n",
      "True\n",
      "True\n",
      "b\n"
     ]
    }
   ],
   "source": [
    "#Subsetting Lists : Indexing of list starts from 0,1,2,3,4... or in reverse order from -1, -2, -3 .... \n",
    "\n",
    "# Consider the following random list with different data types. \n",
    "\n",
    "list2 = ['shobhit', 'gomti', 'arvind', 5*8, 8-7, True, ['a','b','c']]\n",
    "print(list2)\n",
    "\n",
    "#Calling and printing gomti (index 1) and boolean True (index -2 or 5)\n",
    "\n",
    "print(list2[1])\n",
    "print(list2[-2])\n",
    "print(list2[5])\n",
    "\n",
    "#We can also Subset list of lists. For example list2[-1] is the list ['a','b','c']. If we want to call the 2nd element of this sublist.\n",
    "\n",
    "print(list2[-1][1])\n"
   ]
  },
  {
   "cell_type": "code",
   "execution_count": 3,
   "metadata": {},
   "outputs": [
    {
     "name": "stdout",
     "output_type": "stream",
     "text": [
      "['shobhit', 'gomti', 'arvind', 'kshama', 'satvik', 1]\n",
      "['shobhit', 'gomti', 'arvind', 'kshama', 'satvik', 1]\n",
      "['shobhit', 'gomti', 'arvind']\n",
      "[1, 2, 3]\n",
      "[1, 2, 3]\n",
      "6\n"
     ]
    }
   ],
   "source": [
    "#List Slicing : We can extract number of elements of list by slicing the list\n",
    "#List Slicing : list [a:b]; this will extract the element from index a to one element BEFORE INDEX b\n",
    "# list[:b]; will include all elements from index 0 to element before index b\n",
    "# list[a:]; will include all elements from index a to the last element\n",
    "\n",
    "list3 = ['shobhit', 'gomti', 'arvind', 'kshama', 'satvik', 1, 2, 3]\n",
    "\n",
    "#to extract just the names - total 5 elements. Both ways\n",
    "print(list3[0:6])\n",
    "print(list3[:6])\n",
    "print(list3[-8:-5])\n",
    "\n",
    "#to extract just the numbers - total 3 from behind\n",
    "print(list3[-3:])\n",
    "print(list3[5:])\n",
    "\n",
    "#List can be subsetted and calculated too. Example Add the three numbers at the end of list3.\n",
    "print(list3[-3]+list3[-2]+ list3[-1])\n",
    "\n",
    "\n"
   ]
  },
  {
   "cell_type": "code",
   "execution_count": 6,
   "metadata": {},
   "outputs": [
    {
     "name": "stdout",
     "output_type": "stream",
     "text": [
      "['shobhit', 'gomti', 'arvind', 'kshama', 'krishna', 5, 6, 7]\n",
      "['shobhit', 'gomti', 'arvind', 'kshama', 'krishna', 5, 6, 7]\n",
      "['shobhit', 'gomti', 'arvind', 'kshama', 'krishna', 5, 6, 7]\n",
      "['shobhit', 'gomti', 'arvind', 'kshama', 'krishna', 5, 6, 7, 8, 9, 10]\n",
      "[8, 9, 10, 'shobhit', 'gomti', 'arvind', 'kshama', 'krishna', 5, 6, 7]\n",
      "[8, 9, 10]\n",
      "[8, 9]\n"
     ]
    }
   ],
   "source": [
    "#Manipulating lists is also easy. For example Lets say we want to change the list3 element name from 'stavik' to 'krishna'\n",
    "\n",
    "print(list3)\n",
    "list3[4] = 'krishna'\n",
    "print(list3)\n",
    "\n",
    "#Entire list slice can be changed alltogether. Example we need to change the number 1,2,3 at the end of list3 to 5,6,7\n",
    "\n",
    "list3[-3:] = [5,6,7]\n",
    "print(list3)\n",
    "\n",
    "#Adding ELements to the list is done by + operator. \n",
    "\n",
    "list4 = [8,9,10]\n",
    "\n",
    "#Addition of lists : this will  just put the list4 elements at the end of list3. The sequence matters\n",
    "\n",
    "list5 = list3 + list4\n",
    "print(list5)\n",
    "\n",
    "list6 = list4 + list3\n",
    "print(list6)\n",
    "\n",
    "#Deleting a list element : use del(list[index]) to delete the exact element of the list. For example we want to delete 10 from the list4\n",
    "print(list4) #before deleting\n",
    "del(list4[-1]) #we could also delete slices of list using del(list[a:b])\n",
    "print(list4) #after deleting\n"
   ]
  },
  {
   "cell_type": "code",
   "execution_count": null,
   "metadata": {},
   "outputs": [],
   "source": [
    "#Pythong Lists behind the scenes\n",
    "\n",
    "#When we create a new list like x = [\"a\", \"b\", \"c\"], \n",
    "#what python does is it stores the address of where the list is in computer memory in x.\n",
    "#the memory does not contain all the list elements, but rather contains just the reference to the list.\n",
    "#this becomes important when we start COUPLING LISTS.\n",
    "\n",
    "x = [\"a\", \"b\", \"c\"]\n",
    "y = x \n",
    "y[1] = [\"z\"] \n",
    "print(y)\n",
    "print(x) #Notice what happens here. It changes the element in x too. \n",
    "\n",
    "#this is because when we copied x to y using = sign, we copied the reference to the list, not the actual values of the lists.\n",
    "#When we are udating the elements in the list, its one and the same list in the computer memory you are changing.\n",
    "#this is because both x and y not pointed to this list, and the update is feasible from both of them.\n",
    "\n"
   ]
  },
  {
   "cell_type": "code",
   "execution_count": 10,
   "metadata": {},
   "outputs": [
    {
     "name": "stdout",
     "output_type": "stream",
     "text": [
      "[1, 7, 3]\n",
      "[1, 2, 3]\n"
     ]
    }
   ],
   "source": [
    "# If we really want to create anew list say m with the new list in the memory with the same values as another list n we need to do something else. \n",
    "\n",
    "n = [1,2,3]\n",
    "\n",
    "#Method 1 - using list() function\n",
    "m = list(n)\n",
    "\n",
    "#Method 2 - by assigning all elements value of n[:]\n",
    "M = n[:]\n",
    "\n",
    "#If we now change the element in m or M, then the list n is not effeted\n",
    "\n",
    "m[1] = 7\n",
    "print(m)\n",
    "print(n)"
   ]
  },
  {
   "cell_type": "code",
   "execution_count": null,
   "metadata": {},
   "outputs": [],
   "source": []
  }
 ],
 "metadata": {
  "kernelspec": {
   "display_name": "Python 3",
   "language": "python",
   "name": "python3"
  },
  "language_info": {
   "codemirror_mode": {
    "name": "ipython",
    "version": 3
   },
   "file_extension": ".py",
   "mimetype": "text/x-python",
   "name": "python",
   "nbconvert_exporter": "python",
   "pygments_lexer": "ipython3",
   "version": "3.6.4"
  }
 },
 "nbformat": 4,
 "nbformat_minor": 2
}
