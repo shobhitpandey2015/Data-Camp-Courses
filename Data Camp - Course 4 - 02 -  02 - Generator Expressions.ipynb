{
 "cells": [
  {
   "cell_type": "code",
   "execution_count": 17,
   "metadata": {},
   "outputs": [],
   "source": [
    "##Part 1 :  GENERATORS EXPRESSION\n",
    "\n",
    "    # List Comprehensions vs Generator Expressions\n",
    "\n",
    "        # list comprehension returns a list and stores it in memory\n",
    "        # generator expression returns a generator object and does not store the list in memory.\n",
    "        # Syntax : use () instead of [] on the list comprehension expression\n",
    "        # generator object is also an iterable object like lists\n",
    "        # Iterating over the generaotor object produces the elements as required\n",
    "        # LAZY EVALUATIONS :  pass a generaotor  to function next() in order to iterate over its elements\n",
    "        # Conditionals on generator expressions work jsut like on list comprehensions\n",
    "        \n",
    "## Part 2 : GENERATOR FUNCTIONS\n",
    "        \n",
    "        # produces generator objects when called\n",
    "        # defined like regular function -def \n",
    "        # yields a sequence of values rather than returning a single value\n",
    "        # generates a value with yield keyword\n",
    "    "
   ]
  },
  {
   "cell_type": "code",
   "execution_count": 16,
   "metadata": {},
   "outputs": [
    {
     "name": "stdout",
     "output_type": "stream",
     "text": [
      "<class 'list'>\n",
      "<class 'generator'>\n"
     ]
    }
   ],
   "source": [
    "# Generators are related to list comprehensions -- created by putting the list comrehension syntax in (   )\n",
    "# generator object = (list comprehension expression without brackets)\n",
    "\n",
    "result_lc = [num**2 for num in range(10)]\n",
    "\n",
    "result_ge = (num**2 for num in range(10))\n",
    "\n",
    "print(type(result_lc)) #<-- list comprehension returns a list\n",
    "print(type(result_ge)) #<-- generator expression returns a generator object and does not store the list in memory"
   ]
  },
  {
   "cell_type": "code",
   "execution_count": 8,
   "metadata": {},
   "outputs": [
    {
     "name": "stdout",
     "output_type": "stream",
     "text": [
      "0\n",
      "1\n",
      "4\n",
      "9\n",
      "16\n",
      "25\n",
      "36\n",
      "49\n",
      "64\n",
      "81\n"
     ]
    }
   ],
   "source": [
    "\n",
    "    result_ge = (num**2 for num in range(10))\n",
    "\n",
    "for i in result_ge: # <-- looping over the generator expression produces the analogous list\n",
    "    print(i)  "
   ]
  },
  {
   "cell_type": "code",
   "execution_count": 10,
   "metadata": {},
   "outputs": [
    {
     "name": "stdout",
     "output_type": "stream",
     "text": [
      "[0, 1, 4, 9, 16, 25, 36, 49, 64, 81]\n"
     ]
    }
   ],
   "source": [
    "# since generator object is iterable, we can also pass the generator object to the function list() to create a list\n",
    "\n",
    "result_ge = (num**2 for num in range(10)) # <-- we have to redfine the generator object\n",
    "print(list(result_ge))"
   ]
  },
  {
   "cell_type": "code",
   "execution_count": 11,
   "metadata": {},
   "outputs": [
    {
     "name": "stdout",
     "output_type": "stream",
     "text": [
      "0\n"
     ]
    }
   ],
   "source": [
    "# Generator object with next()\n",
    "\n",
    "# LAZY EVALUTAION : evaluation of an expression is delayed until its value is needed\n",
    "    # This can help in working with extremely large sequences, when we dont want to store the entire list in the memory\n",
    "    # Unlikt list comprehensions would do, lazy evalutation via generator objects allows generating elements of sequence on the fly \n",
    "\n",
    "result_ge = (num**2 for num in range(10)) \n",
    "print(next(result_ge))\n"
   ]
  },
  {
   "cell_type": "code",
   "execution_count": 12,
   "metadata": {},
   "outputs": [
    {
     "name": "stdout",
     "output_type": "stream",
     "text": [
      "1\n"
     ]
    }
   ],
   "source": [
    "print(next(result_ge))"
   ]
  },
  {
   "cell_type": "code",
   "execution_count": 13,
   "metadata": {},
   "outputs": [
    {
     "name": "stdout",
     "output_type": "stream",
     "text": [
      "4\n"
     ]
    }
   ],
   "source": [
    "print(next(result_ge))"
   ]
  },
  {
   "cell_type": "code",
   "execution_count": null,
   "metadata": {},
   "outputs": [],
   "source": [
    "# ... and so on"
   ]
  },
  {
   "cell_type": "code",
   "execution_count": 14,
   "metadata": {},
   "outputs": [
    {
     "data": {
      "text/plain": [
       "<generator object <genexpr> at 0x000001D786B6C830>"
      ]
     },
     "execution_count": 14,
     "metadata": {},
     "output_type": "execute_result"
    }
   ],
   "source": [
    "# let's use lazy evulation to iterate over very large integers - example 10*1000000\n",
    "# normally the memory would crash with list comprehension : [num for num in range(10*1000000)].\n",
    "\n",
    "# we can create generator object easily\n",
    "\n",
    "(num for num in range(10*1000000)) # <-- which we can process on the fly \n",
    "\n",
    "\n",
    "\n"
   ]
  },
  {
   "cell_type": "code",
   "execution_count": 20,
   "metadata": {},
   "outputs": [
    {
     "name": "stdout",
     "output_type": "stream",
     "text": [
      "0\n",
      "1\n",
      "2\n",
      "3\n",
      "4\n",
      "5\n",
      "6\n",
      "7\n",
      "8\n",
      "9\n",
      "10\n",
      "11\n",
      "12\n",
      "13\n",
      "14\n",
      "15\n",
      "16\n",
      "17\n",
      "18\n",
      "19\n",
      "20\n",
      "21\n",
      "22\n",
      "23\n",
      "24\n",
      "25\n",
      "26\n",
      "27\n",
      "28\n",
      "29\n",
      "30\n"
     ]
    }
   ],
   "source": [
    "## its important to remember how the iteration proceeds after the next() commands if we use the for() loop\n",
    "\n",
    "# Create generator object: result\n",
    "result = (num for num in range(31))\n",
    "\n",
    "# Print the first 5 values\n",
    "print(next(result))\n",
    "print(next(result))\n",
    "print(next(result))\n",
    "print(next(result))\n",
    "print(next(result))\n",
    "\n",
    "# Print the rest of the values\n",
    "for value in result:\n",
    "    print(value)"
   ]
  },
  {
   "cell_type": "code",
   "execution_count": 15,
   "metadata": {},
   "outputs": [
    {
     "name": "stdout",
     "output_type": "stream",
     "text": [
      "[0, 4, 16, 36, 64]\n"
     ]
    }
   ],
   "source": [
    "# Conditionals on generator expressions work similarly as on list comprehensions\n",
    "\n",
    "#example from last time this time as generator expression\n",
    "\n",
    "result2 = (num**2 for num in range(10) if num%2 == 0)  #<-- conditional on the generator expression\n",
    "print(list(result2))"
   ]
  },
  {
   "cell_type": "code",
   "execution_count": 18,
   "metadata": {},
   "outputs": [
    {
     "name": "stdout",
     "output_type": "stream",
     "text": [
      "<class 'generator'>\n"
     ]
    }
   ],
   "source": [
    "## Part 2 : GENERATOR FUNCTIONS -\n",
    "\n",
    "# defined like any ser defined function but produces a generator object using yield\n",
    "# example generator function to yield generator object which are number sequence from 0 to n\n",
    "\n",
    "def num_sequence(n):\n",
    "    \"generates number from 0 to n, not including n\"\n",
    "    i = 0\n",
    "    while i <n:\n",
    "        yield i  # <-- yields i whihc was initialzed to 0 \n",
    "        i += 1   # <-- increase i by 1. repeats until i is less than n\n",
    "        \n",
    "result4 = num_sequence(5)  #<-- calling like any other function\n",
    "print(type(result4)) # <-- generates a generator object with the sequence of numbers from 0 to 4\n",
    "        \n",
    "\n",
    "        "
   ]
  },
  {
   "cell_type": "code",
   "execution_count": 19,
   "metadata": {},
   "outputs": [
    {
     "name": "stdout",
     "output_type": "stream",
     "text": [
      "0\n",
      "1\n",
      "2\n",
      "3\n",
      "4\n"
     ]
    }
   ],
   "source": [
    "for num in result4:\n",
    "    print(num)  #<-- looping over the generator object to print the elements"
   ]
  },
  {
   "cell_type": "code",
   "execution_count": null,
   "metadata": {},
   "outputs": [],
   "source": [
    " # example of generator function - that yields the length of the strings in an input list\n",
    "    \n",
    "# Create a list of strings\n",
    "lannister = ['cersei', 'jaime', 'tywin', 'tyrion', 'joffrey']\n",
    "\n",
    "# Define generator function get_lengths\n",
    "def get_lengths(input_list):\n",
    "    \"\"\"Generator function that yields the\n",
    "    length of the strings in input_list.\"\"\"\n",
    "\n",
    "    # Yield the length of a string\n",
    "    for person in input_list:\n",
    "        yield len(person)\n",
    "\n",
    "# Print the values generated by get_lengths()\n",
    "for value in get_lengths(lannister):\n",
    "    print(value)"
   ]
  },
  {
   "cell_type": "code",
   "execution_count": null,
   "metadata": {},
   "outputs": [],
   "source": [
    "\n",
    "\n"
   ]
  }
 ],
 "metadata": {
  "kernelspec": {
   "display_name": "Python 3",
   "language": "python",
   "name": "python3"
  },
  "language_info": {
   "codemirror_mode": {
    "name": "ipython",
    "version": 3
   },
   "file_extension": ".py",
   "mimetype": "text/x-python",
   "name": "python",
   "nbconvert_exporter": "python",
   "pygments_lexer": "ipython3",
   "version": "3.6.4"
  }
 },
 "nbformat": 4,
 "nbformat_minor": 2
}
