{
 "cells": [
  {
   "cell_type": "code",
   "execution_count": 5,
   "metadata": {},
   "outputs": [
    {
     "name": "stdout",
     "output_type": "stream",
     "text": [
      "{'country': ['Brazil', 'Russia', 'India', 'China'], 'capital': ['Brasilia', 'Moscow', 'New Delhi', 'Beijing'], 'area': [8.516, 17.1, 3.286, 9.597], 'population': [200.4, 143.5, 1252, 1357]}\n"
     ]
    }
   ],
   "source": [
    "## As data scientist one has to work with lots of tabular data structures. \n",
    "#NUmpy array is not the best option as it only stores one data type\n",
    "\n",
    "#Pandas is an open source library, providing high-performance, easy-to-use data structures and data analysis tools for Python.\n",
    "#PANDAS is fundamentally build on NUmpy Package.\n",
    "\n",
    "#The DataFrame is one of Pandas' most important data structures. \n",
    "#It's basically a way to store tabular data where you can label the rows and the columns. \n",
    "\n",
    "##Different ways to build PANDAS Data Framework : \n",
    "\n",
    "# -- Method1 : Start with Dictionaries \n",
    "\n",
    "#% Step 1 : Have the dictionary ready\n",
    "\n",
    "dict1 = {\n",
    "    'country': ['Brazil', 'Russia', 'India', 'China'],\n",
    "    'capital': ['Brasilia', 'Moscow', 'New Delhi', 'Beijing'],\n",
    "    'area': [8.516, 17.10, 3.286, 9.597],\n",
    "    'population':[200.4, 143.5, 1252, 1357]\n",
    "}  #Here Keys (are Coloumn labels) : Values(are data coloumn by coloumn)\n",
    "\n",
    "print(dict1)\n",
    "\n",
    "\n"
   ]
  },
  {
   "cell_type": "code",
   "execution_count": 6,
   "metadata": {},
   "outputs": [
    {
     "name": "stdout",
     "output_type": "stream",
     "text": [
      "     area    capital country  population\n",
      "0   8.516   Brasilia  Brazil       200.4\n",
      "1  17.100     Moscow  Russia       143.5\n",
      "2   3.286  New Delhi   India      1252.0\n",
      "3   9.597    Beijing   China      1357.0\n"
     ]
    }
   ],
   "source": [
    "#% Step 2 : Import the pandas package and create a PANDAS Dataframeowkr named BRICS using following \n",
    "\n",
    "import pandas as pd\n",
    "\n",
    "DF_dict1 = pd.DataFrame(dict1) #The capitalizations in DataFrame method from pandas (pd) package is imp\n",
    "print(brics) #Notice how Pandas assigns automatic row labels"
   ]
  },
  {
   "cell_type": "code",
   "execution_count": 7,
   "metadata": {},
   "outputs": [
    {
     "name": "stdout",
     "output_type": "stream",
     "text": [
      "      area    capital country  population\n",
      "BR   8.516   Brasilia  Brazil       200.4\n",
      "RU  17.100     Moscow  Russia       143.5\n",
      "IN   3.286  New Delhi   India      1252.0\n",
      "CH   9.597    Beijing   China      1357.0\n"
     ]
    }
   ],
   "source": [
    "#We can set the row lebals manually by using the .index attribute on DF_dict1 \n",
    "\n",
    "DF_dict1.index = ['BR', 'RU', 'IN', 'CH']\n",
    "print(DF_dict1)"
   ]
  },
  {
   "cell_type": "code",
   "execution_count": 11,
   "metadata": {},
   "outputs": [
    {
     "name": "stdout",
     "output_type": "stream",
     "text": [
      "  Unnamed: 0 country    capital    area  population\n",
      "0         BR  Brazil   Brasilia   8.516       200.4\n",
      "1         RS  Russia     Moscow  17.100       143.5\n",
      "2         IN   India  New Delhi   3.286      1252.0\n",
      "3         CH   China    Beijing   9.597      1357.0\n"
     ]
    }
   ],
   "source": [
    "# -- Method2 : Importing data from external FILES (this would be the case often)\n",
    "\n",
    "\n",
    "brics2 = pd.read_csv(\"D:\\Data Camp\\Course 2-02-02-Bricks.csv\")\n",
    "print(brics2) #Works well, but row labels are seen as coloumns here, and it automatically adds a row label coloumn 0,1,2.."
   ]
  },
  {
   "cell_type": "code",
   "execution_count": 12,
   "metadata": {},
   "outputs": [
    {
     "name": "stdout",
     "output_type": "stream",
     "text": [
      "   country    capital    area  population\n",
      "BR  Brazil   Brasilia   8.516       200.4\n",
      "RS  Russia     Moscow  17.100       143.5\n",
      "IN   India  New Delhi   3.286      1252.0\n",
      "CH   China    Beijing   9.597      1357.0\n"
     ]
    }
   ],
   "source": [
    "#To solve the row index problem, we have to tell the read_csv fucntion in pandas that the first coloumn in csv file contains row indexes.\n",
    "\n",
    "brics3 = pd.read_csv(\"D:\\Data Camp\\Course 2-02-02-Bricks.csv\", index_col = 0)\n",
    "print(brics3)\n"
   ]
  },
  {
   "cell_type": "code",
   "execution_count": null,
   "metadata": {},
   "outputs": [],
   "source": [
    "## INDEXING AND SELECTING DATA\n",
    "\n",
    "#There are numerous ways of selecting and indexing data from DataFrames\n",
    "\n",
    "#$ -- 1) using SQUARE BRACKETS\n",
    "#$ -- 2) uing Advanced methods ; loc and iloc\n"
   ]
  },
  {
   "cell_type": "code",
   "execution_count": 13,
   "metadata": {},
   "outputs": [
    {
     "name": "stdout",
     "output_type": "stream",
     "text": [
      "BR    Brazil\n",
      "RS    Russia\n",
      "IN     India\n",
      "CH     China\n",
      "Name: country, dtype: object\n"
     ]
    }
   ],
   "source": [
    "#$ -- 1) using SQUARE BRACKETS\n",
    "\n",
    "#$$ SELETING COLOUMNS\n",
    "\n",
    "#Suppose we want to only select country coloumns in brics3 DataFrame above using square brackets\n",
    "\n",
    "print(brics3[\"country\"]) #Notice the wierd last line, saying name:Country, dtype:object\n"
   ]
  },
  {
   "cell_type": "code",
   "execution_count": 14,
   "metadata": {},
   "outputs": [
    {
     "name": "stdout",
     "output_type": "stream",
     "text": [
      "<class 'pandas.core.series.Series'>\n"
     ]
    }
   ],
   "source": [
    "#Thus we are clearly not dealing with regular DataFrame type above. To get the type\n",
    "\n",
    "print(type(brics3[\"country\"])) # We are dealing with a PANDA SERIES here (which simply put is a 1D array that can be labelled)\n",
    "\n",
    "#Putting many series together creates the data frame"
   ]
  },
  {
   "cell_type": "code",
   "execution_count": 15,
   "metadata": {},
   "outputs": [
    {
     "name": "stdout",
     "output_type": "stream",
     "text": [
      "   country\n",
      "BR  Brazil\n",
      "RS  Russia\n",
      "IN   India\n",
      "CH   China\n"
     ]
    }
   ],
   "source": [
    "## To select the country coloumn and still get the data in the form of a DataFrame we need to use [[]]\n",
    "\n",
    "print(brics3[[\"country\"]])"
   ]
  },
  {
   "cell_type": "code",
   "execution_count": 16,
   "metadata": {},
   "outputs": [
    {
     "name": "stdout",
     "output_type": "stream",
     "text": [
      "<class 'pandas.core.frame.DataFrame'>\n"
     ]
    }
   ],
   "source": [
    "print(type(brics3[[\"country\"]])) #Now its a DataFrame, with just one coloumn though"
   ]
  },
  {
   "cell_type": "code",
   "execution_count": 18,
   "metadata": {},
   "outputs": [
    {
     "name": "stdout",
     "output_type": "stream",
     "text": [
      "   country    capital\n",
      "BR  Brazil   Brasilia\n",
      "RS  Russia     Moscow\n",
      "IN   India  New Delhi\n",
      "CH   China    Beijing\n"
     ]
    }
   ],
   "source": [
    "#We can extent this to select both country and capital as follows\n",
    "\n",
    "print(brics3[[\"country\", \"capital\"]]) #So its like putting a list in [] to select the appropriate coloumns\n"
   ]
  },
  {
   "cell_type": "code",
   "execution_count": 20,
   "metadata": {},
   "outputs": [
    {
     "name": "stdout",
     "output_type": "stream",
     "text": [
      "   country    capital    area  population\n",
      "RS  Russia     Moscow  17.100       143.5\n",
      "IN   India  New Delhi   3.286      1252.0\n",
      "CH   China    Beijing   9.597      1357.0\n"
     ]
    }
   ],
   "source": [
    "#$$ SELETING ROWS \n",
    "\n",
    "#To select rows from DataFrame via [], we use the slice\n",
    "#LEts use the slicing of DataFrame to select 1,2 and 3rd row of brics3\n",
    "\n",
    "print(brics3[1:4])  #note the last index is not included in slicing, while the row and coloumn labels remain intact"
   ]
  },
  {
   "cell_type": "code",
   "execution_count": null,
   "metadata": {},
   "outputs": [],
   "source": [
    "#$ -- 2) using PANDAS advanced functions like loc and iloc\n",
    "\n",
    "#Square brackets method above works but offers imited functionality\n",
    "#Ideally we want something like 2D Numpy array slicing feature like my_array[rows,coloumns] to select the data from DataFrame\n",
    "#To do this similarly in pandas we need following two functions\n",
    "\n",
    "# -- loc (label based selection of data)\n",
    "# -- iloc (integer based selection of data) "
   ]
  },
  {
   "cell_type": "code",
   "execution_count": 27,
   "metadata": {},
   "outputs": [
    {
     "name": "stdout",
     "output_type": "stream",
     "text": [
      "country       Russia\n",
      "capital       Moscow\n",
      "area            17.1\n",
      "population     143.5\n",
      "Name: RS, dtype: object\n"
     ]
    }
   ],
   "source": [
    "#$ 1) loc function\n",
    "\n",
    "#if we directly use loc say to extract data with row label 'RU' that is for Russia\n",
    "\n",
    "print(brics3.loc[\"RS\"]) #Again all the data for Russia is provided but again inconvineantly as Panda series"
   ]
  },
  {
   "cell_type": "code",
   "execution_count": 28,
   "metadata": {},
   "outputs": [
    {
     "name": "stdout",
     "output_type": "stream",
     "text": [
      "   country capital  area  population\n",
      "RS  Russia  Moscow  17.1       143.5\n"
     ]
    }
   ],
   "source": [
    "print(brics3.loc[[\"RS\"]]) #This will get the data as a data frame"
   ]
  },
  {
   "cell_type": "code",
   "execution_count": 29,
   "metadata": {},
   "outputs": [
    {
     "name": "stdout",
     "output_type": "stream",
     "text": [
      "   country    capital    area  population\n",
      "RS  Russia     Moscow  17.100       143.5\n",
      "IN   India  New Delhi   3.286      1252.0\n",
      "CH   China    Beijing   9.597      1357.0\n"
     ]
    }
   ],
   "source": [
    "print(brics3.loc[[\"RS\", \"IN\", \"CH\"]]) #This will now also include india and china using row labels using loc function"
   ]
  },
  {
   "cell_type": "code",
   "execution_count": 30,
   "metadata": {},
   "outputs": [
    {
     "name": "stdout",
     "output_type": "stream",
     "text": [
      "   country    capital\n",
      "RS  Russia     Moscow\n",
      "IN   India  New Delhi\n",
      "CH   China    Beijing\n"
     ]
    }
   ],
   "source": [
    "#Above task of selecting entire rows could have been done with [[]] method\n",
    "#the advantage of loc comes that we can extend the selection with , with the specificatino of the coloumns of interest\n",
    "\n",
    "\n",
    "#suppose we want to get the country and capital only\n",
    "print(brics3.loc[[\"RS\", \"IN\", \"CH\"],[\"country\",\"capital\"]])"
   ]
  },
  {
   "cell_type": "code",
   "execution_count": 32,
   "metadata": {},
   "outputs": [
    {
     "name": "stdout",
     "output_type": "stream",
     "text": [
      "   country    capital\n",
      "BR  Brazil   Brasilia\n",
      "RS  Russia     Moscow\n",
      "IN   India  New Delhi\n",
      "CH   China    Beijing\n"
     ]
    }
   ],
   "source": [
    "#Similar to Numpy Array slicing we can also use oc to select all rows for example and only specific coloumn and vice versa\n",
    "\n",
    "\n",
    "print(brics3.loc[:,[\"country\",\"capital\"]]) #Since no list of labes for rows, no [] required there"
   ]
  },
  {
   "cell_type": "code",
   "execution_count": 33,
   "metadata": {},
   "outputs": [
    {
     "name": "stdout",
     "output_type": "stream",
     "text": [
      "   country capital  area  population\n",
      "RS  Russia  Moscow  17.1       143.5\n"
     ]
    }
   ],
   "source": [
    "#$ 2) iloc function\n",
    "\n",
    "#above discussed loc function comes very close to clising and indexing in 2D Numpy array, however it needs use of labels.\n",
    "#to subset PADNAS DataFrames based on there position of index we need the iloc function\n",
    "\n",
    "#Lets see the same example using iloc fucntion\n",
    "\n",
    "print(brics3.iloc[[1]]) #This will get the data for 2nd row  which is same as we got by using \"RS\" label in loc function"
   ]
  },
  {
   "cell_type": "code",
   "execution_count": 35,
   "metadata": {},
   "outputs": [
    {
     "ename": "SyntaxError",
     "evalue": "invalid syntax (<ipython-input-35-8575da64dade>, line 1)",
     "output_type": "error",
     "traceback": [
      "\u001b[1;36m  File \u001b[1;32m\"<ipython-input-35-8575da64dade>\"\u001b[1;36m, line \u001b[1;32m1\u001b[0m\n\u001b[1;33m    print(brics3.iloc[[1:4]]) #This will now also include india and china using row index using iloc function\u001b[0m\n\u001b[1;37m                        ^\u001b[0m\n\u001b[1;31mSyntaxError\u001b[0m\u001b[1;31m:\u001b[0m invalid syntax\n"
     ]
    }
   ],
   "source": [
    "print(brics3.iloc[[1:4]]) #This should have included  india and china using row index using iloc function. "
   ]
  },
  {
   "cell_type": "code",
   "execution_count": 36,
   "metadata": {},
   "outputs": [
    {
     "name": "stdout",
     "output_type": "stream",
     "text": [
      "   country    capital    area  population\n",
      "RS  Russia     Moscow  17.100       143.5\n",
      "IN   India  New Delhi   3.286      1252.0\n",
      "CH   China    Beijing   9.597      1357.0\n"
     ]
    }
   ],
   "source": [
    "print(brics3.iloc[[1,2,3]]) #This will now  include india and china using row index using iloc function"
   ]
  },
  {
   "cell_type": "code",
   "execution_count": 38,
   "metadata": {},
   "outputs": [
    {
     "name": "stdout",
     "output_type": "stream",
     "text": [
      "   country    capital\n",
      "RS  Russia     Moscow\n",
      "IN   India  New Delhi\n",
      "CH   China    Beijing\n"
     ]
    }
   ],
   "source": [
    "print(brics3.iloc[[1,2,3],[0,1]])  #This will include data only from country and capital for selected row indexes"
   ]
  },
  {
   "cell_type": "code",
   "execution_count": 39,
   "metadata": {},
   "outputs": [
    {
     "name": "stdout",
     "output_type": "stream",
     "text": [
      "   country    capital\n",
      "BR  Brazil   Brasilia\n",
      "RS  Russia     Moscow\n",
      "IN   India  New Delhi\n",
      "CH   China    Beijing\n"
     ]
    }
   ],
   "source": [
    "print(brics3.iloc[:,[0,1]]) #This will include data of country and capital all rows"
   ]
  },
  {
   "cell_type": "code",
   "execution_count": null,
   "metadata": {},
   "outputs": [],
   "source": []
  },
  {
   "cell_type": "code",
   "execution_count": null,
   "metadata": {},
   "outputs": [],
   "source": []
  }
 ],
 "metadata": {
  "kernelspec": {
   "display_name": "Python 3",
   "language": "python",
   "name": "python3"
  },
  "language_info": {
   "codemirror_mode": {
    "name": "ipython",
    "version": 3
   },
   "file_extension": ".py",
   "mimetype": "text/x-python",
   "name": "python",
   "nbconvert_exporter": "python",
   "pygments_lexer": "ipython3",
   "version": "3.6.4"
  }
 },
 "nbformat": 4,
 "nbformat_minor": 2
}
