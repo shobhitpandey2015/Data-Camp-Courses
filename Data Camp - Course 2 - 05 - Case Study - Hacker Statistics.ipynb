{
 "cells": [
  {
   "cell_type": "code",
   "execution_count": 1,
   "metadata": {},
   "outputs": [
    {
     "data": {
      "text/plain": [
       "0.23300911914959754"
      ]
     },
     "execution_count": 1,
     "metadata": {},
     "output_type": "execute_result"
    }
   ],
   "source": [
    "#Random Generators (available in numpy package)\n",
    "\n",
    "import numpy as np\n",
    "\n",
    "np.random.rand() #genrates a random number between 0 and 1"
   ]
  },
  {
   "cell_type": "code",
   "execution_count": 5,
   "metadata": {},
   "outputs": [
    {
     "data": {
      "text/plain": [
       "0.2268514535642031"
      ]
     },
     "execution_count": 5,
     "metadata": {},
     "output_type": "execute_result"
    }
   ],
   "source": [
    "np.random.rand() #a different random number"
   ]
  },
  {
   "cell_type": "code",
   "execution_count": 3,
   "metadata": {},
   "outputs": [
    {
     "name": "stdout",
     "output_type": "stream",
     "text": [
      "0.6964691855978616\n",
      "0.28613933495037946\n"
     ]
    }
   ],
   "source": [
    "#How is the aboe random number created?\n",
    "#computers usually create so called pseudo-random numbers - generated from a mathematical formula starting with a random seed\n",
    "#we can set the seed manually\n",
    "\n",
    "np.random.seed(123) #setting seed to 123\n",
    "print(np.random.rand()) #calling rand functions twice to work on now defined seed at 123\n",
    "print(np.random.rand())"
   ]
  },
  {
   "cell_type": "code",
   "execution_count": 4,
   "metadata": {},
   "outputs": [
    {
     "name": "stdout",
     "output_type": "stream",
     "text": [
      "0.6964691855978616\n",
      "0.28613933495037946\n"
     ]
    }
   ],
   "source": [
    "#Let's reset the seed to 123 and try random numbers again\n",
    "\n",
    "np.random.seed(123)\n",
    "print(np.random.rand())\n",
    "print(np.random.rand())  "
   ]
  },
  {
   "cell_type": "code",
   "execution_count": null,
   "metadata": {},
   "outputs": [],
   "source": [
    "#so we generated teh same outputs starting with same seed!! Even if it is random! This is why it is pseudo random\n",
    "# Selecting seed ensures reproducibilty in generating random numbers where it is required.\n",
    "#For example in the case of hacker -statistics problems, where we need to run different version of same algorithm on random numbers dataset.\n",
    "\n"
   ]
  },
  {
   "cell_type": "code",
   "execution_count": 8,
   "metadata": {},
   "outputs": [
    {
     "name": "stdout",
     "output_type": "stream",
     "text": [
      "0\n",
      "HEADS\n"
     ]
    }
   ],
   "source": [
    "#-- EXAMPLE : Simulating a coin toss using other capabilities of np.random... function\n",
    "\n",
    "np.random.seed(123) #defining a seed\n",
    "coin = np.random.randint(0,2) #generates random integer between 0 and 2 (includes 0 but not two- so possible outcomes 0 and 1)\n",
    "print(coin)\n",
    "if coin==0:\n",
    "    print(\"HEADS\")\n",
    "else:\n",
    "    print(\"TAILS\")  #since the seed is defined it will always result in 0 for the first random number"
   ]
  },
  {
   "cell_type": "code",
   "execution_count": 11,
   "metadata": {},
   "outputs": [
    {
     "name": "stdout",
     "output_type": "stream",
     "text": [
      "The dice eye was 3 so we reach step 51\n"
     ]
    }
   ],
   "source": [
    "## Empire State building hacker Statistics\n",
    "\n",
    "#In the Empire State Building bet, your next move depends on the number of eyes you throw with the dice. \n",
    "#Roll the dice, if dice is 1 or 2, you go one step down.\n",
    "# if dice is 3, 4 or 5, you go one step up.\n",
    "# Else, you throw the dice again. The number of eyes is the number of steps you go up.\n",
    "# You start at step 0  and there is a probability of flling the step (starting over again) of 0.1% eah time you take a step\n",
    "\n",
    "#Step 1 : Assuming we are at 50th step, lets use randomint() fucntion to see the if-else cases\n",
    "\n",
    "# Starting step\n",
    "step = 50\n",
    "dice = np.random.randint(1,7) # Roll the dice\n",
    "if dice <= 2 : # Finish the control construct\n",
    "    step = step - 1\n",
    "elif dice >= 3 and dice <=5 :\n",
    "    step = step + 1\n",
    "else :\n",
    "    step = step + np.random.randint(1,7)\n",
    "\n",
    "print(\"The dice eye was \" + str(dice) + \" so we reach step \" + str(step))  "
   ]
  },
  {
   "cell_type": "code",
   "execution_count": 19,
   "metadata": {},
   "outputs": [
    {
     "name": "stdout",
     "output_type": "stream",
     "text": [
      "random steps example outcome : ['Heads', 'Tails', 'Tails', 'Tails', 'Tails', 'Tails', 'Tails', 'Heads', 'Heads', 'Heads']\n"
     ]
    }
   ],
   "source": [
    "#Since we used dice to determine the next step, its a random step\n",
    "#If we use the dice to determine next 100 steps, its called random walk (common in science, exmple Gambler's financial status, path of molecules etc)\n",
    "\n",
    "# Example of Random steps vs Random Walk\n",
    "\n",
    "# Randoms Steps example : Simulating 10 coin flis and storing data in a list (each step being random, not dependent on previous step)\n",
    "\n",
    "np.random.seed(110)\n",
    "outcomes = [] # creating an emtpy list\n",
    "\n",
    "for i in range(10) : #running iterations 10 times\n",
    "    coin1 = np.random.randint(0,2) \n",
    "    if coin1==0:\n",
    "        outcomes.append(\"Heads\")\n",
    "    else:\n",
    "        outcomes.append(\"Tails\")\n",
    "print(\"random steps example outcome : \" + str(outcomes))\n",
    "    "
   ]
  },
  {
   "cell_type": "code",
   "execution_count": 28,
   "metadata": {},
   "outputs": [
    {
     "name": "stdout",
     "output_type": "stream",
     "text": [
      "All outcomes : [0, 0, 1, 2, 3, 4, 5, 6, 6, 6, 6]\n",
      "The total number of tails in given range is :6\n"
     ]
    }
   ],
   "source": [
    "#An example of converting above randoms steps example to random walk would be to track the total number of tails while simulating a game\n",
    "\n",
    "np.random.seed(110)\n",
    "tails = [0] #start with a list containing 0 as he the only element\n",
    "for i in range(10) : #running iterations 10 times\n",
    "        coin1 = np.random.randint(0,2) \n",
    "        tails.append(tails[i]+ coin1) #stores value for each iteration. However increase the number of tails only if 1 comes\n",
    "        \n",
    "print(\"All outcomes : \" + str(tails)) #shows how with each iteration, the tails number went up\n",
    "print(\"The total number of tails in given range is :\" + str(tails[-1])) #the final element in tails list gives the number of tails that turned up\n",
    " \n",
    "    \n",
    "    ## -- This is how a bunch of random steps are converted into a random walk"
   ]
  },
  {
   "cell_type": "code",
   "execution_count": 31,
   "metadata": {},
   "outputs": [
    {
     "name": "stdout",
     "output_type": "stream",
     "text": [
      "[0, -1, 0, 6, 5, 4, 3, 2, 3, 4, 3, 2, 3, 2, 3, 2, 1, 0, 1, 2, 3, 2, 3, 4, 3, 2, 3, 2, 3, 2, 5, 4, 10, 11, 12, 13, 14, 13, 12, 13, 14, 13, 19, 20, 21, 22, 21, 20, 21, 23, 24, 29, 30, 31, 32, 33, 32, 31, 30, 35, 36, 42, 43, 45, 46, 45, 46, 45, 51, 52, 55, 56, 57, 58, 57, 60, 61, 62, 67, 72, 71, 74, 73, 74, 73, 74, 73, 72, 73, 78, 77, 81, 82, 85, 86, 87, 86, 85, 88, 89, 88]\n",
      "You are on step no : 88\n"
     ]
    }
   ],
   "source": [
    "#Step 2 for Empire State case  : Simulating random walk for 100 steps \n",
    "\n",
    "np.random.seed(110)\n",
    "random_walk = [0] # Initialize random_walk -- we are at bottom of empire state building\n",
    "for x in range(100) : #100 random steps\n",
    "    step = random_walk[-1] #step is the value of last element stored in random_walk list after pervious iteration\n",
    "    dice = np.random.randint(1,7)    # Roll the dice\n",
    "    if dice <= 2:  # Determine next step\n",
    "        step = step - 1\n",
    "    elif dice <= 5:\n",
    "        step = step + 1\n",
    "    else:\n",
    "        step = step + np.random.randint(1,7)\n",
    "    random_walk.append(step) # append next_step to random_walk ; that is convert random individual steps to a random wak\n",
    "\n",
    "# Print random_walk\n",
    "print(random_walk)  #the output will change depending upon seed \n",
    "print(\"You are on step no : \" + str(random_walk[-1]))"
   ]
  },
  {
   "cell_type": "code",
   "execution_count": 32,
   "metadata": {},
   "outputs": [
    {
     "name": "stdout",
     "output_type": "stream",
     "text": [
      "[0, 0, 1, 7, 6, 5, 4, 3, 4, 5, 4, 3, 4, 3, 4, 3, 2, 1, 2, 3, 4, 3, 4, 5, 4, 3, 4, 3, 4, 3, 6, 5, 11, 12, 13, 14, 15, 14, 13, 14, 15, 14, 20, 21, 22, 23, 22, 21, 22, 24, 25, 30, 31, 32, 33, 34, 33, 32, 31, 36, 37, 43, 44, 46, 47, 46, 47, 46, 52, 53, 56, 57, 58, 59, 58, 61, 62, 63, 68, 73, 72, 75, 74, 75, 74, 75, 74, 73, 74, 79, 78, 82, 83, 86, 87, 88, 87, 86, 89, 90, 89]\n",
      "You are on step no : 89\n"
     ]
    }
   ],
   "source": [
    "#ooks good, but we see a negative value there which is not possible as lowest step is 0. \n",
    "\n",
    "# -- max() funcntion : If you pass max() two arguments, the biggest one gets returned. \n",
    "# For example, to make sure that a variable x never goes below 10 when you decrease it by 1, you can use:\n",
    "#      x = max(10, x - 1)\n",
    "\n",
    "#Step 3 for Empire State case  : Simulating random walk for 100 steps but consider we cant go lower than 0\n",
    "np.random.seed(110)\n",
    "random_walk = [0] # Initialize random_walk -- we are at bottom of empire state building\n",
    "for x in range(100) : #100 random steps\n",
    "    step = random_walk[-1] #step is the value of last element stored in random_walk list after pervious iteration\n",
    "    dice = np.random.randint(1,7)    # Roll the dice\n",
    "    if dice <= 2:  # Determine next step\n",
    "        step = max(0, step - 1)\n",
    "    elif dice <= 5:\n",
    "        step = step + 1\n",
    "    else:\n",
    "        step = step + np.random.randint(1,7)\n",
    "    random_walk.append(step) # append next_step to random_walk ; that is convert random individual steps to a random wak\n",
    "\n",
    "# Print random_walk\n",
    "print(random_walk)  \n",
    "print(\"You are on step no : \" + str(random_walk[-1]))  \n",
    "\n",
    "#the output dint change as the seed was same, so in total we are now one step up taking cae of the one negative value"
   ]
  },
  {
   "cell_type": "code",
   "execution_count": 35,
   "metadata": {},
   "outputs": [
    {
     "data": {
      "image/png": "[encoded data removed]",
      "text/plain": [
       "<matplotlib.figure.Figure at 0x1f1aca69c50>"
      ]
     },
     "metadata": {},
     "output_type": "display_data"
    }
   ],
   "source": [
    "#Visuaizeing our steps\n",
    "\n",
    "import matplotlib.pyplot as plt\n",
    "\n",
    "plt.plot(random_walk)  #only passed one argument to plot, so will map it against the lists index while plotting automatically\n",
    "plt.show() "
   ]
  },
  {
   "cell_type": "code",
   "execution_count": 41,
   "metadata": {},
   "outputs": [
    {
     "name": "stdout",
     "output_type": "stream",
     "text": [
      "[89, 66, 99, 73, 28, 98, 79, 83, 65, 70]\n"
     ]
    }
   ],
   "source": [
    "#Step 3 : How to find probability via studying DISTRIBUTION OF RANDOM WALKS \n",
    "\n",
    "## above we had the one play example of empire state case outcome. \n",
    "#TO get a DISTRIBUTION OF FINAL STEP we end at we need to simulate this 1000s of times and see the final step we reach\n",
    "\n",
    "np.random.seed(110)\n",
    "\n",
    "final_step = [] #an empty final_step list, which will store the final outcome of eah random walk\n",
    "\n",
    "for y in range (10):#total 1000 trails; so 1000 random walk outcomes\n",
    "    random_walk = [0] # Initialize random_walk -- we are at bottom of empire state building for each trial\n",
    "    for x in range(100) : #100 random steps for each random walk trial\n",
    "        step = random_walk[-1] #step is the value of last element stored in random_walk list after pervious iteration\n",
    "        dice = np.random.randint(1,7)    # Roll the dice\n",
    "        if dice <= 2:  # Determine next step\n",
    "            step = max(0, step - 1) #Making sure we dont go below 0\n",
    "        elif dice <= 5:\n",
    "            step = step + 1\n",
    "        else:\n",
    "            step = step + np.random.randint(1,7)\n",
    "        random_walk.append(step) # append next_step to random_walk ; that is convert random individual steps to a random wak\n",
    "     \n",
    "    final_step.append(random_walk[-1])#appending the final step we are at each random walk trial outcome \n",
    "\n",
    "    \n",
    "print(final_step)\n",
    "\n"
   ]
  },
  {
   "cell_type": "code",
   "execution_count": 44,
   "metadata": {},
   "outputs": [
    {
     "data": {
      "text/plain": [
       "<function matplotlib.pyplot.show>"
      ]
     },
     "execution_count": 44,
     "metadata": {},
     "output_type": "execute_result"
    },
    {
     "data": {
      "image/png": "[encoded data removed]",
      "text/plain": [
       "<matplotlib.figure.Figure at 0x1f1b0d5c3c8>"
      ]
     },
     "metadata": {},
     "output_type": "display_data"
    }
   ],
   "source": [
    "#Step 4 : Looking at the distribution (now with 10000 runs to maximizae accuracy) using  histograms\n",
    "\n",
    "np.random.seed(110)\n",
    "\n",
    "final_step = [] #an empty final_step list, which will store the final outcome of eah random walk\n",
    "\n",
    "for y in range (99000):#total 99000 trails; so 99000 random walk outcomes\n",
    "    random_walk = [0] # Initialize random_walk -- we are at bottom of empire state building for each trial\n",
    "    for x in range(100) : #100 random steps for each random walk trial\n",
    "        step = random_walk[-1] #step is the value of last element stored in random_walk list after pervious iteration\n",
    "        dice = np.random.randint(1,7)    # Roll the dice\n",
    "        if dice <= 2:  # Determine next step\n",
    "            step = max(0, step - 1) #Making sure we dont go below 0\n",
    "        elif dice <= 5:\n",
    "            step = step + 1\n",
    "        else:\n",
    "            step = step + np.random.randint(1,7)\n",
    "        random_walk.append(step) # append next_step to random_walk ; that is convert random individual steps to a random wak\n",
    "     \n",
    "    final_step.append(random_walk[-1])#appending the final step we are at each random walk trial outcome \n",
    "\n",
    "import matplotlib.pyplot as plt   \n",
    "plt.hist(final_step, bins = 10) #plotting a histogram of final steps distribution over 10 bins\n",
    "plt.show\n",
    "\n",
    "#thus the max probability is to reach atleast 60 floors. "
   ]
  },
  {
   "cell_type": "code",
   "execution_count": null,
   "metadata": {},
   "outputs": [],
   "source": []
  }
 ],
 "metadata": {
  "kernelspec": {
   "display_name": "Python 3",
   "language": "python",
   "name": "python3"
  },
  "language_info": {
   "codemirror_mode": {
    "name": "ipython",
    "version": 3
   },
   "file_extension": ".py",
   "mimetype": "text/x-python",
   "name": "python",
   "nbconvert_exporter": "python",
   "pygments_lexer": "ipython3",
   "version": "3.6.4"
  }
 },
 "nbformat": 4,
 "nbformat_minor": 2
}
