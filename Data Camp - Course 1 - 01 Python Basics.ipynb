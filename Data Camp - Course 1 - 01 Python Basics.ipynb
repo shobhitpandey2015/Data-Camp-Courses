{
 "cells": [
  {
   "cell_type": "code",
   "execution_count": null,
   "metadata": {
    "scrolled": true
   },
   "outputs": [],
   "source": []
  },
  {
   "cell_type": "code",
   "execution_count": null,
   "metadata": {},
   "outputs": [],
   "source": [
    "## Basic Calculations in Python\n",
    "\n",
    "# Addition and subtraction\n",
    "print(5 + 5)\n",
    "print(5 - 5)\n",
    "\n",
    "# Multiplication and division\n",
    "print(3 * 5)\n",
    "print(10 / 2)\n",
    "\n",
    "# Exponentiation\n",
    "print(4 ** 2)\n",
    "\n",
    "# Modulo = returns the remainder of the division\n",
    "print(18 % 7)\n",
    "\n",
    "# Exercise 1 : Suppose you have $100, which you can invest with a 10% return each year.\n",
    "#After one year, it's 100×1.1=110 dollars, and after two years it's 100×1.1×1.1=121. \n",
    "#How much is your $100 worth after 7 years?\n",
    "print(100*1.1**7)"
   ]
  },
  {
   "cell_type": "code",
   "execution_count": null,
   "metadata": {},
   "outputs": [],
   "source": [
    "# In Python, a variable (case senstivie) allows you to refer to a value with a name, and can be of different types. \n",
    "# Common numerical data types are Integers (int) and  Float (float).\n",
    "\n",
    "# Create a variable savings\n",
    "savings = 100\n",
    "\n",
    "# Create a variable factor\n",
    "growth_multiplier = 1.1\n",
    "\n",
    "# Calculate result, which is amount you would save after 7 years.\n",
    "result = savings*growth_multiplier**7\n",
    "\n",
    "# Print out result\n",
    "print(result)\n",
    "\n",
    "# Next to numerical data types, there are two other very common data types:\n",
    "\n",
    "# string (str): a type to represent text. You can use single or double quotes to build a string.\n",
    "# boolean (bool): a type to represent logical values. Can only be True or False (the capitalization is important!).\n",
    "\n",
    "# type() : To find out the type of a value or a variable that refers to that value. Example the result variable above shoud be a float.\n",
    "\n",
    "print(type(result))\n",
    "\n",
    "\n",
    "#Notice operations in python differe for different variable types. For example look at how + works on integers and strings\n",
    "\n",
    "string1 = 'Gomti '\n",
    "string2 = 'Loves Shobhit'\n",
    "string3 = string1 + string2\n",
    "print(string3)\n",
    "\n",
    "#we can print the type of the string3 variable too\n",
    "print(type(string3))"
   ]
  },
  {
   "cell_type": "code",
   "execution_count": null,
   "metadata": {},
   "outputs": [],
   "source": [
    "#Using the + operator to paste together two strings can be very useful in building custom messages.\n",
    "#However while doing so different data types are often needed to be added. \n",
    "#One cannot simply sum strings and floats. So data type conversion is required \n",
    "\n",
    "#functions such as str(), int(), float() and bool() will help you convert Python values into any type.\n",
    "\n",
    "# From above eample.Defining savings and result\n",
    "savings = 100\n",
    "result = 100 * 1.10 ** 7\n",
    "\n",
    "# Printing a custom message\n",
    "print(\"I started with $\" + str(savings) + \" and now have $\" + str(result) + \". Awesome!\")\n",
    "\n",
    "# Definition of pi_string\n",
    "pi_string = \"3.1415926\"\n",
    "\n",
    "# Convert pi_string into float: pi_float and printing it\n",
    "pi_float = float(pi_string)\n",
    "print(type(pi_float))"
   ]
  },
  {
   "cell_type": "code",
   "execution_count": null,
   "metadata": {},
   "outputs": [],
   "source": []
  }
 ],
 "metadata": {
  "kernelspec": {
   "display_name": "Python 3",
   "language": "python",
   "name": "python3"
  },
  "language_info": {
   "codemirror_mode": {
    "name": "ipython",
    "version": 3
   },
   "file_extension": ".py",
   "mimetype": "text/x-python",
   "name": "python",
   "nbconvert_exporter": "python",
   "pygments_lexer": "ipython3",
   "version": "3.6.4"
  }
 },
 "nbformat": 4,
 "nbformat_minor": 2
}
