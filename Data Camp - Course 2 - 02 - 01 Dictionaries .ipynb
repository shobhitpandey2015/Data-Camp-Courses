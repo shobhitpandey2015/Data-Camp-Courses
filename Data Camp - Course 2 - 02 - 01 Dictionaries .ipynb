{
 "cells": [
  {
   "cell_type": "code",
   "execution_count": 1,
   "metadata": {},
   "outputs": [
    {
     "name": "stdout",
     "output_type": "stream",
     "text": [
      "The population of albenia is: 2.77\n"
     ]
    }
   ],
   "source": [
    "#Dictionaries is a new python data type, which are a set of key:value pairs. Lets see where it is useful\n",
    "\n",
    "#suppose we have three countries listed in one list and there population listed in another list. \n",
    "\n",
    "countries = ['afghanistan', 'albenia', 'algeria']\n",
    "pop = [30.55, 2.77, 39.21] #in billions\n",
    "\n",
    "#Now we want to find the population of albenia. This is not straightforwarrd using list. \n",
    "#We have to first find the index of albenia in the countries list, and use that index to call for the required answer from the pop list\n",
    "\n",
    "index = countries.index('albenia')\n",
    "print('The population of albenia is: ' + str(pop[index]))"
   ]
  },
  {
   "cell_type": "code",
   "execution_count": 2,
   "metadata": {},
   "outputs": [
    {
     "name": "stdout",
     "output_type": "stream",
     "text": [
      "2.77\n"
     ]
    }
   ],
   "source": [
    "# so we built two lists, and connected the indexes in the corresponding list to do above task, which i very tideous\n",
    "# Dictionaries provides a way to connect the population to their respective countries without using an index\n",
    "\n",
    "#-- To crear dictionaries we need {key1:value1, key2:value2, ..... } curly brackets with key:value pairs\n",
    "# Lets creat the dictionary world\n",
    "\n",
    "world = {'afghanistan':30.55, 'albenia':2.77, 'algeria':39.21}\n",
    "\n",
    "#Now to get population of albenia, we just need to tpe this\n",
    "\n",
    "print(world['albenia'])   #Therefore fo dict_name[key] ; result is corresponding value"
   ]
  },
  {
   "cell_type": "code",
   "execution_count": 3,
   "metadata": {},
   "outputs": [
    {
     "name": "stdout",
     "output_type": "stream",
     "text": [
      "dict_keys(['afghanistan', 'albenia', 'algeria'])\n"
     ]
    }
   ],
   "source": [
    "#We can call all the keys, by using the keys() method on the dictionary\n",
    "\n",
    "print(world.keys())"
   ]
  },
  {
   "cell_type": "code",
   "execution_count": 4,
   "metadata": {},
   "outputs": [
    {
     "name": "stdout",
     "output_type": "stream",
     "text": [
      "{'afghanistan': 30.55, 'albenia': 2.98, 'algeria': 39.21}\n"
     ]
    }
   ],
   "source": [
    "## PROPERTIES OF DICTIONARIES\n",
    "\n",
    "#-- Each key in the dictionary should be unique\n",
    "\n",
    "#Lets say we created the 'Albenia' key twice, then the dictionary will only store one of them (the last one)\n",
    "world = {'afghanistan':30.55, 'albenia':2.77, 'algeria':39.21, 'albenia':2.98 }\n",
    "print(world)\n"
   ]
  },
  {
   "cell_type": "code",
   "execution_count": 7,
   "metadata": {},
   "outputs": [
    {
     "name": "stdout",
     "output_type": "stream",
     "text": [
      "{0: 'Hello', True: 'Dear', 1.34: 'World'}\n"
     ]
    }
   ],
   "source": [
    "## PROPERTIES OF DICTIONARIES\n",
    "\n",
    "#-- Dictionary key have to be immutable objects.\n",
    "\n",
    "#Immutabable objects are objects whose content cannot be changed after they are created\n",
    "#Strings, bool, int, floats are immutable objects\n",
    "#However lists are mutable objects (as its content can be changed)\n",
    "\n",
    "valid_dict = {0:\"Hello\", True: \"Dear\", 1.34 : \"World\"}  #This dictionary is valid as all keys are immutable objects\n",
    "print(valid_dict)"
   ]
  },
  {
   "cell_type": "code",
   "execution_count": 8,
   "metadata": {},
   "outputs": [
    {
     "ename": "TypeError",
     "evalue": "unhashable type: 'list'",
     "output_type": "error",
     "traceback": [
      "\u001b[1;31m---------------------------------------------------------------------------\u001b[0m",
      "\u001b[1;31mTypeError\u001b[0m                                 Traceback (most recent call last)",
      "\u001b[1;32m<ipython-input-8-476807b5f295>\u001b[0m in \u001b[0;36m<module>\u001b[1;34m()\u001b[0m\n\u001b[1;32m----> 1\u001b[1;33m \u001b[0minvalid_dict\u001b[0m \u001b[1;33m=\u001b[0m \u001b[1;33m{\u001b[0m\u001b[1;33m[\u001b[0m\u001b[1;34m\"Just\"\u001b[0m\u001b[1;33m,\u001b[0m \u001b[1;34m\"To\"\u001b[0m\u001b[1;33m,\u001b[0m \u001b[1;34m\"Test\"\u001b[0m\u001b[1;33m]\u001b[0m \u001b[1;33m:\u001b[0m \u001b[1;34m\"World\"\u001b[0m\u001b[1;33m}\u001b[0m \u001b[1;31m#This contains list which is a mutable object as key. So its invalid\u001b[0m\u001b[1;33m\u001b[0m\u001b[0m\n\u001b[0m",
      "\u001b[1;31mTypeError\u001b[0m: unhashable type: 'list'"
     ]
    }
   ],
   "source": [
    "invalid_dict = {[\"Just\", \"To\", \"Test\"] : \"World\"} #This contains list which is a mutable object as key. So its invalid"
   ]
  },
  {
   "cell_type": "code",
   "execution_count": 9,
   "metadata": {},
   "outputs": [
    {
     "name": "stdout",
     "output_type": "stream",
     "text": [
      "{'afghanistan': 30.55, 'albenia': 2.77, 'algeria': 39.21, 'croatia': 19.7}\n"
     ]
    }
   ],
   "source": [
    "# Now lets see how to add data to an available dictionary\n",
    "\n",
    "world = {'afghanistan':30.55, 'albenia':2.77, 'algeria':39.21}\n",
    "\n",
    "#Lets add population of croatia to this list which is 19.7 for example\n",
    "\n",
    "world['croatia'] = 19.7\n",
    "\n",
    "print(world) #We can see croatia:19.7 key:value pair is added to the original world dictionary"
   ]
  },
  {
   "cell_type": "code",
   "execution_count": 10,
   "metadata": {},
   "outputs": [
    {
     "data": {
      "text/plain": [
       "True"
      ]
     },
     "execution_count": 10,
     "metadata": {},
     "output_type": "execute_result"
    }
   ],
   "source": [
    "#we can check if croatia is in there by writing \n",
    "\n",
    "'croatia' in world"
   ]
  },
  {
   "cell_type": "code",
   "execution_count": 11,
   "metadata": {},
   "outputs": [
    {
     "name": "stdout",
     "output_type": "stream",
     "text": [
      "{'afghanistan': 30.55, 'albenia': 2.77, 'algeria': 39.21, 'croatia': 15}\n"
     ]
    }
   ],
   "source": [
    "## -- Althugh keys are unique, however values of keys can be updated\n",
    "\n",
    "#example lets udate the croatia population to 15 and re print world dictionary\n",
    "\n",
    "world['croatia'] = 15\n",
    "print(world)"
   ]
  },
  {
   "cell_type": "code",
   "execution_count": 13,
   "metadata": {},
   "outputs": [
    {
     "name": "stdout",
     "output_type": "stream",
     "text": [
      "{'afghanistan': 30.55, 'albenia': 2.77, 'algeria': 39.21}\n"
     ]
    }
   ],
   "source": [
    "# -- Deleting a key:value pair is also straightforward again by pointing to the key using del() function\n",
    "\n",
    "del(world['croatia']) #removes croatia from the dictionary\n",
    "\n",
    "print(world)"
   ]
  },
  {
   "cell_type": "code",
   "execution_count": 14,
   "metadata": {},
   "outputs": [
    {
     "name": "stdout",
     "output_type": "stream",
     "text": [
      "46.77\n"
     ]
    }
   ],
   "source": [
    "#List should be used where we need collection of values, where order matters and we need to select entire subset of data\n",
    "#Dictionaries is more convinient for making lookup tables with unique keys\n",
    "\n",
    "#Dictionaries can contain key:value pairs where the values are again dictionaries. \n",
    "#The keys are still the country names, but the values are dictionaries that contain more information than just the capital.\n",
    "\n",
    "europe = { 'spain': { 'capital':'madrid', 'population':46.77 },\n",
    "           'france': { 'capital':'paris', 'population':66.03 },\n",
    "           'germany': { 'capital':'berlin', 'population':80.62 },\n",
    "           'norway': { 'capital':'oslo', 'population':5.084 } }\n",
    "\n",
    "#It's perfectly possible to chain square brackets to select elements. \n",
    "#To fetch the population for Spain from europe, for example, you need:\n",
    "\n",
    "print(europe['spain']['population'])"
   ]
  },
  {
   "cell_type": "code",
   "execution_count": 15,
   "metadata": {},
   "outputs": [
    {
     "name": "stdout",
     "output_type": "stream",
     "text": [
      "{'spain': {'capital': 'madrid', 'population': 46.77}, 'france': {'capital': 'paris', 'population': 66.03}, 'germany': {'capital': 'berlin', 'population': 80.62}, 'norway': {'capital': 'oslo', 'population': 5.084}, 'italy': {'capital': 'rome', 'population': 59.83}}\n"
     ]
    }
   ],
   "source": [
    "# Print out the capital of France\n",
    "europe['france']['capital']\n",
    "\n",
    "# Create sub-dictionary data\n",
    "data = {'capital':'rome', 'population':59.83 }\n",
    "\n",
    "# Add data to europe under key 'italy'\n",
    "europe['italy'] =  data\n",
    "\n",
    "# Print europe\n",
    "print(europe)"
   ]
  },
  {
   "cell_type": "code",
   "execution_count": null,
   "metadata": {},
   "outputs": [],
   "source": []
  }
 ],
 "metadata": {
  "kernelspec": {
   "display_name": "Python 3",
   "language": "python",
   "name": "python3"
  },
  "language_info": {
   "codemirror_mode": {
    "name": "ipython",
    "version": 3
   },
   "file_extension": ".py",
   "mimetype": "text/x-python",
   "name": "python",
   "nbconvert_exporter": "python",
   "pygments_lexer": "ipython3",
   "version": "3.6.4"
  }
 },
 "nbformat": 4,
 "nbformat_minor": 2
}
