{
 "cells": [
  {
   "cell_type": "code",
   "execution_count": 1,
   "metadata": {},
   "outputs": [
    {
     "name": "stdout",
     "output_type": "stream",
     "text": [
      "the max value in list1 is 111\n",
      "5.67 which is the 3rd element in list1 can be rounded to 5.7\n",
      "Help on built-in function round in module builtins:\n",
      "\n",
      "round(...)\n",
      "    round(number[, ndigits]) -> number\n",
      "    \n",
      "    Round a number to a given precision in decimal digits (default 0 digits).\n",
      "    This returns an int when called with one argument, otherwise the\n",
      "    same type as the number. ndigits may be negative.\n",
      "\n",
      "the list1 has 10 elements\n"
     ]
    }
   ],
   "source": [
    "#Functions are pieces of reusable code that solves particular tasks. \n",
    "#We have used type() and print() functions before \n",
    "# str(), int(), bool() and float() are also functions we know to switch between data types.\n",
    "\n",
    "#lets see some common functions usde on below list\n",
    "\n",
    "list1 = [2.2, 3.4, 5.67, 7, 8, 1.5, 9.0, 40, 111, 0.5]\n",
    "\n",
    "# max () -- returns the max value \n",
    "a = max(list1)\n",
    "print(\"the max value in list1 is \" + str(a))\n",
    "\n",
    "# round() --- takes 2 input, one is the number being round and second input to number of decimal places to round to. By defaults will round to integer.\n",
    "print(\"5.67 which is the 3rd element in list1 can be rounded to \" + str(round(list1[2],1))) #Rounding 5.67 to 1 decimal place and printing it\n",
    "\n",
    "\n",
    "# help() -- at any moment this can be called in to give help on any function. Example check for documentation on round. \n",
    "help(round)\n",
    "#this shows the roun() funciton has two arguments number and ndigits, with the ndigits being optional argument.\n",
    "\n",
    "#len() to get the number of elements in the list\n",
    "print(\"the list1 has \"+str(len(list1))+\" elements\")\n",
    "\n",
    "\n",
    "\n",
    "\n"
   ]
  },
  {
   "cell_type": "code",
   "execution_count": 2,
   "metadata": {},
   "outputs": [
    {
     "name": "stdout",
     "output_type": "stream",
     "text": [
      "Help on built-in function sorted in module builtins:\n",
      "\n",
      "sorted(iterable, /, *, key=None, reverse=False)\n",
      "    Return a new list containing all items from the iterable in ascending order.\n",
      "    \n",
      "    A custom key function can be supplied to customize the sort order, and the\n",
      "    reverse flag can be set to request the result in descending order.\n",
      "\n",
      "[11.25, 18.0, 20.0, 10.75, 9.5]\n",
      "[20.0, 18.0, 11.25, 10.75, 9.5]\n"
     ]
    }
   ],
   "source": [
    "#Multiple Arguments functions. Ex. sorted(iterabe, key = None, reverse = False)\n",
    "\n",
    "#Sort the final list in descending order\n",
    "\n",
    "help(sorted)\n",
    "\n",
    "# Create lists first and second\n",
    "first = [11.25, 18.0, 20.0]\n",
    "second = [10.75, 9.50]\n",
    "\n",
    "# Paste together first and second: full\n",
    "full = first + second\n",
    "print(full)\n",
    "\n",
    "# Sort full in descending order: full_sorted\n",
    "full_sorted = sorted(full, reverse=True)\n",
    "\n",
    "# Print out full_sorted\n",
    "print(full_sorted)"
   ]
  },
  {
   "cell_type": "code",
   "execution_count": 5,
   "metadata": {},
   "outputs": [
    {
     "name": "stdout",
     "output_type": "stream",
     "text": [
      "2\n",
      "1\n"
     ]
    }
   ],
   "source": [
    "# OBJECTS - So far we have learned about different variables which are all actauly objects in python\n",
    "\n",
    "height = ['shobhit', 1.2, 'gomti', 2.4, 'arvind', 5.6]\n",
    "value = 1.7\n",
    "sister = 'pragya'\n",
    "\n",
    "# all of thesea are objects with type list, float ana string respectively.\n",
    "#these Objects along with type come with a bunch of METHODS.\n",
    "\n",
    "# METHODS : These are functions that belong to a certain python object\n",
    "\n",
    "#For example we need to get the index of 'gomti' in the list. We can apply the method to the list object height.\n",
    "\n",
    "# syntax for using method on object : object.method()\n",
    "\n",
    "\n",
    "index_of_gomti = height.index('gomti') #there we called the method index() on height to find the index of 'gomti'\n",
    "print(index_of_gomti)\n",
    "\n",
    "#Similarly call method count() on height to find how many times something appears in the list.\n",
    "print(height.count(1.2)) #1.2 occurs one time, so the answer should be 1\n",
    "\n",
    "\n"
   ]
  },
  {
   "cell_type": "code",
   "execution_count": 10,
   "metadata": {},
   "outputs": [
    {
     "name": "stdout",
     "output_type": "stream",
     "text": [
      "Mom\n",
      "Liz changes to Lisa\n"
     ]
    }
   ],
   "source": [
    "#Methods are applicable for other object types too, including int, float, bool and string \n",
    "\n",
    "#Example of Methods for strings. \n",
    "\n",
    "# string.capitalize(), \n",
    "\n",
    "string1 = \"mom\"\n",
    "\n",
    "print(string1.capitalize()) #capitalizes and returns the string\n",
    "\n",
    "# string.replace('','') this replaces the former  part of string with later\n",
    "\n",
    "string2 = 'Liz'\n",
    "new_string2 = string2.replace(\"z\", \"sa\")\n",
    "print(\"Liz changes to \" + new_string2)\n",
    "\n"
   ]
  },
  {
   "cell_type": "code",
   "execution_count": 11,
   "metadata": {},
   "outputs": [
    {
     "name": "stdout",
     "output_type": "stream",
     "text": [
      "1\n",
      "4\n"
     ]
    }
   ],
   "source": [
    "### Everything in python is an OBJECT\n",
    "### Every object has associated METHODS depending onits type\n",
    "\n",
    "## Objects with different types can have methods with same name. Example object.index()\n",
    "\n",
    "string  = \"Mommy\"\n",
    "list1 = [1,2,3,4,5,6]\n",
    "\n",
    "print(string.index('o'))  #returns the index of the letter o in the string Mommy\n",
    "print(list1.index(5)) #returns the index of 5 in the list1\n",
    "\n",
    "#thus depending on the type of the object Methods behave differently"
   ]
  },
  {
   "cell_type": "code",
   "execution_count": 14,
   "metadata": {},
   "outputs": [
    {
     "name": "stdout",
     "output_type": "stream",
     "text": [
      "['a', 'b', 'c', 'd']\n"
     ]
    }
   ],
   "source": [
    "### Some METHODS can CHANGE THE OBJECT they are called on. \n",
    "\n",
    "#Example consider the append() method applied on the list2. Though it dosent generate output. It adds the element to the list2\n",
    "\n",
    "list2 = ['a','b','c']\n",
    "list2.append('d') #can add only one element at the end\n",
    "\n",
    "print(list2)"
   ]
  },
  {
   "cell_type": "code",
   "execution_count": null,
   "metadata": {},
   "outputs": [],
   "source": [
    "# PACKAGES are directory on python scripts. \n",
    "#Each packages are made up of MODULES\n",
    "#Each MODULE is is made up of function, methods and types\n",
    "\n",
    "#Many packages are available on python. Some popoluar are\n",
    "#Numpy -- to efficiently work with arrays\n",
    "#Matplotlib -- for data visualtion\n",
    "#Sci-Kit Learn -- for machine learning\n",
    "\n",
    "#Packages need to be installed on the system, and we need to use code in the script to use these packages\n",
    "\n",
    "#To install package on one's own system, we need to use pip\n",
    "\n",
    "#Step 1:  Donwload : get-pip.py \n",
    "#Step 2 : Go to terminal and type command : python3 get-pip.py ; this will allow us to use pip to install the python package we are choosing\n",
    "#Step 3: To install numpy as exampl; command :  pip3 install numpy\n",
    "\n",
    "#Now that the package is installed, we can now start using ti after importing it.\n",
    "\n",
    "#To use a python package, first import it or specific moldule of python package\n",
    "# IMPORTING Package in script command : import numpy"
   ]
  },
  {
   "cell_type": "code",
   "execution_count": 16,
   "metadata": {},
   "outputs": [
    {
     "ename": "NameError",
     "evalue": "name 'array' is not defined",
     "output_type": "error",
     "traceback": [
      "\u001b[1;31m---------------------------------------------------------------------------\u001b[0m",
      "\u001b[1;31mNameError\u001b[0m                                 Traceback (most recent call last)",
      "\u001b[1;32m<ipython-input-16-5144f37e4ba9>\u001b[0m in \u001b[0;36m<module>\u001b[1;34m()\u001b[0m\n\u001b[0;32m      1\u001b[0m \u001b[1;31m# A commonly used fucntion in numpy is array, which takes list as an input. However directly calling it will give an error\u001b[0m\u001b[1;33m\u001b[0m\u001b[1;33m\u001b[0m\u001b[0m\n\u001b[0;32m      2\u001b[0m \u001b[1;33m\u001b[0m\u001b[0m\n\u001b[1;32m----> 3\u001b[1;33m \u001b[0marray\u001b[0m\u001b[1;33m(\u001b[0m\u001b[1;33m[\u001b[0m\u001b[1;36m1\u001b[0m\u001b[1;33m,\u001b[0m\u001b[1;36m2\u001b[0m\u001b[1;33m,\u001b[0m\u001b[1;36m3\u001b[0m\u001b[1;33m]\u001b[0m\u001b[1;33m)\u001b[0m\u001b[1;33m\u001b[0m\u001b[0m\n\u001b[0m",
      "\u001b[1;31mNameError\u001b[0m: name 'array' is not defined"
     ]
    }
   ],
   "source": [
    "# A commonly used fucntion in numpy is array, which takes list as an input. However directly calling it will give an error \n",
    "\n",
    "array([1,2,3])"
   ]
  },
  {
   "cell_type": "code",
   "execution_count": 19,
   "metadata": {},
   "outputs": [
    {
     "data": {
      "text/plain": [
       "array([1, 2, 3])"
      ]
     },
     "execution_count": 19,
     "metadata": {},
     "output_type": "execute_result"
    }
   ],
   "source": [
    "#Thus we need to call it via numpy\n",
    "\n",
    "import numpy\n",
    "numpy.array([1,2,3])"
   ]
  },
  {
   "cell_type": "code",
   "execution_count": 20,
   "metadata": {},
   "outputs": [
    {
     "data": {
      "text/plain": [
       "array([5, 6, 7])"
      ]
     },
     "execution_count": 20,
     "metadata": {},
     "output_type": "execute_result"
    }
   ],
   "source": [
    "#using the numpy.   to refer to the package can be tideous, so we can import it smartly to call it more eficiently in a script\n",
    "\n",
    "import numpy as np\n",
    "np.array([5,6,7])"
   ]
  },
  {
   "cell_type": "code",
   "execution_count": 21,
   "metadata": {},
   "outputs": [
    {
     "data": {
      "text/plain": [
       "array([7, 8, 9])"
      ]
     },
     "execution_count": 21,
     "metadata": {},
     "output_type": "execute_result"
    }
   ],
   "source": [
    "#Sometime we want to use only a specific function of a package. \n",
    "#for example we just want to use array funcitonf from numpy.\n",
    "#then we can import this as follows, which allows you to simply call the array function directly in the script without numpy.()\n",
    "# usually this is not an efficietn method, as can be confusing in a long script\n",
    "\n",
    "from numpy import array \n",
    "array([7,8,9])"
   ]
  },
  {
   "cell_type": "code",
   "execution_count": 22,
   "metadata": {},
   "outputs": [
    {
     "name": "stdout",
     "output_type": "stream",
     "text": [
      "Circumference: 2.701769682087222\n",
      "Area: 0.5808804816487527\n"
     ]
    }
   ],
   "source": [
    "# Example of using pi from MATH package for area and circumference calculation \n",
    "\n",
    "# Definition of radius\n",
    "r = 0.43\n",
    "import math as m\n",
    "# Import the math package\n",
    "\n",
    "\n",
    "# Calculate C\n",
    "C = 2*m.pi*r\n",
    "\n",
    "# Calculate A\n",
    "A = m.pi*r**2\n",
    "\n",
    "# Build printout\n",
    "print(\"Circumference: \" + str(C))\n",
    "print(\"Area: \" + str(A))"
   ]
  },
  {
   "cell_type": "code",
   "execution_count": 23,
   "metadata": {},
   "outputs": [
    {
     "data": {
      "text/plain": [
       "array([[-2. ,  1. ],\n",
       "       [ 1.5, -0.5]])"
      ]
     },
     "execution_count": 23,
     "metadata": {},
     "output_type": "execute_result"
    }
   ],
   "source": [
    "#Importing from SUBPACKAGES\n",
    "\n",
    "#There are several ways to import packages and modules into Python. \n",
    "#Depending on the import call, you'll have to use different Python code.\n",
    "# Suppose you want to use the function inv(), which is in the linalg subpackage of the scipy package. This inverts the array. \n",
    "#You want to be able to use this function as follows directly into the script my_inv([[1,2], [3,4]])\n",
    "\n",
    "from scipy.linalg import inv as my_inv\n",
    "my_inv([[1,2], [3,4]])"
   ]
  },
  {
   "cell_type": "code",
   "execution_count": null,
   "metadata": {},
   "outputs": [],
   "source": []
  }
 ],
 "metadata": {
  "kernelspec": {
   "display_name": "Python 3",
   "language": "python",
   "name": "python3"
  },
  "language_info": {
   "codemirror_mode": {
    "name": "ipython",
    "version": 3
   },
   "file_extension": ".py",
   "mimetype": "text/x-python",
   "name": "python",
   "nbconvert_exporter": "python",
   "pygments_lexer": "ipython3",
   "version": "3.6.4"
  }
 },
 "nbformat": 4,
 "nbformat_minor": 2
}
