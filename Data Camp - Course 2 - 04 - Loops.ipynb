{
 "cells": [
  {
   "cell_type": "code",
   "execution_count": 1,
   "metadata": {},
   "outputs": [
    {
     "name": "stdout",
     "output_type": "stream",
     "text": [
      "12.5\n",
      "3.125\n",
      "0.78125\n"
     ]
    }
   ],
   "source": [
    "#Topics : \n",
    "    #1)While Loop -- general\n",
    "    #2)For Loop -- over lists and strings\n",
    "    #3)Looping Data Structrues - (i) dictionaries and  (ii) pandas DataFrames\n",
    "    #4)Looping Data Structures - PANDAS DataFrames\n",
    "\n",
    "# 1) While Loop (performa an actiion until a condition is met) :Syntax below \n",
    "\n",
    "# while condition:\n",
    "   # expression\n",
    "    \n",
    "#althugh while loop is not common but it could be useful where we are numerically calculating a model, \n",
    "#and we need to take same steps again ana again until the error is small enough\n",
    "\n",
    "error = 50\n",
    "\n",
    "while error>1:\n",
    "    error = error/4\n",
    "    print(error)\n",
    "    "
   ]
  },
  {
   "cell_type": "code",
   "execution_count": 3,
   "metadata": {},
   "outputs": [],
   "source": [
    "## -- Important -- if while loop goes into forever run due to error press Ctrl + C key to interrupt the program \n",
    "\n"
   ]
  },
  {
   "cell_type": "code",
   "execution_count": null,
   "metadata": {},
   "outputs": [],
   "source": [
    "error = 50\n",
    "\n",
    "while error<1:\n",
    "    error = error/4\n",
    "    print(error) #See how here it did not enter the while loop at all, because the first condition was not met only\n"
   ]
  },
  {
   "cell_type": "code",
   "execution_count": 8,
   "metadata": {},
   "outputs": [
    {
     "name": "stdout",
     "output_type": "stream",
     "text": [
      "[1.73, 1.68, 1.71, 1, 89]\n"
     ]
    }
   ],
   "source": [
    "# 2) FOR LOOPS : Syntax below\n",
    "\n",
    "# for var is seq:\n",
    "    # expression\n",
    "    \n",
    "#This means for each variable in sequence, execute the following expressions\n",
    "\n",
    "fam = [1.73, 1.68, 1.71, 1,89]\n",
    "print(fam) # print all list together\n"
   ]
  },
  {
   "cell_type": "code",
   "execution_count": 7,
   "metadata": {},
   "outputs": [
    {
     "name": "stdout",
     "output_type": "stream",
     "text": [
      "1.73\n",
      "1.68\n",
      "1.71\n",
      "1\n",
      "89\n"
     ]
    }
   ],
   "source": [
    "for i in fam:  #using for to print each number separately\n",
    "    print(i)    \n",
    "    \n",
    "#This means i want to execute something for each i in the fam list. i is any random variable\n",
    "#Inside the for loop we prinr out the value of every i \n",
    "#When the loop starts, in first iteration, python stores the value of fam's irst element in i and prints it. \n",
    "#This goes on as python knows it needs to do it on all elements"
   ]
  },
  {
   "cell_type": "code",
   "execution_count": 11,
   "metadata": {},
   "outputs": [
    {
     "name": "stdout",
     "output_type": "stream",
     "text": [
      "index 0:1.73\n",
      "index 1:1.68\n",
      "index 2:1.71\n",
      "index 3:1\n",
      "index 4:89\n"
     ]
    }
   ],
   "source": [
    "#In above solution we dont have access to indexes we are iterating over. Suppoese we want to have the print out to look like this\n",
    "#index 0 : 1.73\n",
    "#index 1 : 1.68 .... and so on\n",
    "\n",
    "## --- For this we need to use enumerate\n",
    "\n",
    "for x, y in enumerate(fam):   #Now enumerate(fam), produces two values for each iteration, the index of value is stored in x and the value in y\n",
    "    print(\"index \" + str(x) + \":\" + str(y) )"
   ]
  },
  {
   "cell_type": "code",
   "execution_count": 10,
   "metadata": {},
   "outputs": [
    {
     "name": "stdout",
     "output_type": "stream",
     "text": [
      "F\n",
      "A\n",
      "M\n",
      "I\n",
      "L\n",
      "Y\n"
     ]
    }
   ],
   "source": [
    "## --- For loop dosent just work with lists, we can also create a for loop which iterates over every character of a string\n",
    "\n",
    "for c in \"family\":  #This time for loop iterates oever every character in the string, and strores it in c one iteration at a time, following which it is capitalized\n",
    "    print(c.capitalize())"
   ]
  },
  {
   "cell_type": "code",
   "execution_count": null,
   "metadata": {},
   "outputs": [],
   "source": [
    "# house list of lists\n",
    "house = [[\"hallway\", 11.25], \n",
    "         [\"kitchen\", 18.0], \n",
    "         [\"living room\", 20.0], \n",
    "         [\"bedroom\", 10.75], \n",
    "         [\"bathroom\", 9.50]]\n",
    "         \n",
    "# Build a for loop from scratch to get the output type : \"x : y\" where x is area type and y is the asociated area\n",
    "for x in house: #Stores iteratiely each element (which here is sublist) in x. We can access elements in x by slixing it x[0] and x[1]\n",
    "    print(x) "
   ]
  },
  {
   "cell_type": "code",
   "execution_count": 1,
   "metadata": {},
   "outputs": [
    {
     "name": "stdout",
     "output_type": "stream",
     "text": [
      "afghansitan--30.55\n",
      "albania--2.77\n",
      "algeria--39.21\n"
     ]
    }
   ],
   "source": [
    "#3) Looping Data Structures - Part 1 - Dictionaries Looping\n",
    "\n",
    "#for loops for these can be constructued similary as above, the way we define the sequence while iterating depends on the data structure\n",
    "\n",
    "world = {\"afghansitan\":30.55, \"albania\":2.77, \"algeria\":39.21} #country names and corresponding populations\n",
    "\n",
    "#using for loop for printing each key and value pair separately \n",
    "\n",
    "for key, value in world.items():  #The method .items() on world is necessary for this to work \n",
    "    print(key + \"--\" + str(value))  #Again the names key and value could be any variable and is arbitary\n",
    "    \n",
    "#note that dictionary are inherently un-ordered, the order in which they are iterated over is not fixed\n",
    "\n"
   ]
  },
  {
   "cell_type": "code",
   "execution_count": 3,
   "metadata": {},
   "outputs": [
    {
     "name": "stdout",
     "output_type": "stream",
     "text": [
      "afghansitan--30.55\n",
      "albania--2.77\n",
      "algeria--39.21\n"
     ]
    }
   ],
   "source": [
    "for x, y in world.items():  #The method .items() on world is necessary for this to work \n",
    "    print(x + \"--\" + str(y))  #Again the names key and value could be any variable and is arbitary, here it is x and y\n",
    "    \n",
    "#the order of x and y matters as the first (x) gets the key and second (y) gets the value upon iteration of for loop thrugh dictionary\n"
   ]
  },
  {
   "cell_type": "code",
   "execution_count": 6,
   "metadata": {},
   "outputs": [
    {
     "name": "stdout",
     "output_type": "stream",
     "text": [
      "7.4074074074074066\n",
      "7.075962539021852\n",
      "10.699588477366254\n",
      "35.54687499999999\n",
      "11.419753086419753\n"
     ]
    }
   ],
   "source": [
    "#3) Looping Data Structures - Part 1 - Numpy Arrays\n",
    "\n",
    "import numpy as np\n",
    "\n",
    "#Lets create 1D  numpy array from the following lists, as done previously\n",
    "np_height = np.array(height) #using height list to createt the numpy array np_weight\n",
    "np_weight = np.array(weight) #using height list to createt the numpy array np_height\n",
    "bmi = np_weight/np_height ** 2 #numpy array allow this directly\n",
    "\n",
    "#for loop for numpy array is pretty straightforward\n",
    "\n",
    "for k in bmi:\n",
    "    print(k)"
   ]
  },
  {
   "cell_type": "code",
   "execution_count": 7,
   "metadata": {},
   "outputs": [
    {
     "name": "stdout",
     "output_type": "stream",
     "text": [
      "[54. 68. 78. 91. 37.]\n",
      "[2.7 3.1 2.7 1.6 1.8]\n"
     ]
    }
   ],
   "source": [
    "#Lets see for 2D Numpt array\n",
    "\n",
    "np_2D = np.array([np_weight, np_height])\n",
    "\n",
    "#lets apply the same for lopo syntax as aboe and see what happens\n",
    "\n",
    "for value in np_2D: \n",
    "    print(value) #this just print out each element (in this case two lists) of the 2D numpy array, but not the all individual elements"
   ]
  },
  {
   "cell_type": "code",
   "execution_count": 8,
   "metadata": {},
   "outputs": [
    {
     "name": "stdout",
     "output_type": "stream",
     "text": [
      "54.0\n",
      "68.0\n",
      "78.0\n",
      "91.0\n",
      "37.0\n",
      "2.7\n",
      "3.1\n",
      "2.7\n",
      "1.6\n",
      "1.8\n"
     ]
    }
   ],
   "source": [
    "# -- for printing out and iterating over each element even of the lists we need to use np.nditer function of numpy array\n",
    "\n",
    "for val in np.nditer(np_2D):\n",
    "    print(val) #this time it iterated internally through all the elemets of the list and prints out 10 observations"
   ]
  },
  {
   "cell_type": "code",
   "execution_count": null,
   "metadata": {},
   "outputs": [],
   "source": [
    "## SUMMARY of part 3) syntax of for loops on differnet data types : \n",
    "\n",
    "# --- Dictionary case requires method\n",
    "    #for key, value in my_dict.items():\n",
    "    \n",
    "# --- Numpy Arrays requires function \n",
    "    #for val in np.nditer(my_array):"
   ]
  },
  {
   "cell_type": "code",
   "execution_count": 9,
   "metadata": {},
   "outputs": [
    {
     "name": "stdout",
     "output_type": "stream",
     "text": [
      "   country    capital    area  population\n",
      "BR  Brazil   Brasilia   8.516       200.4\n",
      "RS  Russia     Moscow  17.100       143.5\n",
      "IN   India  New Delhi   3.286      1252.0\n",
      "CH   China    Beijing   9.597      1357.0\n"
     ]
    }
   ],
   "source": [
    "## 4) Looping PANDAS DataFrames\n",
    "\n",
    "import pandas as pd #importing our excel file in a DataFrame\n",
    "\n",
    "brics3 = pd.read_csv(\"D:\\Data Camp\\Course 2-02-02-Bricks.csv\", index_col = 0) #Importing the previous brics DataFrame from csv\n",
    "print(brics3)"
   ]
  },
  {
   "cell_type": "code",
   "execution_count": 10,
   "metadata": {},
   "outputs": [
    {
     "name": "stdout",
     "output_type": "stream",
     "text": [
      "country\n",
      "capital\n",
      "area\n",
      "population\n"
     ]
    }
   ],
   "source": [
    "#lets see what a normal for loop syntax would do\n",
    "\n",
    "for x in brics3:\n",
    "    print(x) #this interestingly prints out just the first row element wise"
   ]
  },
  {
   "cell_type": "code",
   "execution_count": 12,
   "metadata": {},
   "outputs": [
    {
     "name": "stdout",
     "output_type": "stream",
     "text": [
      "BR\n",
      "country         Brazil\n",
      "capital       Brasilia\n",
      "area             8.516\n",
      "population       200.4\n",
      "Name: BR, dtype: object\n",
      "RS\n",
      "country       Russia\n",
      "capital       Moscow\n",
      "area            17.1\n",
      "population     143.5\n",
      "Name: RS, dtype: object\n",
      "IN\n",
      "country           India\n",
      "capital       New Delhi\n",
      "area              3.286\n",
      "population         1252\n",
      "Name: IN, dtype: object\n",
      "CH\n",
      "country         China\n",
      "capital       Beijing\n",
      "area            9.597\n",
      "population       1357\n",
      "Name: CH, dtype: object\n"
     ]
    }
   ],
   "source": [
    "# --- In PANDAS we have to mention explicitly that we want to iterate over the rows using .iterrows() method on DataFrame\n",
    "# -- .iterrows()  method interates over rows and generates two pieces of data : label of row and actual data in the row in the form of Panda Series\n",
    "\n",
    "\n",
    "for label, row in brics3.iterrows():\n",
    "    print(label) #printing row label (label) and row data (stored in row) separetly and iteratively \n",
    "    print(row)"
   ]
  },
  {
   "cell_type": "code",
   "execution_count": 14,
   "metadata": {},
   "outputs": [
    {
     "name": "stdout",
     "output_type": "stream",
     "text": [
      "BR : Brasilia\n",
      "RS : Moscow\n",
      "IN : New Delhi\n",
      "CH : Beijing\n"
     ]
    }
   ],
   "source": [
    "#in the above output for the first iteration, label is BR and row is entire Panda Series\n",
    "#Since the row value stored here is a Panda Series, we can use subsetting methods for panda series learnt earlier to seelctivel print\n",
    "#Suppose we only want to print the capital data\n",
    "\n",
    "for label, row in brics3.iterrows():\n",
    "    print(label + \" : \" + row[\"capital\"])"
   ]
  },
  {
   "cell_type": "code",
   "execution_count": 16,
   "metadata": {},
   "outputs": [
    {
     "name": "stdout",
     "output_type": "stream",
     "text": [
      "   country    capital    area  population  name_length\n",
      "BR  Brazil   Brasilia   8.516       200.4          6.0\n",
      "RS  Russia     Moscow  17.100       143.5          6.0\n",
      "IN   India  New Delhi   3.286      1252.0          5.0\n",
      "CH   China    Beijing   9.597      1357.0          5.0\n"
     ]
    }
   ],
   "source": [
    "## We can take this further than simple print outs. \n",
    "#Let's add acoloumn to the brics3 DataFrame haing name length, which stores the number of characters the country name counts.\n",
    "#using for loop for above task\n",
    "\n",
    "for label, row in brics3.iterrows():\n",
    "    brics3.loc[label, \"name_length\"]= len(row[\"country\"])\n",
    "    \n",
    "print(brics3)\n",
    "    \n",
    "#Thus for each iteration it finds out the length of country name for the row label (iteration number) we are in and adds it to brics using loc function\n",
    "#This did it but its ineffcient as it creates a series onbject at every iteration and we use sicing and further len function to process the data"
   ]
  },
  {
   "cell_type": "code",
   "execution_count": 20,
   "metadata": {},
   "outputs": [
    {
     "name": "stdout",
     "output_type": "stream",
     "text": [
      "   country    capital    area  population  name_length\n",
      "BR  Brazil   Brasilia   8.516       200.4            6\n",
      "RS  Russia     Moscow  17.100       143.5            6\n",
      "IN   India  New Delhi   3.286      1252.0            5\n",
      "CH   China    Beijing   9.597      1357.0            5\n"
     ]
    }
   ],
   "source": [
    "#A better way to calculate an entire DataFrame coloun by applying a particular function on a particular coloumn elements wise \n",
    "#We use the .apply() function\n",
    "\n",
    "brics3[\"name_length\"] = brics3[\"country\"].apply(len) \n",
    "print(brics3)\n",
    "\n",
    "\n",
    "#Here we dont even need for loop\n",
    "# the apply function acts on the selected coloumn by calling function chosen (length here) to act on each element of the coloumn to generate a new array\n",
    "#the newly generated array can be stored in as a new coloumn by just using the Pandas DataFrame feature."
   ]
  },
  {
   "cell_type": "code",
   "execution_count": null,
   "metadata": {},
   "outputs": [],
   "source": []
  }
 ],
 "metadata": {
  "kernelspec": {
   "display_name": "Python 3",
   "language": "python",
   "name": "python3"
  },
  "language_info": {
   "codemirror_mode": {
    "name": "ipython",
    "version": 3
   },
   "file_extension": ".py",
   "mimetype": "text/x-python",
   "name": "python",
   "nbconvert_exporter": "python",
   "pygments_lexer": "ipython3",
   "version": "3.6.4"
  }
 },
 "nbformat": 4,
 "nbformat_minor": 2
}
