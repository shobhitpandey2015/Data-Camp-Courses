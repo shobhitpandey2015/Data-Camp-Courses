{
 "cells": [
  {
   "cell_type": "code",
   "execution_count": 1,
   "metadata": {},
   "outputs": [],
   "source": [
    "# Comparison Operators : <, >, >=, <=, ==, !=\n",
    "# Boolean Operators : and, or, not\n",
    "\n",
    "# We looked at above two type, now lets look at CONDITIONAL STATEMENTS : if, elif, else\n"
   ]
  },
  {
   "cell_type": "code",
   "execution_count": 8,
   "metadata": {},
   "outputs": [
    {
     "name": "stdout",
     "output_type": "stream",
     "text": [
      "Checking if z is even\n",
      "z is even\n",
      "not part of if statement as its not indented\n"
     ]
    }
   ],
   "source": [
    "# If condition:\n",
    "     # execute expresssion\n",
    "    \n",
    "z = 4\n",
    "if z%2 == 0 :  \n",
    "    print(\"Checking if z is even\") #indentation is necessary  for each expression statement\n",
    "    print(\"z is even\") \n",
    "    \n",
    "print('not part of if statement as its not indented') #to exit if statement expressions just dont use indentation\n"
   ]
  },
  {
   "cell_type": "code",
   "execution_count": 9,
   "metadata": {},
   "outputs": [
    {
     "name": "stdout",
     "output_type": "stream",
     "text": [
      "z is odd\n",
      "Not part of if and else\n"
     ]
    }
   ],
   "source": [
    "# But if expressions are executed only if the output of if statement condition is True. \n",
    "\n",
    "#If we want python to take action on set of expressions when if condition is False, then we need to use ELSE statement\n",
    "\n",
    "#Syntax -   \n",
    "\n",
    "#if condition:\n",
    "    #expressions\n",
    "#else:          (no condition needed for else, if we do need this part then elif comes in picture)\n",
    "    #expression\n",
    "\n",
    "z =5\n",
    "if z%2==0 :\n",
    "    print(\"z is evevn\")\n",
    "else: #same indentation to know its responding to failure of above if its liked to\n",
    "    print(\"z is odd\")\n",
    "    \n",
    "print(\"Not part of if and else\")"
   ]
  },
  {
   "cell_type": "code",
   "execution_count": 10,
   "metadata": {},
   "outputs": [
    {
     "name": "stdout",
     "output_type": "stream",
     "text": [
      "z divisible by3\n"
     ]
    }
   ],
   "source": [
    "#Syntak for more complex logic flow\n",
    "\n",
    "# if condition:\n",
    "     #expressoins\n",
    "# elif condiion:\n",
    "     #expressions\n",
    "# else :\n",
    "     #expressions\n",
    "    \n",
    "z = 3\n",
    "if z%2 == 0:\n",
    "    print(\"z divisible by 2\")\n",
    "elif z%3 == 0:\n",
    "    print(\"z divisible by3\")\n",
    "else:\n",
    "    print(\"z not divisble by 2 and 3\")"
   ]
  },
  {
   "cell_type": "code",
   "execution_count": null,
   "metadata": {},
   "outputs": [],
   "source": []
  }
 ],
 "metadata": {
  "kernelspec": {
   "display_name": "Python 3",
   "language": "python",
   "name": "python3"
  },
  "language_info": {
   "codemirror_mode": {
    "name": "ipython",
    "version": 3
   },
   "file_extension": ".py",
   "mimetype": "text/x-python",
   "name": "python",
   "nbconvert_exporter": "python",
   "pygments_lexer": "ipython3",
   "version": "3.6.4"
  }
 },
 "nbformat": 4,
 "nbformat_minor": 2
}
