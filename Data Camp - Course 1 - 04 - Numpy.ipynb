{
 "cells": [
  {
   "cell_type": "code",
   "execution_count": 1,
   "metadata": {},
   "outputs": [
    {
     "ename": "TypeError",
     "evalue": "unsupported operand type(s) for ** or pow(): 'list' and 'int'",
     "output_type": "error",
     "traceback": [
      "\u001b[1;31m---------------------------------------------------------------------------\u001b[0m",
      "\u001b[1;31mTypeError\u001b[0m                                 Traceback (most recent call last)",
      "\u001b[1;32m<ipython-input-1-25a87a1f0447>\u001b[0m in \u001b[0;36m<module>\u001b[1;34m()\u001b[0m\n\u001b[0;32m     10\u001b[0m \u001b[1;33m\u001b[0m\u001b[0m\n\u001b[0;32m     11\u001b[0m \u001b[1;31m#If we just multiply the lists it wont work for bmi\u001b[0m\u001b[1;33m\u001b[0m\u001b[1;33m\u001b[0m\u001b[0m\n\u001b[1;32m---> 12\u001b[1;33m \u001b[0mbmi\u001b[0m \u001b[1;33m=\u001b[0m \u001b[0mweight\u001b[0m\u001b[1;33m/\u001b[0m \u001b[0mheight\u001b[0m \u001b[1;33m**\u001b[0m\u001b[1;36m2\u001b[0m\u001b[1;33m\u001b[0m\u001b[0m\n\u001b[0m",
      "\u001b[1;31mTypeError\u001b[0m: unsupported operand type(s) for ** or pow(): 'list' and 'int'"
     ]
    }
   ],
   "source": [
    "## Numpy that is numeric python amongst others providesan alternative to the regular python lists : Numpy Array\n",
    "\n",
    "# NUmpy Arrays are similar to lists, but unlike lists calculations can be performed on entire arrays\n",
    "\n",
    "import numpy as np\n",
    "\n",
    "#Lets create numpy arrays from the following ists\n",
    "height = [2.7, 3.1, 2.7, 1.6, 1.8]\n",
    "weight= [54, 68, 78, 91, 37]\n",
    "\n",
    "#If we just multiply the lists it wont work for bmi\n",
    "bmi = weight/ height **2"
   ]
  },
  {
   "cell_type": "code",
   "execution_count": 2,
   "metadata": {},
   "outputs": [
    {
     "name": "stdout",
     "output_type": "stream",
     "text": [
      "[ 7.40740741  7.07596254 10.69958848 35.546875   11.41975309]\n",
      " bmi is of <class 'numpy.ndarray'>type\n"
     ]
    }
   ],
   "source": [
    "#however using numpy arrays this can be done\n",
    "\n",
    "np_height = np.array(height) #using height list to createt the numpy array np_weight\n",
    "np_weight = np.array(weight) #using height list to createt the numpy array np_height\n",
    "\n",
    "bmi = np_weight/np_height ** 2 # this does it perfectly element wise\n",
    "print(bmi)\n",
    "print(' bmi is of ' + str(type(bmi)) + 'type')"
   ]
  },
  {
   "cell_type": "code",
   "execution_count": 3,
   "metadata": {},
   "outputs": [
    {
     "name": "stdout",
     "output_type": "stream",
     "text": [
      "['1' '2.3' 'True' 'love']\n"
     ]
    }
   ],
   "source": [
    "#NUmpy remarks : \n",
    "\n",
    "# -- Numpy can do al of these calculations imply because it assumes your numpy array can only contain values of single type (ex all float, or all bolean etc)\n",
    "# -- if we try to create a numpy array with different data type it just converts all elements to string to get a string numpy array\n",
    "# --  Numpy array is a new type of python type, ie floats, strings, int, bool, lists\n",
    "\n",
    "np_array1 = np.array([1, 2.3, True, 'love'])\n",
    "print(np_array1)  #look how all differnet data tpe elements are converted to strings"
   ]
  },
  {
   "cell_type": "code",
   "execution_count": 4,
   "metadata": {},
   "outputs": [
    {
     "name": "stdout",
     "output_type": "stream",
     "text": [
      "This is the result of adding list1 and list2 normally as lists :[1, 2, 3, 4, 5, 6, 7, 8]\n",
      "This is the result of adding list1 and list2 as numpy arrays :[ 6  8 10 12]\n"
     ]
    }
   ],
   "source": [
    "# -- Since numpy array is itself a data type in python, it comes with its own methods which behave specifically for it.\n",
    "\n",
    "#Consider how + acts different on list and numpy array\n",
    "\n",
    "list1 = [1,2,3,4]\n",
    "list2 = [5,6,7,8]\n",
    "np_list1 = np.array(list1)\n",
    "np_list2 = np.array(list2)\n",
    "\n",
    "\n",
    "list3 = list1+ list2\n",
    "list4  = np_list1 + np_list2\n",
    "\n",
    "print('This is the result of adding list1 and list2 normally as lists :' + str(list3))\n",
    "print('This is the result of adding list1 and list2 as numpy arrays :' + str(list4))"
   ]
  },
  {
   "cell_type": "code",
   "execution_count": 5,
   "metadata": {},
   "outputs": [
    {
     "name": "stdout",
     "output_type": "stream",
     "text": [
      "7.4074074074074066\n"
     ]
    }
   ],
   "source": [
    "##Subsetting Numpy Arrays is simar to lists \n",
    "\n",
    "#lets call 1st element of bmi from above\n",
    "\n",
    "print(bmi[0])\n"
   ]
  },
  {
   "cell_type": "code",
   "execution_count": 6,
   "metadata": {},
   "outputs": [
    {
     "data": {
      "text/plain": [
       "array([False, False,  True,  True,  True])"
      ]
     },
     "execution_count": 6,
     "metadata": {},
     "output_type": "execute_result"
    }
   ],
   "source": [
    "#There is another way of doing subsetting in Numpy array, using the array of BOOLEANS\n",
    "\n",
    "#Say we want to get all the bmi values in above bmi numpy array with values greater than 10, we can do this easily.\n",
    "\n",
    "bmi>10"
   ]
  },
  {
   "cell_type": "code",
   "execution_count": 7,
   "metadata": {},
   "outputs": [
    {
     "data": {
      "text/plain": [
       "array([10.69958848, 35.546875  , 11.41975309])"
      ]
     },
     "execution_count": 7,
     "metadata": {},
     "output_type": "execute_result"
    }
   ],
   "source": [
    "#we can next subset the bmi this way, to show only the elements in bmi with values greaer than 10\n",
    "bmi[bmi>10]"
   ]
  },
  {
   "cell_type": "code",
   "execution_count": 8,
   "metadata": {},
   "outputs": [
    {
     "name": "stdout",
     "output_type": "stream",
     "text": [
      "[[ 2.7  3.1  2.7  1.6  1.8]\n",
      " [54.  68.  78.  91.  37. ]]\n",
      "[[ 2.7  3.1  2.7  1.6  1.8]\n",
      " [54.  68.  78.  91.  37. ]]\n",
      "(2, 5)\n",
      "2.7\n",
      "2.7\n"
     ]
    },
    {
     "data": {
      "text/plain": [
       "array([[ 3.1,  2.7],\n",
       "       [68. , 78. ]])"
      ]
     },
     "execution_count": 8,
     "metadata": {},
     "output_type": "execute_result"
    }
   ],
   "source": [
    "## Nmupy are of datay type nmupy.ndarray which means its from numpy package and is a n-dimensional array\n",
    "\n",
    "#Above examples were 1d numpy arrays, lets create 2D Numpy Arrays : np.array([ , ]) that is rows are separated by commas.\n",
    "# Note ay nmupy array with any  dimension should have all its elements with single data type\n",
    "\n",
    "#lets call out the hieght and weight list and convert it to one array that is np_2D\n",
    "\n",
    "height = [2.7, 3.1, 2.7, 1.6, 1.8]\n",
    "weight= [54, 68, 78, 91, 37]\n",
    "\n",
    "np_2D = np.array([height, weight]) #directly using lists\n",
    "np_2D1 = np.array([[2.7, 3.1, 2.7, 1.6, 1.8], [54, 68, 78, 91, 37]]) #same thing\n",
    "\n",
    "print(np_2D)\n",
    "print(np_2D1)\n",
    "\n",
    "#We can see this has a rectangular data structrue, where each sublist in a list correpsonds to 2D row in a 2D numpy array1\n",
    "\n",
    "print(np_2D.shape) #We can get the dimension of the 2D array, using .shape attribute. Here it give (2,5) which is 2 rows and 5 coloumns\n",
    "\n",
    "#Subsettin og 2D numpy array; suppose we want to get element from 1st row and 3rd coloumn. Can be done two ways.\n",
    "print(np_2D[0][2])\n",
    "print(np_2D[0,2]) #another way of subsetting 2D numpy array\n",
    "\n",
    "#Suppose we want elements in 2nd and 3rd coloumn from all rows\n",
    "np_2D[:, 1:3]"
   ]
  },
  {
   "cell_type": "code",
   "execution_count": 9,
   "metadata": {},
   "outputs": [
    {
     "name": "stdout",
     "output_type": "stream",
     "text": [
      "[[1 2]\n",
      " [3 4]\n",
      " [5 6]]\n",
      "[[ 2  4]\n",
      " [ 6  8]\n",
      " [10 12]]\n",
      "[[11 12]\n",
      " [13 14]\n",
      " [15 16]]\n",
      "[[ 2  4]\n",
      " [ 6  8]\n",
      " [10 12]]\n"
     ]
    }
   ],
   "source": [
    "#See how numpy arrays can be operated upon\n",
    "\n",
    "np_mat = np.array([[1, 2],\n",
    "                   [3, 4],\n",
    "                   [5, 6]])\n",
    "print(np_mat)\n",
    "print(np_mat * 2) #Multiplies each element with 2; all 9 elements\n",
    "print(np_mat + np.array([10, 10])) #No of coloumns should be same, adds the corresponding coloums elements to each row\n",
    "print(np_mat + np_mat) #Adds each equivalent position elements"
   ]
  },
  {
   "cell_type": "code",
   "execution_count": 14,
   "metadata": {},
   "outputs": [
    {
     "name": "stdout",
     "output_type": "stream",
     "text": [
      "5.0\n",
      "5.0\n",
      "0.816496580927726\n",
      "[[1.  0.5]\n",
      " [0.5 1. ]]\n"
     ]
    }
   ],
   "source": [
    "## Numpy - BASIC STATISTICS\n",
    "\n",
    "#Numpy is performing statitsics operations on all of the data in the array at once for big data \n",
    "\n",
    "#Example numpy mean function\n",
    "\n",
    "np_mat2 = np.array([[5, 5],\n",
    "                   [4, 4],\n",
    "                   [6, 6]])\n",
    "\n",
    "print(np.mean(np_mat2)) #find mean value of all elements in np_mat ; since mean function is from nupy package, it starts with np.mean()\n",
    "print(np.mean(np_mat2[:,1])) #find mean value of all elements in 2nd coloumn of np_mat\n",
    "print(np.std(np_mat2)) #find standard deviation\n",
    "print(np.corrcoef(np_mat2[:,0],np_mat[:,1]))  #find correlation if any between 1st and 2nd coloumn\n"
   ]
  },
  {
   "cell_type": "code",
   "execution_count": 18,
   "metadata": {},
   "outputs": [
    {
     "name": "stdout",
     "output_type": "stream",
     "text": [
      "[0.98 2.7  3.09 2.88 2.43 2.96]\n",
      "[6.39 6.83 5.01 6.   5.11 4.97]\n",
      "[[0.98 6.39]\n",
      " [2.7  6.83]\n",
      " [3.09 5.01]\n",
      " [2.88 6.  ]\n",
      " [2.43 5.11]\n",
      " [2.96 4.97]]\n"
     ]
    }
   ],
   "source": [
    "# Numy can GENERATE DATA using random numbers\n",
    "\n",
    "# Syntax is np.random.normal(distribution mean, distribution standard deviaion, no of samples)\n",
    "#Addtionally we can round the numbers to 2 decimal places using np.round (  , no of digits to round)\n",
    "\n",
    "np_random1 = np.round(np.random.normal(2.4, 0.5, 6), 2)\n",
    "np_random2 = np.round(np.random.normal(5.6, 0.5, 6), 2)\n",
    "\n",
    "print(np_random1)\n",
    "print(np_random2)\n",
    "\n",
    "# We can then stack these arrays as two coloumns usign np.coloumn_stack\n",
    "np_stack = np.column_stack((np_random1, np_random2))\n",
    "print(np_stack)"
   ]
  },
  {
   "cell_type": "code",
   "execution_count": null,
   "metadata": {},
   "outputs": [],
   "source": []
  }
 ],
 "metadata": {
  "kernelspec": {
   "display_name": "Python 3",
   "language": "python",
   "name": "python3"
  },
  "language_info": {
   "codemirror_mode": {
    "name": "ipython",
    "version": 3
   },
   "file_extension": ".py",
   "mimetype": "text/x-python",
   "name": "python",
   "nbconvert_exporter": "python",
   "pygments_lexer": "ipython3",
   "version": "3.6.4"
  }
 },
 "nbformat": 4,
 "nbformat_minor": 2
}
