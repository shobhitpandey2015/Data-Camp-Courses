{
 "cells": [
  {
   "cell_type": "code",
   "execution_count": 1,
   "metadata": {},
   "outputs": [],
   "source": [
    "# ## ITERATORS and ITERABLES - Part 2  - Playing with iterators\n",
    "\n",
    "## --- Playing with iterates using important functions \n",
    "    # 1) Enumerate()  -  will add a counter to any iterable\n",
    "    # 2) Zip() - will allow us to stitch an arbitary number of iterables \n",
    "    # 3) Using * (splat operator) and zip to 'unzip' as there is no particular unzip function"
   ]
  },
  {
   "cell_type": "code",
   "execution_count": 2,
   "metadata": {},
   "outputs": [
    {
     "name": "stdout",
     "output_type": "stream",
     "text": [
      "<class 'enumerate'>\n",
      "[(0, 'shobhit'), (1, 'gomti'), (2, 'arvind'), (3, 'kshama')]\n"
     ]
    }
   ],
   "source": [
    "# 1) enumerate() function \n",
    "    # enumerate() takes in any iterable as arugment and returns a special enumerate object\n",
    "    # enumerate object - consists of pairs of elements of the original iterable along with the index within the iterable as a tuple\n",
    "    # enumerate object itself is iterable : #-- can use list() to convert it to a list of tuple pairs\n",
    "                                            #-- can use for loop to iterate over the enumerate() to unpack the elements\n",
    "    \n",
    "\n",
    "names = [\"shobhit\", \"gomti\", \"arvind\", \"kshama\"]\n",
    "e = enumerate(names)      #< --- enumerate takes in any iterable as arugment such a list here and return the enumerate object\n",
    "print(type(e))    # <--  enumerate object type which itself is iterable\n",
    "\n",
    "e_list = list(e) # <-- returns a list of tuples since enumerate object is an iterable and list() can pass it as argument\n",
    "print(e_list)\n"
   ]
  },
  {
   "cell_type": "code",
   "execution_count": 3,
   "metadata": {},
   "outputs": [
    {
     "name": "stdout",
     "output_type": "stream",
     "text": [
      "0 shobhit\n",
      "1 gomti\n",
      "2 arvind\n",
      "3 kshama\n"
     ]
    }
   ],
   "source": [
    "# Alternatively we can loop over the enumerate obejct to unpack\n",
    "\n",
    "for index, value in enumerate(names):\n",
    "    print(index, value)  #< -- by default enumerate starts indexing at 0"
   ]
  },
  {
   "cell_type": "code",
   "execution_count": 4,
   "metadata": {},
   "outputs": [
    {
     "name": "stdout",
     "output_type": "stream",
     "text": [
      "10 shobhit\n",
      "11 gomti\n",
      "12 arvind\n",
      "13 kshama\n"
     ]
    }
   ],
   "source": [
    "# We can alter the indexing start by passing additional optional argument while calling enumerate() to create iterable enumerate object\n",
    "\n",
    "for index, value in enumerate(names, start = 10):\n",
    "    print(index, value)  # <--indexing now starts from 10"
   ]
  },
  {
   "cell_type": "code",
   "execution_count": 5,
   "metadata": {},
   "outputs": [
    {
     "name": "stdout",
     "output_type": "stream",
     "text": [
      "<class 'zip'>\n"
     ]
    }
   ],
   "source": [
    "# 2) zip() function \n",
    "    # accepts arbitary number of iterables and returns an iterator of tuples of special object type : zip\n",
    "    # Object zip : it is an iterator of tuples\n",
    "    \n",
    "names1 = [\"shobhit\", \"gomti\", \"arvind\", \"kshama\"] \n",
    "names2 = [\"rahul\", \"aditya\", \"swapnil\"]\n",
    "\n",
    "names_all = zip(names1, names2) # < --- accepts the iterators as arguments (arbitary number)\n",
    "print(type(names_all))  # <-- returns a zip object which is an iterator of tuples."
   ]
  },
  {
   "cell_type": "code",
   "execution_count": 6,
   "metadata": {},
   "outputs": [
    {
     "name": "stdout",
     "output_type": "stream",
     "text": [
      "[('shobhit', 'rahul'), ('gomti', 'aditya'), ('arvind', 'swapnil')]\n"
     ]
    }
   ],
   "source": [
    "# since zip is iterable (as its iterator of tuples), we can convert it to a list \n",
    "\n",
    "list_names_all  = list(names_all)\n",
    "print(list_names_all) # <-- print all the "
   ]
  },
  {
   "cell_type": "code",
   "execution_count": 7,
   "metadata": {},
   "outputs": [
    {
     "name": "stdout",
     "output_type": "stream",
     "text": [
      "shobhit rahul\n",
      "gomti aditya\n",
      "arvind swapnil\n"
     ]
    }
   ],
   "source": [
    "# alternatively we can also use for lopps over zip object to unpack it\n",
    "\n",
    "for x, y in zip(names1, names2):\n",
    "    print(x,y)"
   ]
  },
  {
   "cell_type": "code",
   "execution_count": 8,
   "metadata": {},
   "outputs": [
    {
     "name": "stdout",
     "output_type": "stream",
     "text": [
      "('shobhit', 'rahul') ('gomti', 'aditya') ('arvind', 'swapnil')\n"
     ]
    }
   ],
   "source": [
    "# alternatively we can use the * (splat operator) to print all the zip elements\n",
    "\n",
    "names_all =  zip(names1, names2) \n",
    "print(*names_all) "
   ]
  },
  {
   "cell_type": "code",
   "execution_count": 9,
   "metadata": {},
   "outputs": [
    {
     "name": "stdout",
     "output_type": "stream",
     "text": [
      "[('charles xavier', 'prof x', 'telepathy'), ('bobby drake', 'iceman', 'thermokinesis'), ('kurt wagner', 'nightcrawler', 'teleportation'), ('max eisenhardt', 'magneto', 'magnetokinesis'), ('kitty pryde', 'shadowcat', 'intangibility')]\n",
      "<zip object at 0x00000223B84E30C8>\n",
      "charles xavier prof x telepathy\n",
      "bobby drake iceman thermokinesis\n",
      "kurt wagner nightcrawler teleportation\n",
      "max eisenhardt magneto magnetokinesis\n",
      "kitty pryde shadowcat intangibility\n"
     ]
    }
   ],
   "source": [
    "# Example :\n",
    "\n",
    "# Three lists of strings are pre-loaded: mutants, aliases, and powers\n",
    "\n",
    "mutants = ['charles xavier', 'bobby drake', 'kurt wagner', 'max eisenhardt', 'kitty pryde']\n",
    "aliases = ['prof x', 'iceman', 'nightcrawler', 'magneto', 'shadowcat']\n",
    "powers = ['telepathy', 'thermokinesis', 'teleportation', 'magnetokinesis', 'intangibility']\n",
    "\n",
    "# Create a list of tuples: mutant_data\n",
    "mutant_data = list(zip(mutants, aliases, powers))\n",
    "\n",
    "# Print the list of tuples\n",
    "print(mutant_data)\n",
    "\n",
    "# Create a zip object using the three lists: mutant_zip\n",
    "mutant_zip = zip(mutants, aliases, powers)\n",
    "\n",
    "# Print the zip object\n",
    "print(mutant_zip)\n",
    "\n",
    "# Unpack the zip object and print the tuple values\n",
    "for value1,value2,value3 in mutant_zip:\n",
    "    print(value1, value2, value3)"
   ]
  },
  {
   "cell_type": "code",
   "execution_count": 12,
   "metadata": {},
   "outputs": [
    {
     "name": "stdout",
     "output_type": "stream",
     "text": [
      "('charles xavier', 'telepathy') ('bobby drake', 'thermokinesis') ('kurt wagner', 'teleportation') ('max eisenhardt', 'magnetokinesis') ('kitty pryde', 'intangibility')\n",
      "<zip object at 0x00000223B84E3948>\n",
      "False\n",
      "False\n"
     ]
    }
   ],
   "source": [
    "\n",
    "\n",
    "# 3) Using * (splat operator) and zip to 'unzip' \n",
    "\n",
    "    #There is no unzip function for doing the reverse of what zip() does. \n",
    "    #We can, however, reverse what has been zipped together by using zip() with a little help from * (splat operator)\n",
    "    # Splat operator * unpacks an iterable such as a list or a tuple into positional arguments in a function call. \n",
    "\n",
    "    # Example <-- Dosent work here but works in the ipython shell\n",
    "mutants = ['charles xavier', 'bobby drake', 'kurt wagner', 'max eisenhardt', 'kitty pryde']\n",
    "powers = ['telepathy', 'thermokinesis', 'teleportation', 'magnetokinesis', 'intangibility'] \n",
    "\n",
    "# Create a zip object from mutants and powers: z1\n",
    "z1 = zip(mutants, powers)\n",
    "\n",
    "# Print the tuples in z1 by unpacking with *\n",
    "print(*z1)\n",
    "\n",
    "# Re-create a zip object from mutants and powers: z1\n",
    "z1 = zip(mutants, powers)  \n",
    "\n",
    "# Unzip' the tuples in z1 by unpacking them into positional arguments using the * operator in a zip() call.\n",
    "# Assign the results to result1 and result2, in that order.\n",
    "result1, result2 = zip(*z1))  #<-- see how multiple variables can be defined in one go to use the * splat operator\n",
    "\n",
    "\n",
    "# Check if unpacked tuples are equivalent to original tuples\n",
    "print(result1 == mutants)\n",
    "print(result2 == powers)  "
   ]
  },
  {
   "cell_type": "code",
   "execution_count": null,
   "metadata": {},
   "outputs": [],
   "source": []
  }
 ],
 "metadata": {
  "kernelspec": {
   "display_name": "Python 3",
   "language": "python",
   "name": "python3"
  },
  "language_info": {
   "codemirror_mode": {
    "name": "ipython",
    "version": 3
   },
   "file_extension": ".py",
   "mimetype": "text/x-python",
   "name": "python",
   "nbconvert_exporter": "python",
   "pygments_lexer": "ipython3",
   "version": "3.6.4"
  }
 },
 "nbformat": 4,
 "nbformat_minor": 2
}
