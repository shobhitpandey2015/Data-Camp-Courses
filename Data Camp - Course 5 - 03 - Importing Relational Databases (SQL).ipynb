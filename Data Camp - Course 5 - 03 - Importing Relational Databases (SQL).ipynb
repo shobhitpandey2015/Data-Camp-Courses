{
 "cells": [
  {
   "cell_type": "code",
   "execution_count": 14,
   "metadata": {},
   "outputs": [],
   "source": [
    "#$ RELATIONAL DATABASES:\n",
    "\n",
    "### 1) INTRODUCTION \n",
    "\n",
    "    ## What is a realtional database ? Example of Company's order book database (Order Table, Customer table and employee table)\n",
    "\n",
    "        # based on realtional model of data. first described by \"Tedd\" Codd in late 1960s\n",
    "        # Example we have Database consisting of many tables (like Order Table, customer table and employees table) \n",
    "        # These tables are analogous to  dataframes (with unqiue keys (to access rows, ex: Order Id in order table) and there attributes.\n",
    "        # Tables in realtional databases are unique because they are linked.\n",
    "        # For example : via the order id key we can access the Order Table, which also has Customer_id and employee_id information\n",
    "        # .. which can be used as keys to access Cusomter Table and Employee table for any further information (called query)\n",
    "        # So given an order ID, we can immediate look up the relevant customer and employee information, \n",
    "        # .. this means we dont need to store all the customer and employee inforamtion (ex there names etc) \n",
    "        # .. information in the order table, we can just pass a query to look it up in relational databases.\n",
    "    \n",
    "    ## Relational Model used in Relational databases is summarized in Codd's 12 rules/ commandments \n",
    "        # Consist of 13 rules - as first rule is indexed 0. haha..\n",
    "        # These rules describe what the relational database management system should adhere to to be considered relational\n",
    "        \n",
    "    ## Common Relational Database Management Systems all of which use Sequal query language  \n",
    "        # PostgresSQL\n",
    "        # MySQL\n",
    "        # SQLite\n",
    "        # .... where SQL is acronyn for structured Query Language which describes how to communicate with a database to access and update it.\n",
    "\n",
    "### 2) Basic Querying : QUerying individual tables of relational databases \n",
    "\n",
    "    # What we need is to get out data from a database using SQL that is structured query language\n",
    "    # There are several way : \n",
    "        \n",
    "        # Method 1 : Workflow of such a process via data base engine creation and opening connections \n",
    "            \n",
    "            # Step 1 : Import packages and functions\n",
    "            # Step 2 : Create the data base engine and look at the tables contained\n",
    "            # Step 3 : Connect to the engine \n",
    "            # Step 4 : Query the database (getting all or specific columns of specific tables and ordering the SQL records via ORDER BY)\n",
    "            # Step 5 : Save results of the query to the dataframe\n",
    "            # Step 6 : Close the connection\n",
    "        \n",
    "         # Method 2 : Work flow of alternative process via context manager to open connection\n",
    "            \n",
    "            #  open the connection via context manager, rest same as Method 1 to do query process\n",
    "\n",
    "         # Method 3 :  Querying the relational databases directly with pandas\n",
    "            \n",
    "            # converts the 4 line of code required to query the database by context manager to store as dataframe to just one line\n",
    "            # After creating engine (Step 1 -3 of Method 1)\n",
    "            # 1 line code for querying using pandas : df = pd.read_sql_query(\"SQL QUery to execute\", engine)\n",
    "            ## .... first argument is the SQL query we need to execute\n",
    "            ## ... second argument is the engine we want to connect to\n",
    "            \n",
    "### 3) Advanced Querying : Exploiting Linked Table Relationships - the real usecase of relational databases\n",
    "\n",
    "        # Example querying multiple tables via their keys which correspond to coloumns in originally accessed data table\n",
    "        # Example get the order ID to access Orders Table \n",
    "        # .. and then use Customer ID and Employee ID from it as keys to access Customer and Employee table information \n",
    "        # JOINing the queried data -- example of INNER JOIN here\n",
    "        \n",
    "#### DIFFERENT SQL QUERIES COVERED HERE IN EXAMPLES : \n",
    "                # SELECT\n",
    "                # WHERE\n",
    "                # JOIN \n",
    "     \n"
   ]
  },
  {
   "cell_type": "code",
   "execution_count": 19,
   "metadata": {},
   "outputs": [
    {
     "name": "stdout",
     "output_type": "stream",
     "text": [
      "Table names are : ['Album', 'Artist', 'Customer', 'Employee', 'Genre', 'Invoice', 'InvoiceLine', 'MediaType', 'Playlist', 'PlaylistTrack', 'Track']\n"
     ]
    }
   ],
   "source": [
    "#  Method 1 : Workflow of such a generic process of querying SQL data \n",
    "\n",
    "# Step 1,2) :  Importing fucntion from packages, creating data base engine and looking at table names\n",
    "    \n",
    "            # SQLite Database as example\n",
    "            # Many packages to access SQLite databases such as:  SQLite3 and SQLAlchemy \n",
    "            # SQLAlchemy will be used as it works with many other relational database management systems such as PostgresSQL and MySQL\n",
    "            # using create_engine() function from sqlalchemy package to fire up a SQL engine that communicates our queries to database\n",
    "            \n",
    "from sqlalchemy import create_engine  # <-- Step 1 - importing pandas and create_engine() from sqlalchemy package\n",
    "\n",
    "import pandas as pd\n",
    "            \n",
    "engine = create_engine('sqlite:///Chinook.sqlite') # <--  Step 2a : creates engine and accepts only one argument \n",
    "                                                   # <-- string containing database type, and name of database in working directory\n",
    "\n",
    "table_names = engine.table_names()  # <-- Step 2b - Find the table names contianed by the connected database : \n",
    "                                     #.. using table_names() method on engine1\n",
    "\n",
    "print(\"Table names are : \" + str(table_names)) #<-- # Print the table names     \n"
   ]
  },
  {
   "cell_type": "code",
   "execution_count": 20,
   "metadata": {},
   "outputs": [],
   "source": [
    "  # Step 3 : Connecting to engine  : apply method .connect() on engine\n",
    "\n",
    "con = engine.connect() # <-- creates a connection object\n",
    "    "
   ]
  },
  {
   "cell_type": "code",
   "execution_count": 21,
   "metadata": {},
   "outputs": [
    {
     "name": "stdout",
     "output_type": "stream",
     "text": [
      "   0                                      1  2\n",
      "0  1  For Those About To Rock We Salute You  1\n",
      "1  2                      Balls to the Wall  2\n",
      "2  3                      Restless and Wild  2\n",
      "3  4                      Let There Be Rock  1\n",
      "4  5                               Big Ones  3\n",
      "   AlbumId                                  Title  ArtistId\n",
      "0        1  For Those About To Rock We Salute You         1\n",
      "1        2                      Balls to the Wall         2\n",
      "2        3                      Restless and Wild         2\n",
      "3        4                      Let There Be Rock         1\n",
      "4        5                               Big Ones         3\n"
     ]
    }
   ],
   "source": [
    " # Step 4, 5) Querying the connected relational database, \n",
    "    \n",
    "    # Example Query : select all columns from required table, renaming coloumns appropriately and saving as dataframe\n",
    "    \n",
    "    # Querying the relational database connected by using SQL queries\n",
    "            # Basic SQL Query - select * Table_Name  <--- where table name is the name of any of the tables in the database\n",
    "                                                 # <-- this query returns all of the coloumns of all of the rows\n",
    "            # In order to use such  SQL Query in python we use  sqlalchemy and pandas.\n",
    "           \n",
    "        #  (i)  To execute a sql query in python use method .execute(\"SQL Query\") on connected engine con : con.execute()\n",
    "            \n",
    "rs = con.execute('SELECT * FROM Album')  # <-- pass the relevant SQL Query as the argument to the method .excute()\n",
    "                                         # <-- here the SQL query as argument is to select all coloumns of all rows in table album\n",
    "                                         # <-- results in a sqlalchemy results object with coloumn names as keys\n",
    "        \n",
    "        # (ii) To convert the resulting sqlalchemy results object to dataframe: apply method .fetchall() to results object\n",
    "        \n",
    "df = pd.DataFrame(rs.fetchall())  # <-- fetchall() fetches all rows as ecpected\n",
    "\n",
    "print(df.head()) # <-- print the head of the dataframe. Rows looks fine, but coloumn names need to be redefined\n",
    "\n",
    "        # (iii) Rename the coloumn names of output dataframe df to output of method .key() keys on the results object rs\n",
    "\n",
    "df.columns = rs.keys() # <-- renames the coloumn names in df\n",
    "print(df.head())\n",
    "\n",
    "  # Step 6) close the connection : use method close() on connection con\n",
    "    \n",
    "con.close() #<-- closes the connection\n"
   ]
  },
  {
   "cell_type": "code",
   "execution_count": 25,
   "metadata": {},
   "outputs": [
    {
     "name": "stdout",
     "output_type": "stream",
     "text": [
      "  LastName LastName\n",
      "0    Adams    Adams\n",
      "1  Edwards  Edwards\n",
      "2  Peacock  Peacock\n",
      "3     Park     Park\n",
      "4  Johnson  Johnson\n"
     ]
    }
   ],
   "source": [
    "# Method 2 : Work flow of alternative process via context manager to open connection\n",
    "\n",
    "    # Example Query: To query LastName and Title coloumn of Employee table, and get the first 5 rows only\n",
    "    \n",
    "from sqlalchemy import create_engine  \n",
    "\n",
    "import pandas as pd\n",
    "            \n",
    "engine = create_engine('sqlite:///Chinook.sqlite')\n",
    "\n",
    "with engine.connect() as con :  # <-- open a connection named con to the engine using method .connect() -- context manager\n",
    "    rs = con.execute(\"SELECT LastName, LastName FROM Employee\") # <-- selects LastName and Title from Employee Table\n",
    "    df = pd.DataFrame(rs.fetchmany(size=5))  # <-- only stores the first 5 rows value as dataframe from the sqlalchemy result object\n",
    "    df.columns = rs.keys() # <-- renaming the columns in df using keys of rs tht is column names\n",
    "    print(df)           \n"
   ]
  },
  {
   "cell_type": "code",
   "execution_count": 27,
   "metadata": {},
   "outputs": [
    {
     "name": "stdout",
     "output_type": "stream",
     "text": [
      "   EmployeeId  LastName FirstName       Title  ReportsTo            BirthDate  \\\n",
      "0           6  Mitchell   Michael  IT Manager          1  1973-07-01 00:00:00   \n",
      "1           7      King    Robert    IT Staff          6  1970-05-29 00:00:00   \n",
      "2           8  Callahan     Laura    IT Staff          6  1968-01-09 00:00:00   \n",
      "\n",
      "              HireDate                      Address        City State Country  \\\n",
      "0  2003-10-17 00:00:00         5827 Bowness Road NW     Calgary    AB  Canada   \n",
      "1  2004-01-02 00:00:00  590 Columbia Boulevard West  Lethbridge    AB  Canada   \n",
      "2  2004-03-04 00:00:00                  923 7 ST NW  Lethbridge    AB  Canada   \n",
      "\n",
      "  PostalCode              Phone                Fax                    Email  \n",
      "0    T3B 0C5  +1 (403) 246-9887  +1 (403) 246-9899  michael@chinookcorp.com  \n",
      "1    T1K 5N8  +1 (403) 456-9986  +1 (403) 456-8485   robert@chinookcorp.com  \n",
      "2    T1H 1Y8  +1 (403) 467-3351  +1 (403) 467-8772    laura@chinookcorp.com  \n"
     ]
    }
   ],
   "source": [
    "        # Example Query : Select all records from the Employee table where 'EmployeeId' >= 6. \n",
    "                     \n",
    "# Create engine: engine\n",
    "engine = create_engine('sqlite:///Chinook.sqlite')\n",
    "\n",
    "# Open engine in context manager\n",
    "# Perform query and save results to DataFrame: df\n",
    "with engine.connect() as con:\n",
    "    rs = con.execute(\"SELECT * FROM Employee where EmployeeID >= 6\")  # <-- required sql query \n",
    "    df = pd.DataFrame(rs.fetchall())\n",
    "    df.columns = rs.keys()\n",
    "\n",
    "# Print the head of the DataFrame df\n",
    "print(df.head())\n",
    "    "
   ]
  },
  {
   "cell_type": "code",
   "execution_count": 29,
   "metadata": {},
   "outputs": [
    {
     "name": "stdout",
     "output_type": "stream",
     "text": [
      "   EmployeeId  LastName FirstName                Title  ReportsTo  \\\n",
      "0           4      Park  Margaret  Sales Support Agent        2.0   \n",
      "1           2   Edwards     Nancy        Sales Manager        1.0   \n",
      "2           1     Adams    Andrew      General Manager        NaN   \n",
      "3           5   Johnson     Steve  Sales Support Agent        2.0   \n",
      "4           8  Callahan     Laura             IT Staff        6.0   \n",
      "\n",
      "             BirthDate             HireDate              Address        City  \\\n",
      "0  1947-09-19 00:00:00  2003-05-03 00:00:00     683 10 Street SW     Calgary   \n",
      "1  1958-12-08 00:00:00  2002-05-01 00:00:00         825 8 Ave SW     Calgary   \n",
      "2  1962-02-18 00:00:00  2002-08-14 00:00:00  11120 Jasper Ave NW    Edmonton   \n",
      "3  1965-03-03 00:00:00  2003-10-17 00:00:00         7727B 41 Ave     Calgary   \n",
      "4  1968-01-09 00:00:00  2004-03-04 00:00:00          923 7 ST NW  Lethbridge   \n",
      "\n",
      "  State Country PostalCode              Phone                Fax  \\\n",
      "0    AB  Canada    T2P 5G3  +1 (403) 263-4423  +1 (403) 263-4289   \n",
      "1    AB  Canada    T2P 2T3  +1 (403) 262-3443  +1 (403) 262-3322   \n",
      "2    AB  Canada    T5K 2N1  +1 (780) 428-9482  +1 (780) 428-3457   \n",
      "3    AB  Canada    T3B 1Y7   1 (780) 836-9987   1 (780) 836-9543   \n",
      "4    AB  Canada    T1H 1Y8  +1 (403) 467-3351  +1 (403) 467-8772   \n",
      "\n",
      "                      Email  \n",
      "0  margaret@chinookcorp.com  \n",
      "1     nancy@chinookcorp.com  \n",
      "2    andrew@chinookcorp.com  \n",
      "3     steve@chinookcorp.com  \n",
      "4     laura@chinookcorp.com  \n"
     ]
    }
   ],
   "source": [
    "# Example Query : Ordering your SQL records with ORDER BY\n",
    "    \n",
    "        #selects all records from the Employee table and orders them in increasing order by the column BirthDate \n",
    "        \n",
    "    # Create engine: engine\n",
    "engine = create_engine('sqlite:///Chinook.sqlite')\n",
    "\n",
    "# Open engine in context manager\n",
    "with engine.connect() as con:\n",
    "    rs = con.execute(\"SELECT * FROM Employee ORDER BY BirthDate\")\n",
    "    df = pd.DataFrame(rs.fetchall())\n",
    "\n",
    "    # Set the DataFrame's column names\n",
    "    df.columns = rs.keys()\n",
    "\n",
    "# Print head of DataFrame\n",
    "print(df.head())"
   ]
  },
  {
   "cell_type": "code",
   "execution_count": 31,
   "metadata": {},
   "outputs": [
    {
     "name": "stdout",
     "output_type": "stream",
     "text": [
      "   EmployeeId  LastName FirstName       Title  ReportsTo            BirthDate  \\\n",
      "0           8  Callahan     Laura    IT Staff          6  1968-01-09 00:00:00   \n",
      "1           7      King    Robert    IT Staff          6  1970-05-29 00:00:00   \n",
      "2           6  Mitchell   Michael  IT Manager          1  1973-07-01 00:00:00   \n",
      "\n",
      "              HireDate                      Address        City State Country  \\\n",
      "0  2004-03-04 00:00:00                  923 7 ST NW  Lethbridge    AB  Canada   \n",
      "1  2004-01-02 00:00:00  590 Columbia Boulevard West  Lethbridge    AB  Canada   \n",
      "2  2003-10-17 00:00:00         5827 Bowness Road NW     Calgary    AB  Canada   \n",
      "\n",
      "  PostalCode              Phone                Fax                    Email  \n",
      "0    T1H 1Y8  +1 (403) 467-3351  +1 (403) 467-8772    laura@chinookcorp.com  \n",
      "1    T1K 5N8  +1 (403) 456-9986  +1 (403) 456-8485   robert@chinookcorp.com  \n",
      "2    T3B 0C5  +1 (403) 246-9887  +1 (403) 246-9899  michael@chinookcorp.com  \n"
     ]
    }
   ],
   "source": [
    "        # Method 3 :  Querying the relational databases directly with pandas\n",
    "    \n",
    "            # After creating engine (Step 1 -3 of Method 1) no need of context manager as in Method 2.\n",
    "            # 1 line code for querying the table using pandas including renaming the table column names :\n",
    "\n",
    "# Example Query : select all records from the Employee table where the EmployeeId is greater than or equal to 6 \n",
    "                    # .. and ordered by BirthDate \n",
    "\n",
    "from sqlalchemy import create_engine  \n",
    "import pandas as pd            \n",
    "engine = create_engine('sqlite:///Chinook.sqlite')\n",
    " \n",
    "df = pd.read_sql_query(\"SELECT * FROM Employee where EmployeeID >= 6 ORDER BY BirthDate\", engine) # <-- one line query using pandas\n",
    "\n",
    "# <-- equivalent to these 4 lines\n",
    "    #   with engine.connect() as con:\n",
    "        #    rs = con.execute(\"SELECT * FROM Employee ORDER BY BirthDate\")\n",
    "        #    df = pd.DataFrame(rs.fetchall())\n",
    "        #    df.columns = rs.keys()\n",
    "\n",
    "print(df.head()) "
   ]
  },
  {
   "cell_type": "code",
   "execution_count": 32,
   "metadata": {},
   "outputs": [
    {
     "name": "stdout",
     "output_type": "stream",
     "text": [
      "                                   Title       Name\n",
      "0  For Those About To Rock We Salute You      AC/DC\n",
      "1                      Balls to the Wall     Accept\n",
      "2                      Restless and Wild     Accept\n",
      "3                      Let There Be Rock      AC/DC\n",
      "4                               Big Ones  Aerosmith\n"
     ]
    }
   ],
   "source": [
    "### 3) Advanced Querying : Exploiting Linked Table Relationships - the real usecase of relational databases\n",
    "\n",
    "        # table_name.column_name notation is to select the specified column of specified table \n",
    "        # selecting desired coloumns from tableA INNER JOIN Tableb \n",
    "        # .. and stating the link between them tableA.matchin_column = tableB.matching_column\n",
    "        \n",
    "# Example Query : - perform your first INNER JOIN\n",
    "                # - For each record in the Album table, you'll extract the Title along with the Name of the Artist.\n",
    "                # - The latter will come from the Artist table \n",
    "                # - so you will need to INNER JOIN these two tables on the ArtistID column of both.\n",
    "\n",
    "from sqlalchemy import create_engine  \n",
    "import pandas as pd            \n",
    "engine = create_engine('sqlite:///Chinook.sqlite')            \n",
    "\n",
    "df = pd.read_sql_query(\"SELECT Title, Name FROM Album INNER JOIN Artist on Album.ArtistID = Artist.ArtistID\", engine)\n",
    "\n",
    "# Print head of DataFrame df\n",
    "print(df.head())"
   ]
  },
  {
   "cell_type": "code",
   "execution_count": 33,
   "metadata": {},
   "outputs": [
    {
     "name": "stdout",
     "output_type": "stream",
     "text": [
      "   PlaylistId  TrackId  TrackId              Name  AlbumId  MediaTypeId  \\\n",
      "0           1     3390     3390  One and the Same      271            2   \n",
      "1           1     3392     3392     Until We Fall      271            2   \n",
      "2           1     3393     3393     Original Fire      271            2   \n",
      "3           1     3394     3394       Broken City      271            2   \n",
      "4           1     3395     3395          Somedays      271            2   \n",
      "\n",
      "   GenreId Composer  Milliseconds    Bytes  UnitPrice  \n",
      "0       23     None        217732  3559040       0.99  \n",
      "1       23     None        230758  3766605       0.99  \n",
      "2       23     None        218916  3577821       0.99  \n",
      "3       23     None        228366  3728955       0.99  \n",
      "4       23     None        213831  3497176       0.99  \n"
     ]
    }
   ],
   "source": [
    "# Example Query - select all records from PlaylistTrack INNER JOIN Track on PlaylistTrack.TrackId = Track.TrackId \n",
    "                # .. that satisfy the condition Milliseconds < 250000\n",
    "    \n",
    "import pandas as pd\n",
    "from sqlalchemy import create_engine\n",
    "engine = create_engine('sqlite:///Chinook.sqlite')\n",
    "df = pd.read_sql_query(\"SELECT * FROM PlaylistTrack INNER JOIN Track on PlaylistTrack.TrackId = Track.TrackId where Milliseconds < 250000\", engine)\n",
    "print(df.head())"
   ]
  },
  {
   "cell_type": "code",
   "execution_count": null,
   "metadata": {},
   "outputs": [],
   "source": []
  }
 ],
 "metadata": {
  "kernelspec": {
   "display_name": "Python 3",
   "language": "python",
   "name": "python3"
  },
  "language_info": {
   "codemirror_mode": {
    "name": "ipython",
    "version": 3
   },
   "file_extension": ".py",
   "mimetype": "text/x-python",
   "name": "python",
   "nbconvert_exporter": "python",
   "pygments_lexer": "ipython3",
   "version": "3.6.4"
  }
 },
 "nbformat": 4,
 "nbformat_minor": 2
}
