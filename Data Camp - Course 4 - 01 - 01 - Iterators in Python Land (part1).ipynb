{
 "cells": [
  {
   "cell_type": "code",
   "execution_count": 2,
   "metadata": {},
   "outputs": [
    {
     "name": "stdout",
     "output_type": "stream",
     "text": [
      "1\n",
      "2\n",
      "3\n",
      "shobhit\n"
     ]
    }
   ],
   "source": [
    "## ITERATORS and ITERABLES - Part 1\n",
    "\n",
    "## --- 1) ITERABLE \n",
    "    # An object with an associated iter() method\n",
    "    # Applying iter() to an iterable creates iterate\n",
    "    # Examples : lists, strings, dictionaries, file connections and many more \n",
    "    # Under the hood the for loop takes an iterable, creates the associated iterable object and iterates over it\n",
    "\n",
    "## --- 2) ITERATORS or ITERATE)\n",
    "    # An object which has defined next() method which produces consecutive values of the iterable its associated to.\n",
    "    # To create an iterator from iterable use the iter() function, and pass it the iterable\n",
    "    # To produce all values at once, rather than using next(iterate) mutiple times, we can use *iterate\n",
    "    \n",
    "## --- 3) Iterators as function arguments\n",
    "    # There are also functions that take iterators and iterables as arguments. \n",
    "    # Common examples:  the list() and sum() functions return a list and the sum of elements, respectively.\n",
    "     \n",
    "\n",
    "# i) ITERATING via FOR LOOPS -- we have been using iterators when we were doing for loops\n",
    "# ii) Defining iterate using iter(iterable) and iterating over it using next(iterate) to produce consecutive values of associated iterable\n",
    "# ii) Iterating over dictionaries\n",
    "# iv) Iterating over file fucntion example\n",
    "    \n",
    "#Ex1 -- iterating over a list via for loop       \n",
    "list1 = [1,2,3,'shobhit'];\n",
    "for items in list1:   #Here we are iterating over the list\n",
    "    print(items)"
   ]
  },
  {
   "cell_type": "code",
   "execution_count": 3,
   "metadata": {},
   "outputs": [
    {
     "name": "stdout",
     "output_type": "stream",
     "text": [
      "s\n",
      "h\n",
      "o\n",
      "b\n",
      "h\n",
      "i\n",
      "t\n"
     ]
    }
   ],
   "source": [
    "# Ex 2 -- iterating over a string using for loop\n",
    "\n",
    "name = 'shobhit'\n",
    "for i in name:\n",
    "    print(i)\n",
    "    \n",
    "    "
   ]
  },
  {
   "cell_type": "code",
   "execution_count": 4,
   "metadata": {},
   "outputs": [
    {
     "name": "stdout",
     "output_type": "stream",
     "text": [
      "0\n",
      "1\n",
      "2\n",
      "3\n",
      "4\n",
      "5\n"
     ]
    }
   ],
   "source": [
    "# Ex 3 -- iterating over a range() using for loop\n",
    "\n",
    "random = range(6)\n",
    "\n",
    "for i in random:\n",
    "    print(i)"
   ]
  },
  {
   "cell_type": "code",
   "execution_count": 6,
   "metadata": {},
   "outputs": [
    {
     "name": "stdout",
     "output_type": "stream",
     "text": [
      "<str_iterator object at 0x0000022E672F11D0>\n"
     ]
    }
   ],
   "source": [
    "## --- To create an iterator from iterable use the iter() function, and pass it the iterable\n",
    "\n",
    "word = \"shob\"\n",
    "it = iter(word)\n",
    "print(it) #This creates an iterator object"
   ]
  },
  {
   "cell_type": "code",
   "execution_count": 9,
   "metadata": {},
   "outputs": [
    {
     "name": "stdout",
     "output_type": "stream",
     "text": [
      "s\n",
      "h\n",
      "o\n",
      "b\n"
     ]
    },
    {
     "ename": "StopIteration",
     "evalue": "",
     "output_type": "error",
     "traceback": [
      "\u001b[1;31m---------------------------------------------------------------------------\u001b[0m",
      "\u001b[1;31mStopIteration\u001b[0m                             Traceback (most recent call last)",
      "\u001b[1;32m<ipython-input-9-dc5331e60b71>\u001b[0m in \u001b[0;36m<module>\u001b[1;34m()\u001b[0m\n\u001b[0;32m      7\u001b[0m \u001b[0mprint\u001b[0m\u001b[1;33m(\u001b[0m\u001b[0mnext\u001b[0m\u001b[1;33m(\u001b[0m\u001b[0mit\u001b[0m\u001b[1;33m)\u001b[0m\u001b[1;33m)\u001b[0m\u001b[1;33m\u001b[0m\u001b[0m\n\u001b[0;32m      8\u001b[0m \u001b[0mprint\u001b[0m\u001b[1;33m(\u001b[0m\u001b[0mnext\u001b[0m\u001b[1;33m(\u001b[0m\u001b[0mit\u001b[0m\u001b[1;33m)\u001b[0m\u001b[1;33m)\u001b[0m\u001b[1;33m\u001b[0m\u001b[0m\n\u001b[1;32m----> 9\u001b[1;33m \u001b[0mprint\u001b[0m\u001b[1;33m(\u001b[0m\u001b[0mnext\u001b[0m\u001b[1;33m(\u001b[0m\u001b[0mit\u001b[0m\u001b[1;33m)\u001b[0m\u001b[1;33m)\u001b[0m\u001b[1;33m\u001b[0m\u001b[0m\n\u001b[0m",
      "\u001b[1;31mStopIteration\u001b[0m: "
     ]
    }
   ],
   "source": [
    "# -- Passing the next() function to the iterator to produce values from the iterable its associated to\n",
    "\n",
    "word = \"shob\"\n",
    "it = iter(word)  #Create the iterator it from iterable - using iter(iterable)\n",
    "print(next(it)) #pass the iterator to next() which produces consecutive valuess (here the first value) of the iterable its associated to.\n",
    "print(next(it)) #Next consecutive value using next() and so on\n",
    "print(next(it))\n",
    "print(next(it))\n",
    "print(next(it))  #<-- throws a StopIteration error when no more elements are available to iterate over"
   ]
  },
  {
   "cell_type": "code",
   "execution_count": 10,
   "metadata": {},
   "outputs": [
    {
     "name": "stdout",
     "output_type": "stream",
     "text": [
      "s h o b\n"
     ]
    }
   ],
   "source": [
    "# We can print all the values using the *iterate function\n",
    "word = \"shob\"\n",
    "it = iter(word)\n",
    "print(*it) # <-- Note how the output is element wise yet a bit diffferent. \n",
    "print(*it) # <-- cannot print it again using the same iterate, as there is nothing to iterate over the iterable any further\n",
    "\n",
    "#For reprinting it we have to redefine the iterate"
   ]
  },
  {
   "cell_type": "code",
   "execution_count": 11,
   "metadata": {},
   "outputs": [
    {
     "name": "stdout",
     "output_type": "stream",
     "text": [
      "range(10, 21)\n",
      "[10, 11, 12, 13, 14, 15, 16, 17, 18, 19, 20]\n",
      "165\n"
     ]
    }
   ],
   "source": [
    "# 3) Iterators as function arguments\n",
    "\n",
    "#we saw iter() function to get an iterator object, as well as the next() function to retrieve the values one by one from the iterator object.\n",
    "\n",
    "# Create a range object: values which is an ietrable\n",
    "values = range(10,21) \n",
    "\n",
    "# Print the range object\n",
    "print(values)\n",
    "\n",
    "# Create a list of integers: values_list\n",
    "values_list = list(values)  #function list() takes in an iterable as argument and produces a list\n",
    "\n",
    "# Print values_list\n",
    "print(values_list)\n",
    "\n",
    "# Get the sum of values: values_sum\n",
    "values_sum = sum(values) #function sum() takes in an iterable as argument, and sums all elements\n",
    "\n",
    "# Print values_sum\n",
    "print(values_sum)"
   ]
  },
  {
   "cell_type": "code",
   "execution_count": null,
   "metadata": {},
   "outputs": [],
   "source": []
  }
 ],
 "metadata": {
  "kernelspec": {
   "display_name": "Python 3",
   "language": "python",
   "name": "python3"
  },
  "language_info": {
   "codemirror_mode": {
    "name": "ipython",
    "version": 3
   },
   "file_extension": ".py",
   "mimetype": "text/x-python",
   "name": "python",
   "nbconvert_exporter": "python",
   "pygments_lexer": "ipython3",
   "version": "3.6.4"
  }
 },
 "nbformat": 4,
 "nbformat_minor": 2
}
