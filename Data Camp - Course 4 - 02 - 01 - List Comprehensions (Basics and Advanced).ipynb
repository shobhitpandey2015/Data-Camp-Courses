{
 "cells": [
  {
   "cell_type": "code",
   "execution_count": 1,
   "metadata": {},
   "outputs": [
    {
     "name": "stdout",
     "output_type": "stream",
     "text": [
      "[13, 15, 18, 46, 22]\n"
     ]
    }
   ],
   "source": [
    "#Lets say we want to create a list from a list with each number incremented by 1\n",
    "\n",
    "list1 = [12,14,17,45,21]\n",
    "list2 = []\n",
    "for num in list1:\n",
    "    list2.append(num +1) \n",
    "    \n",
    "print(list2) "
   ]
  },
  {
   "cell_type": "code",
   "execution_count": 22,
   "metadata": {},
   "outputs": [],
   "source": [
    "## Part 1 : LIST COMPREHENSIONS allows us to write the above task in one line of code. \n",
    "\n",
    "    ##    Part1.1 - Basics of LIST COMPREHENSIONS\n",
    "\n",
    "        # List comprehension in case of for() loops and nested for() loops\n",
    "            # Collapses for loop for building lists into a single line \n",
    "            # Components of list comprehension : iterable, iterator variable (represents members of iterable), output expression\n",
    "            # Syntax : [[output expression] for iterator variable in iterable] \n",
    "            # Syntax exaplaination : [output expression followed by for clause referring to iterable object via iterator ]\n",
    "            # Can be applied to any iterable. \n",
    "            # Ex1 : list comprehension for operation on list\n",
    "            # Ex2 : list comprehension on range\n",
    "            # Ex3 : list comprehension on panda series (extracted from twitter dataframe) along with slicing in \n",
    "            # List comprehension for nested for() loops \n",
    "            # Nested List Comprehensions : output expression could itself be a list comprehension\n",
    "    \n",
    "    ##    Part1.2 - ADVANCED LIST COMPREHENSIONS  \n",
    "            #CONDITIONALS in LIST COMREHENSIONS  effecting output:\n",
    "                # (i) Conditionals on iterable (within the for clause) \n",
    "                    #syntax : [ output expression for iterator variable in iterable if predicate expression ]\n",
    "                # (ii) COnditional on the output expression\n",
    "\n",
    "## Part 2  :   DICTIONARIES COMPREHENSIONS\n",
    "            # similar to list comprehensions with few differences\n",
    "            # use {} brackets for dictionary comprensions rather than [] \n",
    "            # key:value separated by the : in the output expression\n",
    "\n"
   ]
  },
  {
   "cell_type": "code",
   "execution_count": 23,
   "metadata": {},
   "outputs": [
    {
     "name": "stdout",
     "output_type": "stream",
     "text": [
      "[13, 15, 18, 46, 22]\n"
     ]
    }
   ],
   "source": [
    "# Part 1.1  - Basics of LIST COMPREHENSIONS\n",
    "\n",
    "\n",
    "#Ex1 - writing the above task we did with for loop on list, in one line of code using list comprehension\n",
    "\n",
    "list3 = [num+1 for num in list1] #Fisrt part of syntax is the out expression : desired operation : num + 1\n",
    "                                 #Second part is the same as for loop to iterate over the iterable list1 here and stored in list2\n",
    "\n",
    "print(list3) # <-- same result in just one line of code"
   ]
  },
  {
   "cell_type": "code",
   "execution_count": 4,
   "metadata": {},
   "outputs": [
    {
     "name": "stdout",
     "output_type": "stream",
     "text": [
      "[2, 3, 4, 5, 6, 7, 8, 9, 10, 11]\n"
     ]
    }
   ],
   "source": [
    "# Ex2 : Applying list comprehension on another iterable : range() object\n",
    "\n",
    "result = [num + 2 for num in range(10)] \n",
    "print(result)"
   ]
  },
  {
   "cell_type": "code",
   "execution_count": 39,
   "metadata": {},
   "outputs": [
    {
     "name": "stdout",
     "output_type": "stream",
     "text": [
      "['Tue Mar 29 23:40:17 +0000 2016', 'Tue Mar 29 23:40:17 +0000 2016', 'Tue Mar 29 23:40:17 +0000 2016', 'Tue Mar 29 23:40:17 +0000 2016', 'Tue Mar 29 23:40:17 +0000 2016', 'Tue Mar 29 23:40:17 +0000 2016', 'Tue Mar 29 23:40:18 +0000 2016', 'Tue Mar 29 23:40:17 +0000 2016', 'Tue Mar 29 23:40:18 +0000 2016', 'Tue Mar 29 23:40:18 +0000 2016', 'Tue Mar 29 23:40:18 +0000 2016', 'Tue Mar 29 23:40:17 +0000 2016', 'Tue Mar 29 23:40:18 +0000 2016', 'Tue Mar 29 23:40:18 +0000 2016', 'Tue Mar 29 23:40:17 +0000 2016', 'Tue Mar 29 23:40:18 +0000 2016', 'Tue Mar 29 23:40:18 +0000 2016', 'Tue Mar 29 23:40:17 +0000 2016', 'Tue Mar 29 23:40:18 +0000 2016', 'Tue Mar 29 23:40:17 +0000 2016', 'Tue Mar 29 23:40:18 +0000 2016', 'Tue Mar 29 23:40:18 +0000 2016', 'Tue Mar 29 23:40:18 +0000 2016', 'Tue Mar 29 23:40:18 +0000 2016', 'Tue Mar 29 23:40:17 +0000 2016', 'Tue Mar 29 23:40:18 +0000 2016', 'Tue Mar 29 23:40:18 +0000 2016', 'Tue Mar 29 23:40:17 +0000 2016', 'Tue Mar 29 23:40:18 +0000 2016', 'Tue Mar 29 23:40:18 +0000 2016', 'Tue Mar 29 23:40:18 +0000 2016', 'Tue Mar 29 23:40:18 +0000 2016', 'Tue Mar 29 23:40:18 +0000 2016', 'Tue Mar 29 23:40:18 +0000 2016', 'Tue Mar 29 23:40:18 +0000 2016', 'Tue Mar 29 23:40:18 +0000 2016', 'Tue Mar 29 23:40:18 +0000 2016', 'Tue Mar 29 23:40:18 +0000 2016', 'Tue Mar 29 23:40:18 +0000 2016', 'Tue Mar 29 23:40:18 +0000 2016', 'Tue Mar 29 23:40:18 +0000 2016', 'Tue Mar 29 23:40:18 +0000 2016', 'Tue Mar 29 23:40:18 +0000 2016', 'Tue Mar 29 23:40:18 +0000 2016', 'Tue Mar 29 23:40:18 +0000 2016', 'Tue Mar 29 23:40:18 +0000 2016', 'Tue Mar 29 23:40:18 +0000 2016', 'Tue Mar 29 23:40:18 +0000 2016', 'Tue Mar 29 23:40:18 +0000 2016', 'Tue Mar 29 23:40:18 +0000 2016', 'Tue Mar 29 23:40:18 +0000 2016', 'Tue Mar 29 23:40:18 +0000 2016', 'Tue Mar 29 23:40:18 +0000 2016', 'Tue Mar 29 23:40:18 +0000 2016', 'Tue Mar 29 23:40:18 +0000 2016', 'Tue Mar 29 23:40:18 +0000 2016', 'Tue Mar 29 23:40:18 +0000 2016', 'Tue Mar 29 23:40:18 +0000 2016', 'Tue Mar 29 23:40:18 +0000 2016', 'Tue Mar 29 23:40:18 +0000 2016', 'Tue Mar 29 23:40:19 +0000 2016', 'Tue Mar 29 23:40:18 +0000 2016', 'Tue Mar 29 23:40:18 +0000 2016', 'Tue Mar 29 23:40:18 +0000 2016', 'Tue Mar 29 23:40:19 +0000 2016', 'Tue Mar 29 23:40:19 +0000 2016', 'Tue Mar 29 23:40:19 +0000 2016', 'Tue Mar 29 23:40:18 +0000 2016', 'Tue Mar 29 23:40:19 +0000 2016', 'Tue Mar 29 23:40:19 +0000 2016', 'Tue Mar 29 23:40:19 +0000 2016', 'Tue Mar 29 23:40:18 +0000 2016', 'Tue Mar 29 23:40:19 +0000 2016', 'Tue Mar 29 23:40:19 +0000 2016', 'Tue Mar 29 23:40:19 +0000 2016', 'Tue Mar 29 23:40:18 +0000 2016', 'Tue Mar 29 23:40:19 +0000 2016', 'Tue Mar 29 23:40:19 +0000 2016', 'Tue Mar 29 23:40:19 +0000 2016', 'Tue Mar 29 23:40:19 +0000 2016', 'Tue Mar 29 23:40:19 +0000 2016', 'Tue Mar 29 23:40:19 +0000 2016', 'Tue Mar 29 23:40:19 +0000 2016', 'Tue Mar 29 23:40:19 +0000 2016', 'Tue Mar 29 23:40:19 +0000 2016', 'Tue Mar 29 23:40:19 +0000 2016', 'Tue Mar 29 23:40:19 +0000 2016', 'Tue Mar 29 23:40:19 +0000 2016', 'Tue Mar 29 23:40:19 +0000 2016', 'Tue Mar 29 23:40:19 +0000 2016', 'Tue Mar 29 23:40:19 +0000 2016', 'Tue Mar 29 23:40:19 +0000 2016', 'Tue Mar 29 23:40:19 +0000 2016', 'Tue Mar 29 23:40:19 +0000 2016', 'Tue Mar 29 23:40:19 +0000 2016', 'Tue Mar 29 23:40:19 +0000 2016', 'Tue Mar 29 23:40:19 +0000 2016', 'Tue Mar 29 23:40:19 +0000 2016', 'Tue Mar 29 23:40:19 +0000 2016', 'Tue Mar 29 23:40:19 +0000 2016']\n",
      "\n",
      "['23:40:17', '23:40:17', '23:40:17', '23:40:17', '23:40:17', '23:40:17', '23:40:18', '23:40:17', '23:40:18', '23:40:18', '23:40:18', '23:40:17', '23:40:18', '23:40:18', '23:40:17', '23:40:18', '23:40:18', '23:40:17', '23:40:18', '23:40:17', '23:40:18', '23:40:18', '23:40:18', '23:40:18', '23:40:17', '23:40:18', '23:40:18', '23:40:17', '23:40:18', '23:40:18', '23:40:18', '23:40:18', '23:40:18', '23:40:18', '23:40:18', '23:40:18', '23:40:18', '23:40:18', '23:40:18', '23:40:18', '23:40:18', '23:40:18', '23:40:18', '23:40:18', '23:40:18', '23:40:18', '23:40:18', '23:40:18', '23:40:18', '23:40:18', '23:40:18', '23:40:18', '23:40:18', '23:40:18', '23:40:18', '23:40:18', '23:40:18', '23:40:18', '23:40:18', '23:40:18', '23:40:19', '23:40:18', '23:40:18', '23:40:18', '23:40:19', '23:40:19', '23:40:19', '23:40:18', '23:40:19', '23:40:19', '23:40:19', '23:40:18', '23:40:19', '23:40:19', '23:40:19', '23:40:18', '23:40:19', '23:40:19', '23:40:19', '23:40:19', '23:40:19', '23:40:19', '23:40:19', '23:40:19', '23:40:19', '23:40:19', '23:40:19', '23:40:19', '23:40:19', '23:40:19', '23:40:19', '23:40:19', '23:40:19', '23:40:19', '23:40:19', '23:40:19', '23:40:19', '23:40:19', '23:40:19', '23:40:19']\n"
     ]
    }
   ],
   "source": [
    " # Solving the old twitter problem again.\n",
    "\n",
    "# Create a list comprehension that extracts the time from each row in tweet_time. \n",
    "#Each row is a string that represents a timestamp, and you will access the 12th to 19th characters in the string to extract the time.\n",
    "\n",
    "import pandas as pd\n",
    "# Extract the created_at column from df: tweet_time\n",
    "\n",
    "df = pd.read_csv(\"D:\\Data Camp\\Course 3-01-Tweets.csv\")\n",
    "tweet_time = df['created_at']  # <-- creates a panda series (an iterable)\n",
    "\n",
    "#printing the whole 'created_at' string entries\n",
    "tweet_clock = [entry for entry in tweet_time] # <-- iterating over the created_at timestamp entries which are strings\n",
    "print(tweet_clock)\n",
    "\n",
    "\n",
    "print(\"\")\n",
    "\n",
    "# Extract the clock time: tweet_clock_time\n",
    "tweet_clock_time = [entry[11:19] for entry in tweet_time] # <-- iterating over the time stamp entries and slicing it to get the time .\n",
    "# time stamp entries are a string - slicing to get the numeric part (time stamp)\n",
    "\n",
    "# Print the extracted times\n",
    "print(tweet_clock_time)\n",
    "\n",
    "\n"
   ]
  },
  {
   "cell_type": "code",
   "execution_count": 18,
   "metadata": {},
   "outputs": [
    {
     "ename": "IndexError",
     "evalue": "list index out of range",
     "output_type": "error",
     "traceback": [
      "\u001b[1;31m---------------------------------------------------------------------------\u001b[0m",
      "\u001b[1;31mIndexError\u001b[0m                                Traceback (most recent call last)",
      "\u001b[1;32m<ipython-input-18-ee7f2ee35f36>\u001b[0m in \u001b[0;36m<module>\u001b[1;34m()\u001b[0m\n\u001b[0;32m      8\u001b[0m \u001b[1;32mfor\u001b[0m \u001b[0mnum1\u001b[0m \u001b[1;32min\u001b[0m \u001b[0mrange\u001b[0m\u001b[1;33m(\u001b[0m\u001b[1;36m0\u001b[0m\u001b[1;33m,\u001b[0m\u001b[1;36m2\u001b[0m\u001b[1;33m)\u001b[0m\u001b[1;33m:\u001b[0m\u001b[1;33m\u001b[0m\u001b[0m\n\u001b[0;32m      9\u001b[0m     \u001b[1;32mfor\u001b[0m \u001b[0mnum2\u001b[0m \u001b[1;32min\u001b[0m \u001b[0mrange\u001b[0m\u001b[1;33m(\u001b[0m\u001b[1;36m6\u001b[0m\u001b[1;33m,\u001b[0m\u001b[1;36m8\u001b[0m\u001b[1;33m)\u001b[0m\u001b[1;33m:\u001b[0m\u001b[1;33m\u001b[0m\u001b[0m\n\u001b[1;32m---> 10\u001b[1;33m         \u001b[0mpairs_1\u001b[0m\u001b[1;33m[\u001b[0m\u001b[1;36m0\u001b[0m\u001b[1;33m]\u001b[0m\u001b[1;33m.\u001b[0m\u001b[0mappend\u001b[0m\u001b[1;33m(\u001b[0m\u001b[0mnum1\u001b[0m\u001b[1;33m,\u001b[0m \u001b[0mnum2\u001b[0m\u001b[1;33m)\u001b[0m  \u001b[1;31m# <-- works in ipython but not here\u001b[0m\u001b[1;33m\u001b[0m\u001b[0m\n\u001b[0m\u001b[0;32m     11\u001b[0m \u001b[1;33m\u001b[0m\u001b[0m\n\u001b[0;32m     12\u001b[0m \u001b[0mprint\u001b[0m\u001b[1;33m(\u001b[0m\u001b[0mpairs_1\u001b[0m\u001b[1;33m)\u001b[0m\u001b[1;33m\u001b[0m\u001b[0m\n",
      "\u001b[1;31mIndexError\u001b[0m: list index out of range"
     ]
    }
   ],
   "source": [
    "# List comprehension for nested for() loops \n",
    "    \n",
    "#lets say we want to create a list of all pairs of intergers, where the ifrst integer is between 0 and 1 and second between 6 and 7\n",
    "\n",
    "# Following nesetd for loop will do the needful\n",
    "pairs_1 = []\n",
    "\n",
    "for num1 in range(0,2):\n",
    "    for num2 in range(6,8):\n",
    "        pairs_1[0].append(num1, num2)  # <-- works in ipython but not here\n",
    "\n",
    "print(pairs_1)\n",
    "        \n",
    "        "
   ]
  },
  {
   "cell_type": "code",
   "execution_count": 20,
   "metadata": {},
   "outputs": [
    {
     "name": "stdout",
     "output_type": "stream",
     "text": [
      "[(0, 6), (0, 7), (1, 6), (1, 7)]\n"
     ]
    }
   ],
   "source": [
    "# we can wrtie this in one line of code using list comprehensions for neset for loops\n",
    "\n",
    "pairs_2 = [(num1, num2) for num1 in range(0,2) for num2 in range(6,8)]  #<--output expression followed by two required for loop clauses\n",
    "print(pairs_2)"
   ]
  },
  {
   "cell_type": "code",
   "execution_count": 21,
   "metadata": {},
   "outputs": [
    {
     "name": "stdout",
     "output_type": "stream",
     "text": [
      "[[0, 1, 2, 3, 4], [0, 1, 2, 3, 4], [0, 1, 2, 3, 4], [0, 1, 2, 3, 4], [0, 1, 2, 3, 4]]\n"
     ]
    }
   ],
   "source": [
    "# NESTED LIST COMPREHENSION - list comprehension inside a list comprehension\n",
    "\n",
    "#One of the ways in which lists can be used are in representing multi-dimension objects such as matrices. \n",
    "#Matrices can be represented as a list of lists in Python. \n",
    "#For example a 5 x 5 matrix with values 0 to 4 in each row can be written as \n",
    "\n",
    "#matrix =     [[0, 1, 2, 3, 4],\n",
    "          #   [0, 1, 2, 3, 4],\n",
    "          #   [0, 1, 2, 3, 4],\n",
    "          #   [0, 1, 2, 3, 4],\n",
    "          #   [0, 1, 2, 3, 4]]\n",
    "        \n",
    "# Creating aboe matrix using nested list comprehensions\n",
    "\n",
    "\n",
    "# <--  inner list comprehension is the overall  output expression of the nested list comprehension.\n",
    "# < -  inner list comprehension : create a list of values from 0 to 4 using range(). Use col as the iterator variable\n",
    "\n",
    "\n",
    "# <-- In the iterable part of your nested list comprehension, use range() to count 5 rows - \n",
    "# <-- in the nested part that if for clause - create a list of values from 0 to 4. Use row as the iterator variable\n",
    "matrix = [[num1 for num1 in range(0,5)] for row in range(0,5)] \n",
    "\n",
    "print(matrix)"
   ]
  },
  {
   "cell_type": "code",
   "execution_count": 25,
   "metadata": {},
   "outputs": [
    {
     "name": "stdout",
     "output_type": "stream",
     "text": [
      "[0, 4, 16, 36, 64]\n"
     ]
    }
   ],
   "source": [
    "## Part 1.2 -  ADVANCED LIST COMPREHENSIONS  -- CONDITIONALS in LIST COMREHENSIONS \n",
    "\n",
    "\n",
    "        # (i) Conditionals on iterable within for clause\n",
    "\n",
    "# Resulting list is square of a value in range(10) under the condition that the value itself is even\n",
    "\n",
    "result2 = [num**2 for num in range(10) if num%2 == 0]  #<-- conditional on the iterable \n",
    "print(result2)"
   ]
  },
  {
   "cell_type": "code",
   "execution_count": 29,
   "metadata": {},
   "outputs": [
    {
     "name": "stdout",
     "output_type": "stream",
     "text": [
      "[0, 0, 4, 0, 16, 0, 36, 0, 64, 0]\n"
     ]
    }
   ],
   "source": [
    "        # (ii) conditional on the output expression\n",
    "\n",
    "# Resulting list is square of a value in range(10) for all even numbers or else for all odd members the output is 0\n",
    "\n",
    "result3 = [num**2 if num % 2 == 0 else 0 for num in range(10)]\n",
    "print(result3)"
   ]
  },
  {
   "cell_type": "code",
   "execution_count": null,
   "metadata": {},
   "outputs": [],
   "source": [
    " # another example  on conditional at for clause\n",
    " \n",
    " # Use member as the iterator variable in the list comprehension. For the conditional, \n",
    " # use len() to evaluate the iterator variable. Note that you only want strings with 7 characters or more.\n",
    "\n",
    "# Create a list of strings: fellowship\n",
    "fellowship = ['frodo', 'samwise', 'merry', 'aragorn', 'legolas', 'boromir', 'gimli']\n",
    "\n",
    "# Create list comprehension: new_fellowship\n",
    "new_fellowship = [member for member  in fellowship if len(member) >=7]\n",
    "\n",
    "# Print the new list\n",
    "print(new_fellowship) "
   ]
  },
  {
   "cell_type": "code",
   "execution_count": 43,
   "metadata": {},
   "outputs": [
    {
     "name": "stdout",
     "output_type": "stream",
     "text": [
      "\n",
      "['23:40:19', '23:40:19', '23:40:19', '23:40:19', '23:40:19', '23:40:19', '23:40:19', '23:40:19', '23:40:19', '23:40:19', '23:40:19', '23:40:19', '23:40:19', '23:40:19', '23:40:19', '23:40:19', '23:40:19', '23:40:19', '23:40:19', '23:40:19', '23:40:19', '23:40:19', '23:40:19', '23:40:19', '23:40:19', '23:40:19', '23:40:19', '23:40:19', '23:40:19', '23:40:19', '23:40:19', '23:40:19', '23:40:19', '23:40:19']\n"
     ]
    }
   ],
   "source": [
    "#revisting the twitter example above\n",
    "\n",
    "# Create a list comprehension that extracts the time from each row in tweet_time provided it start with 19 \n",
    "# Each row is a string that represents a timestamp, and you will access the 12th to 19th characters in the string to extract the time.\n",
    "# valid if 18th and 19th characters of the time stamp string under iteration  == '19'\n",
    "\n",
    "import pandas as pd\n",
    "# Extract the created_at column from df: tweet_time\n",
    "\n",
    "df = pd.read_csv(\"D:\\Data Camp\\Course 3-01-Tweets.csv\")\n",
    "tweet_time = df['created_at']  # <-- creates a panda series (an iterable)\n",
    "print(\"\")\n",
    "\n",
    "# Extract the created_at column from df: tweet_time\n",
    "tweet_time= df['created_at']\n",
    "\n",
    "# Extract the clock time: tweet_clock_time\n",
    "tweet_clock_time_condition = [entry[11:19] for entry in tweet_time if entry[17:19] == '19']\n",
    "\n",
    "# Print the extracted times\n",
    "print(tweet_clock_time_condition)"
   ]
  },
  {
   "cell_type": "code",
   "execution_count": 32,
   "metadata": {},
   "outputs": [
    {
     "name": "stdout",
     "output_type": "stream",
     "text": [
      "['', 'samwise', '', 'aragorn', 'legolas', 'boromir', '']\n"
     ]
    }
   ],
   "source": [
    "# same example with conditional on output expressions\n",
    "\n",
    "#In the output expression, keep the string as-is if the number of characters is >= 7, else replace it with an empty string ''\n",
    "\n",
    "# Create a list of strings: fellowship\n",
    "fellowship = ['frodo', 'samwise', 'merry', 'aragorn', 'legolas', 'boromir', 'gimli']\n",
    "\n",
    "# Create list comprehension: new_fellowship\n",
    "new_fellowship = [member if len(member) >=7 else \"\" for member in fellowship]\n",
    "\n",
    "# Print the new list\n",
    "print(new_fellowship)"
   ]
  },
  {
   "cell_type": "code",
   "execution_count": 31,
   "metadata": {},
   "outputs": [
    {
     "name": "stdout",
     "output_type": "stream",
     "text": [
      "{0: 0, 1: -1, 2: -2, 3: -3, 4: -4, 5: -5, 6: -6, 7: -7, 8: -8, 9: -9}\n",
      "<class 'dict'>\n"
     ]
    }
   ],
   "source": [
    "## Part 2  :   DICTIONARIES COMPREHENSIONS \n",
    "\n",
    "\n",
    "#<-- creates a dictionary with key value pairs as positive and negative values of the integer in range(10)\n",
    "pos_neg = {num:-num for num in range(10)} \n",
    "print(pos_neg)\n",
    "print(type(pos_neg))"
   ]
  },
  {
   "cell_type": "code",
   "execution_count": 33,
   "metadata": {},
   "outputs": [
    {
     "name": "stdout",
     "output_type": "stream",
     "text": [
      "{'frodo': 5, 'samwise': 7, 'merry': 5, 'aragorn': 7, 'legolas': 7, 'boromir': 7, 'gimli': 5}\n"
     ]
    }
   ],
   "source": [
    "# Another example \n",
    "\n",
    "# Create a dict comprehension where the key is a string in fellowship and the value is the length of the string using member as iterator variable\n",
    "\n",
    "# Create a list of strings: fellowship\n",
    "fellowship = ['frodo', 'samwise', 'merry', 'aragorn', 'legolas', 'boromir', 'gimli']\n",
    "\n",
    "# Create dict comprehension: new_fellowship\n",
    "new_fellowship = {member: len(member) for member in fellowship}\n",
    "\n",
    "# Print the new dictionary\n",
    "print(new_fellowship)"
   ]
  },
  {
   "cell_type": "code",
   "execution_count": null,
   "metadata": {},
   "outputs": [],
   "source": []
  }
 ],
 "metadata": {
  "kernelspec": {
   "display_name": "Python 3",
   "language": "python",
   "name": "python3"
  },
  "language_info": {
   "codemirror_mode": {
    "name": "ipython",
    "version": 3
   },
   "file_extension": ".py",
   "mimetype": "text/x-python",
   "name": "python",
   "nbconvert_exporter": "python",
   "pygments_lexer": "ipython3",
   "version": "3.6.4"
  }
 },
 "nbformat": 4,
 "nbformat_minor": 2
}
